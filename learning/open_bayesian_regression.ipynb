{
 "cells": [
  {
   "cell_type": "markdown",
   "metadata": {},
   "source": [
    "# open bayesian regression\n",
    "The below notebook will attempt to regress individual 2018 Reebok CrossFit Games Open workout scores using other Open workouts *and* benchmark metrics from athlete profiles. Here, the regression is the score the athlete attained on the workout and *not* their placement relative to other individuals. For example, if an athlete got 10 reps on a 1 minute AMRAP workout, then their score would be 10."
   ]
  },
  {
   "cell_type": "markdown",
   "metadata": {},
   "source": [
    "## imports"
   ]
  },
  {
   "cell_type": "code",
   "execution_count": 73,
   "metadata": {
    "collapsed": true
   },
   "outputs": [],
   "source": [
    "#pandas (dataframes)\n",
    "import pandas as pd\n",
    "#pymysql (mysql connector)\n",
    "import pymysql as pms\n",
    "#numpy (reshaping data)\n",
    "import numpy as np\n",
    "#scikit-learn\n",
    "#regression\n",
    "from sklearn.linear_model import LinearRegression\n",
    "#train/test split\n",
    "from sklearn.model_selection import train_test_split\n",
    "#error calculation\n",
    "from sklearn.metrics import mean_squared_error\n",
    "#feature scaling\n",
    "from sklearn.preprocessing import MinMaxScaler\n",
    "#plotting\n",
    "import matplotlib.pyplot as plt\n",
    "import seaborn as sb\n",
    "%matplotlib inline\n",
    "\n",
    "# use for implementing custom modules\n",
    "import sys\n",
    "sys.path.insert(0, \"../custom_modules/\")\n",
    "\n",
    "#custom modules\n",
    "#grabbing data\n",
    "from dataframer import grab_data\n",
    "#seaborn styling\n",
    "import seaborn_styler as sbs\n",
    "#outlier/normal data separator\n",
    "from outlier_filter import separate_outliers"
   ]
  },
  {
   "cell_type": "markdown",
   "metadata": {},
   "source": [
    "### stylize seaborn\n",
    "This only needs to be done once, and can be done anywhere prior to using Seaborn to achieve the intended styling."
   ]
  },
  {
   "cell_type": "code",
   "execution_count": 2,
   "metadata": {
    "collapsed": true
   },
   "outputs": [],
   "source": [
    "sbs.stylize()"
   ]
  },
  {
   "cell_type": "markdown",
   "metadata": {},
   "source": [
    "## getting database credentials\n",
    "The database credentials can be read in from file. Note that this file is ignored in the public repo, so you'll need to make a version which corresponds to your database."
   ]
  },
  {
   "cell_type": "code",
   "execution_count": 3,
   "metadata": {
    "collapsed": true
   },
   "outputs": [],
   "source": [
    "#this list object is passed around to functions requiring database access\n",
    "#...the functions will open/close the connection themselves during calls\n",
    "creds = []\n",
    "#database credentials are stored in this file\n",
    "with open(\"../database_credentials2.txt\") as f:\n",
    "    db_user = f.readline().strip()\n",
    "    db_pass = f.readline().strip()\n",
    "    db_name = f.readline().strip()\n",
    "    db_host = f.readline().strip()\n",
    "    creds = [db_host, db_user, db_pass,db_name]"
   ]
  },
  {
   "cell_type": "markdown",
   "metadata": {},
   "source": [
    "## grabbing the data\n",
    "At the time of writing this notebook, division 18 (Men's 35-39) has the most complete open entries. Therefore, we'll use this division for regression. Later, all division data can be scraped, and we can one hot encode the division_id labels.\n",
    "\n",
    "For predictors, we'll use the Open workouts. There are 6 of them, 5 of which are metcons and 1 of which is a test of olympic weightlifting under fatigue. The independent variables we'll use here will be athlete profile benchmark statistics. These are a mix of strength and endurance tests."
   ]
  },
  {
   "cell_type": "markdown",
   "metadata": {},
   "source": [
    "### open workouts\n",
    "Because of the way the data was filtered during scraping, any athletes who scaled/DNF(did not finish) were not written to the database. Because of this, no `WHERE` criteria is necessary."
   ]
  },
  {
   "cell_type": "code",
   "execution_count": 4,
   "metadata": {},
   "outputs": [
    {
     "data": {
      "text/html": [
       "<div>\n",
       "<style>\n",
       "    .dataframe thead tr:only-child th {\n",
       "        text-align: right;\n",
       "    }\n",
       "\n",
       "    .dataframe thead th {\n",
       "        text-align: left;\n",
       "    }\n",
       "\n",
       "    .dataframe tbody tr th {\n",
       "        vertical-align: top;\n",
       "    }\n",
       "</style>\n",
       "<table border=\"1\" class=\"dataframe\">\n",
       "  <thead>\n",
       "    <tr style=\"text-align: right;\">\n",
       "      <th></th>\n",
       "      <th>id</th>\n",
       "      <th>leaderboard_18_1_reps</th>\n",
       "      <th>leaderboard_18_2_time_secs</th>\n",
       "      <th>leaderboard_18_2a_weight_lbs</th>\n",
       "      <th>leaderboard_18_3_time_secs</th>\n",
       "      <th>leaderboard_18_4_time_secs</th>\n",
       "      <th>leaderboard_18_5_reps</th>\n",
       "    </tr>\n",
       "  </thead>\n",
       "  <tbody>\n",
       "    <tr>\n",
       "      <th>0</th>\n",
       "      <td>86</td>\n",
       "      <td>328</td>\n",
       "      <td>651</td>\n",
       "      <td>207</td>\n",
       "      <td>1373</td>\n",
       "      <td>637</td>\n",
       "      <td>77</td>\n",
       "    </tr>\n",
       "    <tr>\n",
       "      <th>1</th>\n",
       "      <td>93</td>\n",
       "      <td>309</td>\n",
       "      <td>480</td>\n",
       "      <td>235</td>\n",
       "      <td>1548</td>\n",
       "      <td>642</td>\n",
       "      <td>94</td>\n",
       "    </tr>\n",
       "    <tr>\n",
       "      <th>2</th>\n",
       "      <td>1636</td>\n",
       "      <td>402</td>\n",
       "      <td>316</td>\n",
       "      <td>260</td>\n",
       "      <td>1148</td>\n",
       "      <td>577</td>\n",
       "      <td>123</td>\n",
       "    </tr>\n",
       "  </tbody>\n",
       "</table>\n",
       "</div>"
      ],
      "text/plain": [
       "     id  leaderboard_18_1_reps  leaderboard_18_2_time_secs  \\\n",
       "0    86                    328                         651   \n",
       "1    93                    309                         480   \n",
       "2  1636                    402                         316   \n",
       "\n",
       "   leaderboard_18_2a_weight_lbs  leaderboard_18_3_time_secs  \\\n",
       "0                           207                        1373   \n",
       "1                           235                        1548   \n",
       "2                           260                        1148   \n",
       "\n",
       "   leaderboard_18_4_time_secs  leaderboard_18_5_reps  \n",
       "0                         637                     77  \n",
       "1                         642                     94  \n",
       "2                         577                    123  "
      ]
     },
     "execution_count": 4,
     "metadata": {},
     "output_type": "execute_result"
    }
   ],
   "source": [
    "#read into dataframe\n",
    "open_keys = list(map(lambda x: \"leaderboard_18_\" + x, [\n",
    "    \"1_reps\",\n",
    "    \"2_time_secs\",\n",
    "    \"2a_weight_lbs\",\n",
    "    \"3_time_secs\",\n",
    "    \"4_time_secs\",\n",
    "    \"5_reps\"\n",
    "]))\n",
    "working_division = 18\n",
    "\n",
    "open_data = grab_data(\n",
    "    \"\"\"\n",
    "    SELECT id, {}\n",
    "    FROM athlete\n",
    "    WHERE division_id={}\n",
    "    \"\"\".format(\n",
    "        \", \".join(open_keys), working_division\n",
    "    ),\n",
    "    creds\n",
    ")\n",
    "\n",
    "open_data.head(3)"
   ]
  },
  {
   "cell_type": "code",
   "execution_count": 5,
   "metadata": {},
   "outputs": [
    {
     "data": {
      "text/html": [
       "<div>\n",
       "<style>\n",
       "    .dataframe thead tr:only-child th {\n",
       "        text-align: right;\n",
       "    }\n",
       "\n",
       "    .dataframe thead th {\n",
       "        text-align: left;\n",
       "    }\n",
       "\n",
       "    .dataframe tbody tr th {\n",
       "        vertical-align: top;\n",
       "    }\n",
       "</style>\n",
       "<table border=\"1\" class=\"dataframe\">\n",
       "  <thead>\n",
       "    <tr style=\"text-align: right;\">\n",
       "      <th></th>\n",
       "      <th>leaderboard_18_1_reps</th>\n",
       "      <th>leaderboard_18_2_time_secs</th>\n",
       "      <th>leaderboard_18_2a_weight_lbs</th>\n",
       "      <th>leaderboard_18_3_time_secs</th>\n",
       "      <th>leaderboard_18_4_time_secs</th>\n",
       "      <th>leaderboard_18_5_reps</th>\n",
       "    </tr>\n",
       "  </thead>\n",
       "  <tbody>\n",
       "    <tr>\n",
       "      <th>count</th>\n",
       "      <td>24544.000000</td>\n",
       "      <td>24544.000000</td>\n",
       "      <td>24544.000000</td>\n",
       "      <td>24544.000000</td>\n",
       "      <td>24544.000000</td>\n",
       "      <td>24544.000000</td>\n",
       "    </tr>\n",
       "    <tr>\n",
       "      <th>mean</th>\n",
       "      <td>281.465328</td>\n",
       "      <td>510.212842</td>\n",
       "      <td>211.107847</td>\n",
       "      <td>1375.548607</td>\n",
       "      <td>579.615751</td>\n",
       "      <td>78.611392</td>\n",
       "    </tr>\n",
       "    <tr>\n",
       "      <th>std</th>\n",
       "      <td>58.750398</td>\n",
       "      <td>112.649086</td>\n",
       "      <td>57.220177</td>\n",
       "      <td>366.248177</td>\n",
       "      <td>176.915058</td>\n",
       "      <td>33.489441</td>\n",
       "    </tr>\n",
       "    <tr>\n",
       "      <th>min</th>\n",
       "      <td>-1.000000</td>\n",
       "      <td>-1.000000</td>\n",
       "      <td>-1.000000</td>\n",
       "      <td>-1.000000</td>\n",
       "      <td>-1.000000</td>\n",
       "      <td>-1.000000</td>\n",
       "    </tr>\n",
       "    <tr>\n",
       "      <th>25%</th>\n",
       "      <td>255.000000</td>\n",
       "      <td>442.000000</td>\n",
       "      <td>188.000000</td>\n",
       "      <td>1312.000000</td>\n",
       "      <td>604.000000</td>\n",
       "      <td>70.000000</td>\n",
       "    </tr>\n",
       "    <tr>\n",
       "      <th>50%</th>\n",
       "      <td>284.000000</td>\n",
       "      <td>511.000000</td>\n",
       "      <td>217.000000</td>\n",
       "      <td>1539.000000</td>\n",
       "      <td>623.000000</td>\n",
       "      <td>84.000000</td>\n",
       "    </tr>\n",
       "    <tr>\n",
       "      <th>75%</th>\n",
       "      <td>319.000000</td>\n",
       "      <td>585.000000</td>\n",
       "      <td>245.000000</td>\n",
       "      <td>1548.000000</td>\n",
       "      <td>647.000000</td>\n",
       "      <td>99.000000</td>\n",
       "    </tr>\n",
       "    <tr>\n",
       "      <th>max</th>\n",
       "      <td>470.000000</td>\n",
       "      <td>829.000000</td>\n",
       "      <td>379.000000</td>\n",
       "      <td>1767.000000</td>\n",
       "      <td>704.000000</td>\n",
       "      <td>191.000000</td>\n",
       "    </tr>\n",
       "  </tbody>\n",
       "</table>\n",
       "</div>"
      ],
      "text/plain": [
       "       leaderboard_18_1_reps  leaderboard_18_2_time_secs  \\\n",
       "count           24544.000000                24544.000000   \n",
       "mean              281.465328                  510.212842   \n",
       "std                58.750398                  112.649086   \n",
       "min                -1.000000                   -1.000000   \n",
       "25%               255.000000                  442.000000   \n",
       "50%               284.000000                  511.000000   \n",
       "75%               319.000000                  585.000000   \n",
       "max               470.000000                  829.000000   \n",
       "\n",
       "       leaderboard_18_2a_weight_lbs  leaderboard_18_3_time_secs  \\\n",
       "count                  24544.000000                24544.000000   \n",
       "mean                     211.107847                 1375.548607   \n",
       "std                       57.220177                  366.248177   \n",
       "min                       -1.000000                   -1.000000   \n",
       "25%                      188.000000                 1312.000000   \n",
       "50%                      217.000000                 1539.000000   \n",
       "75%                      245.000000                 1548.000000   \n",
       "max                      379.000000                 1767.000000   \n",
       "\n",
       "       leaderboard_18_4_time_secs  leaderboard_18_5_reps  \n",
       "count                24544.000000           24544.000000  \n",
       "mean                   579.615751              78.611392  \n",
       "std                    176.915058              33.489441  \n",
       "min                     -1.000000              -1.000000  \n",
       "25%                    604.000000              70.000000  \n",
       "50%                    623.000000              84.000000  \n",
       "75%                    647.000000              99.000000  \n",
       "max                    704.000000             191.000000  "
      ]
     },
     "execution_count": 5,
     "metadata": {},
     "output_type": "execute_result"
    }
   ],
   "source": [
    "open_data.drop([\"id\"], axis=1).describe()"
   ]
  },
  {
   "cell_type": "markdown",
   "metadata": {},
   "source": [
    "### benchmark workouts\n",
    "Although the Open workouts are complete for each entry in the database, the athlete profiles will not be. In fact, *most* athletes do not publish their benchmark stats in a complete manner. To see this, let's try and get the athletes which we have complete benchmark data for.\n",
    "\n",
    "\n",
    "#### note on fight gone bad\n",
    "Fight gone bad is a staple workout in CrossFit. Because of a oversight during scraping implementation, all of the first 130,743 athletes have invalid fight gone bad scores marked as -2 (when an entry was given). Because of this, fight gone bad is ignored during this analysis."
   ]
  },
  {
   "cell_type": "code",
   "execution_count": 6,
   "metadata": {},
   "outputs": [
    {
     "data": {
      "text/html": [
       "<div>\n",
       "<style>\n",
       "    .dataframe thead tr:only-child th {\n",
       "        text-align: right;\n",
       "    }\n",
       "\n",
       "    .dataframe thead th {\n",
       "        text-align: left;\n",
       "    }\n",
       "\n",
       "    .dataframe tbody tr th {\n",
       "        vertical-align: top;\n",
       "    }\n",
       "</style>\n",
       "<table border=\"1\" class=\"dataframe\">\n",
       "  <thead>\n",
       "    <tr style=\"text-align: right;\">\n",
       "      <th></th>\n",
       "      <th>id</th>\n",
       "      <th>back_squat_lbs</th>\n",
       "      <th>clean_and_jerk_lbs</th>\n",
       "      <th>snatch_lbs</th>\n",
       "      <th>deadlift_lbs</th>\n",
       "      <th>max_pull_ups</th>\n",
       "      <th>fran_time_secs</th>\n",
       "      <th>grace_time_secs</th>\n",
       "      <th>helen_time_secs</th>\n",
       "      <th>filthy_50_time_secs</th>\n",
       "      <th>sprint_400_m_time_secs</th>\n",
       "      <th>run_5_km_time_secs</th>\n",
       "    </tr>\n",
       "  </thead>\n",
       "  <tbody>\n",
       "    <tr>\n",
       "      <th>0</th>\n",
       "      <td>86</td>\n",
       "      <td>335</td>\n",
       "      <td>265</td>\n",
       "      <td>210</td>\n",
       "      <td>415</td>\n",
       "      <td>32</td>\n",
       "      <td>226</td>\n",
       "      <td>174</td>\n",
       "      <td>496</td>\n",
       "      <td>1287</td>\n",
       "      <td>64</td>\n",
       "      <td>1325</td>\n",
       "    </tr>\n",
       "    <tr>\n",
       "      <th>1</th>\n",
       "      <td>93</td>\n",
       "      <td>305</td>\n",
       "      <td>235</td>\n",
       "      <td>185</td>\n",
       "      <td>355</td>\n",
       "      <td>45</td>\n",
       "      <td>220</td>\n",
       "      <td>154</td>\n",
       "      <td>493</td>\n",
       "      <td>1500</td>\n",
       "      <td>62</td>\n",
       "      <td>1239</td>\n",
       "    </tr>\n",
       "    <tr>\n",
       "      <th>2</th>\n",
       "      <td>1636</td>\n",
       "      <td>400</td>\n",
       "      <td>285</td>\n",
       "      <td>215</td>\n",
       "      <td>485</td>\n",
       "      <td>67</td>\n",
       "      <td>138</td>\n",
       "      <td>108</td>\n",
       "      <td>429</td>\n",
       "      <td>1056</td>\n",
       "      <td>58</td>\n",
       "      <td>1219</td>\n",
       "    </tr>\n",
       "  </tbody>\n",
       "</table>\n",
       "</div>"
      ],
      "text/plain": [
       "     id  back_squat_lbs  clean_and_jerk_lbs  snatch_lbs  deadlift_lbs  \\\n",
       "0    86             335                 265         210           415   \n",
       "1    93             305                 235         185           355   \n",
       "2  1636             400                 285         215           485   \n",
       "\n",
       "   max_pull_ups  fran_time_secs  grace_time_secs  helen_time_secs  \\\n",
       "0            32             226              174              496   \n",
       "1            45             220              154              493   \n",
       "2            67             138              108              429   \n",
       "\n",
       "   filthy_50_time_secs  sprint_400_m_time_secs  run_5_km_time_secs  \n",
       "0                 1287                      64                1325  \n",
       "1                 1500                      62                1239  \n",
       "2                 1056                      58                1219  "
      ]
     },
     "execution_count": 6,
     "metadata": {},
     "output_type": "execute_result"
    }
   ],
   "source": [
    "benchmark_keys = [\n",
    "    \"back_squat_lbs\",\n",
    "    \"clean_and_jerk_lbs\",\n",
    "    \"snatch_lbs\",\n",
    "    \"deadlift_lbs\",\n",
    "    #\"fight_gone_bad_reps\",\n",
    "    \"max_pull_ups\",\n",
    "    \"fran_time_secs\",\n",
    "    \"grace_time_secs\",\n",
    "    \"helen_time_secs\",\n",
    "    \"filthy_50_time_secs\",\n",
    "    \"sprint_400_m_time_secs\",\n",
    "    \"run_5_km_time_secs\"\n",
    "]\n",
    "\n",
    "benchmark_data = grab_data(\n",
    "    \"\"\"\n",
    "    SELECT id, {}\n",
    "    FROM athlete\n",
    "    WHERE {}\n",
    "        AND division_id = {}\n",
    "        AND max_pull_ups !=- 2\n",
    "    \"\"\".format(\n",
    "        #key_a, key_b, ...\n",
    "        \", \".join(benchmark_keys),\n",
    "        #key_a != -1, key_b != -1, ...\n",
    "        \" AND \".join(list(map(lambda x: x + \" != -1\", benchmark_keys))),\n",
    "        working_division\n",
    "    ),\n",
    "    creds\n",
    ")\n",
    "\n",
    "benchmark_data.head(3)"
   ]
  },
  {
   "cell_type": "markdown",
   "metadata": {},
   "source": [
    "The below version of `benchmark_data` without the ID column is used throughout the notebook for iteration."
   ]
  },
  {
   "cell_type": "code",
   "execution_count": 7,
   "metadata": {},
   "outputs": [
    {
     "data": {
      "text/html": [
       "<div>\n",
       "<style>\n",
       "    .dataframe thead tr:only-child th {\n",
       "        text-align: right;\n",
       "    }\n",
       "\n",
       "    .dataframe thead th {\n",
       "        text-align: left;\n",
       "    }\n",
       "\n",
       "    .dataframe tbody tr th {\n",
       "        vertical-align: top;\n",
       "    }\n",
       "</style>\n",
       "<table border=\"1\" class=\"dataframe\">\n",
       "  <thead>\n",
       "    <tr style=\"text-align: right;\">\n",
       "      <th></th>\n",
       "      <th>back_squat_lbs</th>\n",
       "      <th>clean_and_jerk_lbs</th>\n",
       "      <th>snatch_lbs</th>\n",
       "      <th>deadlift_lbs</th>\n",
       "      <th>max_pull_ups</th>\n",
       "      <th>fran_time_secs</th>\n",
       "      <th>grace_time_secs</th>\n",
       "      <th>helen_time_secs</th>\n",
       "      <th>filthy_50_time_secs</th>\n",
       "      <th>sprint_400_m_time_secs</th>\n",
       "      <th>run_5_km_time_secs</th>\n",
       "    </tr>\n",
       "  </thead>\n",
       "  <tbody>\n",
       "    <tr>\n",
       "      <th>count</th>\n",
       "      <td>556.000000</td>\n",
       "      <td>556.000000</td>\n",
       "      <td>556.000000</td>\n",
       "      <td>556.000000</td>\n",
       "      <td>556.000000</td>\n",
       "      <td>556.000000</td>\n",
       "      <td>556.000000</td>\n",
       "      <td>556.000000</td>\n",
       "      <td>556.000000</td>\n",
       "      <td>556.000000</td>\n",
       "      <td>556.000000</td>\n",
       "    </tr>\n",
       "    <tr>\n",
       "      <th>mean</th>\n",
       "      <td>358.257194</td>\n",
       "      <td>254.546763</td>\n",
       "      <td>202.480216</td>\n",
       "      <td>435.949640</td>\n",
       "      <td>39.976619</td>\n",
       "      <td>268.931655</td>\n",
       "      <td>262.055755</td>\n",
       "      <td>572.672662</td>\n",
       "      <td>1463.692446</td>\n",
       "      <td>122.631295</td>\n",
       "      <td>1351.856115</td>\n",
       "    </tr>\n",
       "    <tr>\n",
       "      <th>std</th>\n",
       "      <td>72.477648</td>\n",
       "      <td>47.007720</td>\n",
       "      <td>120.673133</td>\n",
       "      <td>79.178264</td>\n",
       "      <td>15.591907</td>\n",
       "      <td>409.283323</td>\n",
       "      <td>1325.064417</td>\n",
       "      <td>381.082542</td>\n",
       "      <td>516.225184</td>\n",
       "      <td>435.423897</td>\n",
       "      <td>424.966077</td>\n",
       "    </tr>\n",
       "    <tr>\n",
       "      <th>min</th>\n",
       "      <td>2.000000</td>\n",
       "      <td>10.000000</td>\n",
       "      <td>10.000000</td>\n",
       "      <td>10.000000</td>\n",
       "      <td>1.000000</td>\n",
       "      <td>119.000000</td>\n",
       "      <td>30.000000</td>\n",
       "      <td>60.000000</td>\n",
       "      <td>50.000000</td>\n",
       "      <td>2.000000</td>\n",
       "      <td>153.000000</td>\n",
       "    </tr>\n",
       "    <tr>\n",
       "      <th>25%</th>\n",
       "      <td>315.000000</td>\n",
       "      <td>225.000000</td>\n",
       "      <td>175.000000</td>\n",
       "      <td>396.000000</td>\n",
       "      <td>30.000000</td>\n",
       "      <td>165.000000</td>\n",
       "      <td>120.000000</td>\n",
       "      <td>477.000000</td>\n",
       "      <td>1167.500000</td>\n",
       "      <td>60.000000</td>\n",
       "      <td>1200.000000</td>\n",
       "    </tr>\n",
       "    <tr>\n",
       "      <th>50%</th>\n",
       "      <td>355.000000</td>\n",
       "      <td>255.000000</td>\n",
       "      <td>198.000000</td>\n",
       "      <td>440.000000</td>\n",
       "      <td>40.000000</td>\n",
       "      <td>209.000000</td>\n",
       "      <td>150.000000</td>\n",
       "      <td>523.500000</td>\n",
       "      <td>1375.000000</td>\n",
       "      <td>65.000000</td>\n",
       "      <td>1286.000000</td>\n",
       "    </tr>\n",
       "    <tr>\n",
       "      <th>75%</th>\n",
       "      <td>400.000000</td>\n",
       "      <td>285.000000</td>\n",
       "      <td>225.000000</td>\n",
       "      <td>485.000000</td>\n",
       "      <td>50.000000</td>\n",
       "      <td>276.250000</td>\n",
       "      <td>204.000000</td>\n",
       "      <td>587.000000</td>\n",
       "      <td>1620.000000</td>\n",
       "      <td>74.000000</td>\n",
       "      <td>1404.250000</td>\n",
       "    </tr>\n",
       "    <tr>\n",
       "      <th>max</th>\n",
       "      <td>715.000000</td>\n",
       "      <td>444.000000</td>\n",
       "      <td>2875.000000</td>\n",
       "      <td>726.000000</td>\n",
       "      <td>112.000000</td>\n",
       "      <td>5955.000000</td>\n",
       "      <td>30002.000000</td>\n",
       "      <td>5955.000000</td>\n",
       "      <td>5955.000000</td>\n",
       "      <td>5940.000000</td>\n",
       "      <td>6039.000000</td>\n",
       "    </tr>\n",
       "  </tbody>\n",
       "</table>\n",
       "</div>"
      ],
      "text/plain": [
       "       back_squat_lbs  clean_and_jerk_lbs   snatch_lbs  deadlift_lbs  \\\n",
       "count      556.000000          556.000000   556.000000    556.000000   \n",
       "mean       358.257194          254.546763   202.480216    435.949640   \n",
       "std         72.477648           47.007720   120.673133     79.178264   \n",
       "min          2.000000           10.000000    10.000000     10.000000   \n",
       "25%        315.000000          225.000000   175.000000    396.000000   \n",
       "50%        355.000000          255.000000   198.000000    440.000000   \n",
       "75%        400.000000          285.000000   225.000000    485.000000   \n",
       "max        715.000000          444.000000  2875.000000    726.000000   \n",
       "\n",
       "       max_pull_ups  fran_time_secs  grace_time_secs  helen_time_secs  \\\n",
       "count    556.000000      556.000000       556.000000       556.000000   \n",
       "mean      39.976619      268.931655       262.055755       572.672662   \n",
       "std       15.591907      409.283323      1325.064417       381.082542   \n",
       "min        1.000000      119.000000        30.000000        60.000000   \n",
       "25%       30.000000      165.000000       120.000000       477.000000   \n",
       "50%       40.000000      209.000000       150.000000       523.500000   \n",
       "75%       50.000000      276.250000       204.000000       587.000000   \n",
       "max      112.000000     5955.000000     30002.000000      5955.000000   \n",
       "\n",
       "       filthy_50_time_secs  sprint_400_m_time_secs  run_5_km_time_secs  \n",
       "count           556.000000              556.000000          556.000000  \n",
       "mean           1463.692446              122.631295         1351.856115  \n",
       "std             516.225184              435.423897          424.966077  \n",
       "min              50.000000                2.000000          153.000000  \n",
       "25%            1167.500000               60.000000         1200.000000  \n",
       "50%            1375.000000               65.000000         1286.000000  \n",
       "75%            1620.000000               74.000000         1404.250000  \n",
       "max            5955.000000             5940.000000         6039.000000  "
      ]
     },
     "execution_count": 7,
     "metadata": {},
     "output_type": "execute_result"
    }
   ],
   "source": [
    "noid_benchmark_df = benchmark_data.drop([\"id\"], axis=1)\n",
    "noid_benchmark_df.describe()"
   ]
  },
  {
   "cell_type": "markdown",
   "metadata": {
    "collapsed": true
   },
   "source": [
    "## filtering the open data\n",
    "Although this filtered dataset is quite small (athletes with complete open profiles), it can still be useful for dimensionality reduction and model evaluation. For exmpaple, specific Open workouts may not exhibit a relationship/dependency on metrics like `deadlift_lbs`. In these cases, athletes who have not filled out the deadlift field on their athlete profile can be included in such a workout analysis.\n",
    "\n",
    "Below we'll filter the Open data to only those athletes contained in the benchmark dataframe."
   ]
  },
  {
   "cell_type": "code",
   "execution_count": 8,
   "metadata": {},
   "outputs": [
    {
     "data": {
      "text/html": [
       "<div>\n",
       "<style>\n",
       "    .dataframe thead tr:only-child th {\n",
       "        text-align: right;\n",
       "    }\n",
       "\n",
       "    .dataframe thead th {\n",
       "        text-align: left;\n",
       "    }\n",
       "\n",
       "    .dataframe tbody tr th {\n",
       "        vertical-align: top;\n",
       "    }\n",
       "</style>\n",
       "<table border=\"1\" class=\"dataframe\">\n",
       "  <thead>\n",
       "    <tr style=\"text-align: right;\">\n",
       "      <th></th>\n",
       "      <th>id</th>\n",
       "      <th>leaderboard_18_1_reps</th>\n",
       "      <th>leaderboard_18_2_time_secs</th>\n",
       "      <th>leaderboard_18_2a_weight_lbs</th>\n",
       "      <th>leaderboard_18_3_time_secs</th>\n",
       "      <th>leaderboard_18_4_time_secs</th>\n",
       "      <th>leaderboard_18_5_reps</th>\n",
       "    </tr>\n",
       "  </thead>\n",
       "  <tbody>\n",
       "    <tr>\n",
       "      <th>0</th>\n",
       "      <td>86</td>\n",
       "      <td>328</td>\n",
       "      <td>651</td>\n",
       "      <td>207</td>\n",
       "      <td>1373</td>\n",
       "      <td>637</td>\n",
       "      <td>77</td>\n",
       "    </tr>\n",
       "    <tr>\n",
       "      <th>1</th>\n",
       "      <td>93</td>\n",
       "      <td>309</td>\n",
       "      <td>480</td>\n",
       "      <td>235</td>\n",
       "      <td>1548</td>\n",
       "      <td>642</td>\n",
       "      <td>94</td>\n",
       "    </tr>\n",
       "    <tr>\n",
       "      <th>2</th>\n",
       "      <td>1636</td>\n",
       "      <td>402</td>\n",
       "      <td>316</td>\n",
       "      <td>260</td>\n",
       "      <td>1148</td>\n",
       "      <td>577</td>\n",
       "      <td>123</td>\n",
       "    </tr>\n",
       "  </tbody>\n",
       "</table>\n",
       "</div>"
      ],
      "text/plain": [
       "     id  leaderboard_18_1_reps  leaderboard_18_2_time_secs  \\\n",
       "0    86                    328                         651   \n",
       "1    93                    309                         480   \n",
       "2  1636                    402                         316   \n",
       "\n",
       "   leaderboard_18_2a_weight_lbs  leaderboard_18_3_time_secs  \\\n",
       "0                           207                        1373   \n",
       "1                           235                        1548   \n",
       "2                           260                        1148   \n",
       "\n",
       "   leaderboard_18_4_time_secs  leaderboard_18_5_reps  \n",
       "0                         637                     77  \n",
       "1                         642                     94  \n",
       "2                         577                    123  "
      ]
     },
     "execution_count": 8,
     "metadata": {},
     "output_type": "execute_result"
    }
   ],
   "source": [
    "filtered_open_df = open_data[open_data[\"id\"].isin(benchmark_data[\"id\"])]\n",
    "\n",
    "#example data\n",
    "filtered_open_df.head(3)"
   ]
  },
  {
   "cell_type": "markdown",
   "metadata": {},
   "source": [
    "## outlier detection\n",
    "Although there is a great amount of filtering that happens during data scraping, some outlier-like data is bound to slip in. To see this, look at the max row in the `benchmark_stats` describe call a 3 cells above. In order to filter outliers, we'll first plot 1-dimensional scatterplots for each of the benchmark stats. Notice how we're only talking about the benchmark stats. We're relying on CrossFit HQ's score validation to ensure integrity of Open scores (athletes submit scores to CrossFit and they have the ability to review/reject/adjust scores accordingly)."
   ]
  },
  {
   "cell_type": "code",
   "execution_count": 9,
   "metadata": {
    "collapsed": true
   },
   "outputs": [],
   "source": [
    "benchmark_colors = [\"#0099ff\", \"#ff0059\", \"#66ff33\"]"
   ]
  },
  {
   "cell_type": "code",
   "execution_count": 10,
   "metadata": {},
   "outputs": [
    {
     "data": {
      "image/png": "[encoded data removed]",
      "text/plain": [
       "<matplotlib.figure.Figure at 0x20ce7297c50>"
      ]
     },
     "metadata": {},
     "output_type": "display_data"
    },
    {
     "data": {
      "image/png": "[encoded data removed]",
      "text/plain": [
       "<matplotlib.figure.Figure at 0x20ce72bea90>"
      ]
     },
     "metadata": {},
     "output_type": "display_data"
    },
    {
     "data": {
      "image/png": "[encoded data removed]",
      "text/plain": [
       "<matplotlib.figure.Figure at 0x20ce764f128>"
      ]
     },
     "metadata": {},
     "output_type": "display_data"
    },
    {
     "data": {
      "image/png": "[encoded data removed]",
      "text/plain": [
       "<matplotlib.figure.Figure at 0x20ce7709c50>"
      ]
     },
     "metadata": {},
     "output_type": "display_data"
    },
    {
     "data": {
      "image/png": "[encoded data removed]",
      "text/plain": [
       "<matplotlib.figure.Figure at 0x20ce777dc88>"
      ]
     },
     "metadata": {},
     "output_type": "display_data"
    },
    {
     "data": {
      "image/png": "[encoded data removed]",
      "text/plain": [
       "<matplotlib.figure.Figure at 0x20ce77feeb8>"
      ]
     },
     "metadata": {},
     "output_type": "display_data"
    },
    {
     "data": {
      "image/png": "[encoded data removed]",
      "text/plain": [
       "<matplotlib.figure.Figure at 0x20ce8c6a550>"
      ]
     },
     "metadata": {},
     "output_type": "display_data"
    },
    {
     "data": {
      "image/png": "[encoded data removed]",
      "text/plain": [
       "<matplotlib.figure.Figure at 0x20ce8ce2438>"
      ]
     },
     "metadata": {},
     "output_type": "display_data"
    },
    {
     "data": {
      "image/png": "[encoded data removed]",
      "text/plain": [
       "<matplotlib.figure.Figure at 0x20ce77d7e48>"
      ]
     },
     "metadata": {},
     "output_type": "display_data"
    },
    {
     "data": {
      "image/png": "[encoded data removed]",
      "text/plain": [
       "<matplotlib.figure.Figure at 0x20ce72c91d0>"
      ]
     },
     "metadata": {},
     "output_type": "display_data"
    },
    {
     "data": {
      "image/png": "[encoded data removed]",
      "text/plain": [
       "<matplotlib.figure.Figure at 0x20ce729dac8>"
      ]
     },
     "metadata": {},
     "output_type": "display_data"
    }
   ],
   "source": [
    "for i in range(len(noid_benchmark_df.columns)):\n",
    "    #get column reference\n",
    "    c = noid_benchmark_df.columns[i]\n",
    "    sb.regplot(\n",
    "        #x values\n",
    "        noid_benchmark_df[c],\n",
    "        #shift each 1d scatterplot up by 1 in the y axis\n",
    "        np.zeros_like(noid_benchmark_df[c]),\n",
    "        color=benchmark_colors[i % len(benchmark_colors)],\n",
    "        fit_reg=False,\n",
    "        marker=\"|\",\n",
    "        scatter_kws={\"s\": 2500}\n",
    "    )\n",
    "    #show individual plot\n",
    "    c_words = c.split(\"_\")\n",
    "    plt.xlabel(c_words[-1] if c_words[-1] != \"ups\" else \"reps\")\n",
    "    plt.title(c.replace(\"_\", \" \").title())\n",
    "    plt.show()\n",
    "        "
   ]
  },
  {
   "cell_type": "markdown",
   "metadata": {},
   "source": [
    "### analyzing the graphs\n",
    "Below we'll breakdown the workout behind each graph and what kind of entry we'll consider an outlier for each:\n",
    "* back squat\n",
    "    * Reasonable [back squat](https://www.youtube.com/watch?v=nOAqpYcyMGs) numbers are anything less than 1000 lbs. However, if an athlete has a backsquat exceeding 3x bodyweight, this is considered advanced strength and should be examined more carefully. To observe this, we'll need to grab the body weight for each of these athletes. Furthermore, we'll do this for clean and jerk, snatch, and deadlift as well.\n",
    "* clean and jerk\n",
    "    * From the graph distribution, most of these [clean and jerk](https://www.youtube.com/watch?v=58he7Xcwfws) entries seem reasonable (with the exception of the values < 100 lbs). Still, we'll replot these versus athlete bodyweight for confirmation.\n",
    "* snatch\n",
    "    * There's no way somebody is [snatching](https://www.youtube.com/watch?v=FBV-Xw640vQ) 600+ lbs in CrossFit in 2018, so the guy with an entry of 2800+lbs will be removed before replotting vs. bodyweight. Additionally, there are some suspiciously high entries (seeming 300-400 lbs range), so we'll look at these too.\n",
    "* deadlift\n",
    "    * Most of these [deadlift](https://www.youtube.com/watch?v=QY9F5-qB5QE) entries seem reasonable. Even the 700 lbs entries are possible, but we'll hold >= 700 and <= 200 as suspicious for the time being.\n",
    "* max pull ups\n",
    "    * [Butterfly/kipping](https://www.youtube.com/watch?v=Jp7-5gbtfOY) and [strict](https://www.youtube.com/watch?v=FC74Pa9WTVw) pullups are very difficult to achieve high repitions on (50+ for butterfly/kipping, 30+ for strict). Most if not all of the entries on the athlete profile should correspond to a butterfly/kipping variant. Although many athletes have 50-80 pull ups, we'll plot these scores vs. bodyweight, and pay special attention to athletes claiming 90+ reps.\n",
    "* fran\n",
    "    * [Fran](https://www.youtube.com/watch?v=Rlc1O5_43YQ) is meant to be a very fast workout (well under 10 minutes if it's done/scaled properly). Athletes exceeding 600 seconds in their entries most likely haven't updated their profile, are unfit, or, in extremely high-time circumstances, are trolling.\n",
    "* grace\n",
    "    * [Grace](https://www.youtube.com/watch?v=_g__U-nkQts), similar to Fran, should be done very quickly (even faster than Fran). High time athletes will be scrutinized after replotting vs. clean and jerk weight.\n",
    "* helen\n",
    "    * [Helen](https://www.youtube.com/watch?v=-Y4_0QtOTv4) is a fast workout which tests pulling strength and running. This should be evaluated versus a combination of athlete 400m sprints and pullups/deadlifts.\n",
    "* filthy 50\n",
    "    * [Filthy 50](https://www.youtube.com/watch?v=gE0oiHmMdVg) is a long chipper workout. The best time in the world is around ~13 minutes. However, many athletes take close to 30 minutes if they have poor cardio or are not skilled at 1 of the movements. High time scores can be compared to 5k run times, but this is not a great comparison.\n",
    "* sprint 400m\n",
    "    * There's no reason anybody should have a 400m time above 5 minutes (300 secs) unless they have trouble walking. For both runs we'll replot against bodyweight.\n",
    "* run 5km\n",
    "    * If somebody was walking they could walk 5km (3.1) miles in an hour at a moderate pace. Some athletes competing in the Open may not be able to run for whatever reason, so without knowing why a time is high it's hard to tell if it's bogus. However, if an athlete has a good Filthy 50 and a good Helen, it's unlikely they'd have a poor 5km (this comes from CrossFit intuition and prior experience). This is kind of *hand wavey* here, but we don't have much to go off of."
   ]
  },
  {
   "cell_type": "markdown",
   "metadata": {},
   "source": [
    "### replotting the data\n",
    "Below we'll replot and reanalyze the data taking into consideration the thoughts above. First, let's grab the bodyweight (and why not the height) data for these athletes and attach it to our existing benchmark data."
   ]
  },
  {
   "cell_type": "code",
   "execution_count": 21,
   "metadata": {},
   "outputs": [
    {
     "data": {
      "text/html": [
       "<div>\n",
       "<style>\n",
       "    .dataframe thead tr:only-child th {\n",
       "        text-align: right;\n",
       "    }\n",
       "\n",
       "    .dataframe thead th {\n",
       "        text-align: left;\n",
       "    }\n",
       "\n",
       "    .dataframe tbody tr th {\n",
       "        vertical-align: top;\n",
       "    }\n",
       "</style>\n",
       "<table border=\"1\" class=\"dataframe\">\n",
       "  <thead>\n",
       "    <tr style=\"text-align: right;\">\n",
       "      <th></th>\n",
       "      <th>id</th>\n",
       "      <th>height_in</th>\n",
       "      <th>weight_lbs</th>\n",
       "    </tr>\n",
       "  </thead>\n",
       "  <tbody>\n",
       "    <tr>\n",
       "      <th>0</th>\n",
       "      <td>86</td>\n",
       "      <td>77</td>\n",
       "      <td>225</td>\n",
       "    </tr>\n",
       "    <tr>\n",
       "      <th>1</th>\n",
       "      <td>93</td>\n",
       "      <td>72</td>\n",
       "      <td>205</td>\n",
       "    </tr>\n",
       "    <tr>\n",
       "      <th>2</th>\n",
       "      <td>1636</td>\n",
       "      <td>70</td>\n",
       "      <td>200</td>\n",
       "    </tr>\n",
       "  </tbody>\n",
       "</table>\n",
       "</div>"
      ],
      "text/plain": [
       "     id  height_in  weight_lbs\n",
       "0    86         77         225\n",
       "1    93         72         205\n",
       "2  1636         70         200"
      ]
     },
     "execution_count": 21,
     "metadata": {},
     "output_type": "execute_result"
    }
   ],
   "source": [
    "height_weight_data = grab_data(\n",
    "    \"\"\"\n",
    "    SELECT id, height_in, weight_lbs\n",
    "    FROM athlete\n",
    "    WHERE id IN ({})\n",
    "    \"\"\".format(\", \".join([str(i) for i in benchmark_data.id])),\n",
    "    creds\n",
    ")\n",
    "\n",
    "height_weight_data.head(3)"
   ]
  },
  {
   "cell_type": "markdown",
   "metadata": {},
   "source": [
    "Now, let's merge this height_weight_data into the benchmark dataframe."
   ]
  },
  {
   "cell_type": "code",
   "execution_count": 25,
   "metadata": {},
   "outputs": [
    {
     "data": {
      "text/html": [
       "<div>\n",
       "<style>\n",
       "    .dataframe thead tr:only-child th {\n",
       "        text-align: right;\n",
       "    }\n",
       "\n",
       "    .dataframe thead th {\n",
       "        text-align: left;\n",
       "    }\n",
       "\n",
       "    .dataframe tbody tr th {\n",
       "        vertical-align: top;\n",
       "    }\n",
       "</style>\n",
       "<table border=\"1\" class=\"dataframe\">\n",
       "  <thead>\n",
       "    <tr style=\"text-align: right;\">\n",
       "      <th></th>\n",
       "      <th>id</th>\n",
       "      <th>height_in</th>\n",
       "      <th>weight_lbs</th>\n",
       "      <th>back_squat_lbs</th>\n",
       "      <th>clean_and_jerk_lbs</th>\n",
       "      <th>snatch_lbs</th>\n",
       "      <th>deadlift_lbs</th>\n",
       "      <th>max_pull_ups</th>\n",
       "      <th>fran_time_secs</th>\n",
       "      <th>grace_time_secs</th>\n",
       "      <th>helen_time_secs</th>\n",
       "      <th>filthy_50_time_secs</th>\n",
       "      <th>sprint_400_m_time_secs</th>\n",
       "      <th>run_5_km_time_secs</th>\n",
       "    </tr>\n",
       "  </thead>\n",
       "  <tbody>\n",
       "    <tr>\n",
       "      <th>0</th>\n",
       "      <td>86</td>\n",
       "      <td>77</td>\n",
       "      <td>225</td>\n",
       "      <td>335</td>\n",
       "      <td>265</td>\n",
       "      <td>210</td>\n",
       "      <td>415</td>\n",
       "      <td>32</td>\n",
       "      <td>226</td>\n",
       "      <td>174</td>\n",
       "      <td>496</td>\n",
       "      <td>1287</td>\n",
       "      <td>64</td>\n",
       "      <td>1325</td>\n",
       "    </tr>\n",
       "    <tr>\n",
       "      <th>1</th>\n",
       "      <td>93</td>\n",
       "      <td>72</td>\n",
       "      <td>205</td>\n",
       "      <td>305</td>\n",
       "      <td>235</td>\n",
       "      <td>185</td>\n",
       "      <td>355</td>\n",
       "      <td>45</td>\n",
       "      <td>220</td>\n",
       "      <td>154</td>\n",
       "      <td>493</td>\n",
       "      <td>1500</td>\n",
       "      <td>62</td>\n",
       "      <td>1239</td>\n",
       "    </tr>\n",
       "    <tr>\n",
       "      <th>2</th>\n",
       "      <td>1636</td>\n",
       "      <td>70</td>\n",
       "      <td>200</td>\n",
       "      <td>400</td>\n",
       "      <td>285</td>\n",
       "      <td>215</td>\n",
       "      <td>485</td>\n",
       "      <td>67</td>\n",
       "      <td>138</td>\n",
       "      <td>108</td>\n",
       "      <td>429</td>\n",
       "      <td>1056</td>\n",
       "      <td>58</td>\n",
       "      <td>1219</td>\n",
       "    </tr>\n",
       "  </tbody>\n",
       "</table>\n",
       "</div>"
      ],
      "text/plain": [
       "     id  height_in  weight_lbs  back_squat_lbs  clean_and_jerk_lbs  \\\n",
       "0    86         77         225             335                 265   \n",
       "1    93         72         205             305                 235   \n",
       "2  1636         70         200             400                 285   \n",
       "\n",
       "   snatch_lbs  deadlift_lbs  max_pull_ups  fran_time_secs  grace_time_secs  \\\n",
       "0         210           415            32             226              174   \n",
       "1         185           355            45             220              154   \n",
       "2         215           485            67             138              108   \n",
       "\n",
       "   helen_time_secs  filthy_50_time_secs  sprint_400_m_time_secs  \\\n",
       "0              496                 1287                      64   \n",
       "1              493                 1500                      62   \n",
       "2              429                 1056                      58   \n",
       "\n",
       "   run_5_km_time_secs  \n",
       "0                1325  \n",
       "1                1239  \n",
       "2                1219  "
      ]
     },
     "execution_count": 25,
     "metadata": {},
     "output_type": "execute_result"
    }
   ],
   "source": [
    "full_benchmark = height_weight_data.merge(benchmark_data)\n",
    "full_benchmark.head(3)"
   ]
  },
  {
   "cell_type": "markdown",
   "metadata": {},
   "source": [
    "Now we'll setup variables required for replotting."
   ]
  },
  {
   "cell_type": "code",
   "execution_count": 42,
   "metadata": {},
   "outputs": [
    {
     "data": {
      "text/plain": [
       "{'back_squat_lbs': [],\n",
       " 'clean_and_jerk_lbs': [],\n",
       " 'deadlift_lbs': [],\n",
       " 'filthy_50_time_secs': [],\n",
       " 'fran_time_secs': [],\n",
       " 'grace_time_secs': [],\n",
       " 'helen_time_secs': [],\n",
       " 'max_pull_ups': [],\n",
       " 'run_5_km_time_secs': [],\n",
       " 'snatch_lbs': [],\n",
       " 'sprint_400_m_time_secs': []}"
      ]
     },
     "execution_count": 42,
     "metadata": {},
     "output_type": "execute_result"
    }
   ],
   "source": [
    "#setup map of variables requiring re-visualization\n",
    "#the keys are the original variables, values are comparables\n",
    "replot_map = {}\n",
    "for c in noid_benchmark_df.columns:\n",
    "    replot_map[c] = []\n",
    "replot_map"
   ]
  },
  {
   "cell_type": "markdown",
   "metadata": {},
   "source": [
    "Now add in the comparable benchmarks manually."
   ]
  },
  {
   "cell_type": "code",
   "execution_count": 43,
   "metadata": {},
   "outputs": [
    {
     "data": {
      "text/plain": [
       "{'back_squat_lbs': ['weight_lbs'],\n",
       " 'clean_and_jerk_lbs': ['weight_lbs'],\n",
       " 'deadlift_lbs': ['weight_lbs'],\n",
       " 'filthy_50_time_secs': ['weight_lbs', 'run_5_km_time_secs'],\n",
       " 'fran_time_secs': ['weight_lbs'],\n",
       " 'grace_time_secs': ['weight_lbs', 'clean_and_jerk_lbs'],\n",
       " 'helen_time_secs': ['weight_lbs',\n",
       "  'sprint_400_m_time_secs',\n",
       "  'deadlift_lbs',\n",
       "  'max_pull_ups'],\n",
       " 'max_pull_ups': ['weight_lbs'],\n",
       " 'run_5_km_time_secs': ['weight_lbs'],\n",
       " 'snatch_lbs': ['weight_lbs'],\n",
       " 'sprint_400_m_time_secs': ['weight_lbs']}"
      ]
     },
     "execution_count": 43,
     "metadata": {},
     "output_type": "execute_result"
    }
   ],
   "source": [
    "#bodyweight dependents\n",
    "for c in noid_benchmark_df.columns:\n",
    "    replot_map[c] += [\"weight_lbs\"]\n",
    "#grace\n",
    "replot_map[\"grace_time_secs\"] += [\"clean_and_jerk_lbs\"]\n",
    "#helen\n",
    "replot_map[\"helen_time_secs\"] += [\"sprint_400_m_time_secs\", \"deadlift_lbs\", \"max_pull_ups\"]\n",
    "#filthy 50\n",
    "replot_map[\"filthy_50_time_secs\"] += [\"run_5_km_time_secs\"]\n",
    "replot_map"
   ]
  },
  {
   "cell_type": "markdown",
   "metadata": {},
   "source": [
    "We'll highlight data outside a specified number of standard deviations of the mean in a different color. In order to grab these points, we'll use a function we've written in a [separate module](../custom_modules/outlier_filter.py)."
   ]
  },
  {
   "cell_type": "code",
   "execution_count": 79,
   "metadata": {},
   "outputs": [
    {
     "data": {
      "text/plain": [
       "([1, 1, 1, 1, 1, 10, 1, 1, 1, 1], [100])"
      ]
     },
     "execution_count": 79,
     "metadata": {},
     "output_type": "execute_result"
    }
   ],
   "source": [
    "#we'll use this standard deviation count as our li\n",
    "working_std_lim = 3\n",
    "separate_outliers(working_std_lim, [1,1,1,1,1,10,1,1,1,1,100])"
   ]
  },
  {
   "cell_type": "markdown",
   "metadata": {},
   "source": [
    "## scaling the data\n",
    "Before fitting this data to a learner, it's important to mention that these workouts are in a bunch of different metrics: weight, time, pounds. Because of this, we'll first scale the scale/normalize the data to the range [0,1]. In doing this, variable weights for say, deadlift, which can exceed a value of 600lbs (600), won't outweigh metrics which have lower values, like max pull ups (0-110).\n",
    "\n",
    "However, it's common that models which measure distances/similarities between data entries (kNN) are more affected by feature scaling than those which do not (Naive Bayes). Because we're using a bayesian regression model from scikit-learn, it's likely that feature scaling is not necessary. However, we may choose to apply different learners later, so for now we'll do feature scaling."
   ]
  },
  {
   "cell_type": "code",
   "execution_count": null,
   "metadata": {
    "collapsed": true
   },
   "outputs": [],
   "source": [
    "mms = MinMaxScaler()\n"
   ]
  },
  {
   "cell_type": "markdown",
   "metadata": {},
   "source": [
    "## splitting data into train/test sets"
   ]
  },
  {
   "cell_type": "code",
   "execution_count": null,
   "metadata": {
    "collapsed": true
   },
   "outputs": [],
   "source": [
    "#ratio of data to be used for testing\n",
    "test_ratio = .2\n",
    "#random state used for ML initialization\n",
    "random_state = 0"
   ]
  },
  {
   "cell_type": "code",
   "execution_count": null,
   "metadata": {
    "collapsed": true
   },
   "outputs": [],
   "source": [
    "#doesn't really matter which variable is used here as (in)dependent\n",
    "x_train, x_test, y_train, y_test = train_test_split(\n",
    "    #x\n",
    "    squat_deadlift.squat,\n",
    "    #y\n",
    "    squat_deadlift.deadlift,\n",
    "    test_size=test_ratio,\n",
    "    random_state=random_state\n",
    ")"
   ]
  },
  {
   "cell_type": "markdown",
   "metadata": {},
   "source": [
    "## linear regression\n",
    "Below we apply scikit-learn's [linear regression](http://scikit-learn.org/stable/auto_examples/plot_isotonic_regression.html#sphx-glr-auto-examples-plot-isotonic-regression-py) to the squat/deadlift data, using squat weight (in lbs) to predict deadlift weight (in lbs). Note that these values are 1 rep maxes (the maximum amount of weight an athlete has attested to lifting for 1 rep)."
   ]
  },
  {
   "cell_type": "code",
   "execution_count": null,
   "metadata": {
    "collapsed": true
   },
   "outputs": [],
   "source": [
    "regressor = LinearRegression()\n",
    "regressor.fit(x_train[:, np.newaxis], y_train)"
   ]
  },
  {
   "cell_type": "markdown",
   "metadata": {},
   "source": [
    "### plotting regression\n",
    "The data can be plotted using Seaborn's [regplot](https://seaborn.pydata.org/generated/seaborn.regplot.html)."
   ]
  },
  {
   "cell_type": "code",
   "execution_count": null,
   "metadata": {
    "collapsed": true
   },
   "outputs": [],
   "source": [
    "#colors for plotting\n",
    "color_map = {\n",
    "    \"scatter\": {\n",
    "        \"train\": \"#33ccff\",\n",
    "        \"test\": \"#ff0059\"\n",
    "    },\n",
    "    \"regression\": {\n",
    "        \"predict\": \"#66ff33\"\n",
    "    }\n",
    "}\n",
    "\n",
    "#training/testing dataframes\n",
    "df_train = pd.concat([x_train, y_train], axis=1)\n",
    "df_test = pd.concat([x_test, y_test], axis=1)\n",
    "df_preds = pd.DataFrame(x_test.values, columns=[\"squat\"])\n",
    "df_preds[\"deadlift\"] = pd.Series(regressor.predict(x_test.values[:, np.newaxis]))\n",
    "\n",
    "#used to make plotting less repetitive\n",
    "colors_scatter = [color_map[\"scatter\"][\"train\"], color_map[\"scatter\"][\"test\"]]\n",
    "labels = [\"train\", \"test\"]\n",
    "dfs = [df_train, df_test]\n",
    "\n",
    "#plotting scatter plots\n",
    "for i in range(len(dfs)):\n",
    "    ax = sb.regplot(\n",
    "        x=\"squat\",\n",
    "        y=\"deadlift\",\n",
    "        data=dfs[i],\n",
    "        fit_reg=False,#default true\n",
    "        color=colors_scatter[i],\n",
    "        scatter_kws={\"s\": 25},\n",
    "        label=labels[i],\n",
    "        marker=\"o\"\n",
    "    )\n",
    "\n",
    "#plotting regression (from model predicting based on x_test)\n",
    "ax = sb.regplot(\n",
    "    x=\"squat\",\n",
    "    y=\"deadlift\",\n",
    "    data=df_preds.head(2),\n",
    "    scatter=False,#default true\n",
    "    color=color_map[\"regression\"][\"predict\"],\n",
    "    label=\"predict\"\n",
    ")\n",
    "plt.title(\"Squat vs. Deadlift (lbs)\")\n",
    "plt.legend()\n",
    "plt.show()\n",
    "#testing data\n",
    "#ax = sb.regplot(x=\"squat\", y=\"deadlift\", data=df_test, fit_reg=False, color=colors[\"scatter\"][\"test\"])"
   ]
  },
  {
   "cell_type": "markdown",
   "metadata": {},
   "source": [
    "## analyzing regression fit\n",
    "The regression looks like it fits the data well, but because the data has a decent spread, let's use some metrics to analyze it's performance."
   ]
  },
  {
   "cell_type": "code",
   "execution_count": null,
   "metadata": {
    "collapsed": true
   },
   "outputs": [],
   "source": [
    "#r2\n",
    "print(\n",
    "    \"R2 score: {}\".format(\n",
    "        regressor.score(\n",
    "            df_test[\"squat\"][:, np.newaxis],\n",
    "            df_test[\"deadlift\"][:, np.newaxis]\n",
    "        )\n",
    "    )\n",
    ")\n",
    "\n",
    "#rmse\n",
    "print(\n",
    "    \"RMSE: {}\".format(\n",
    "        mean_squared_error(\n",
    "            df_test[\"deadlift\"][:, np.newaxis],\n",
    "            df_preds[\"deadlift\"][:, np.newaxis]\n",
    "        )\n",
    "    )\n",
    ")"
   ]
  },
  {
   "cell_type": "markdown",
   "metadata": {},
   "source": [
    "Analyziing the R2 specifically, it seems as though only 50% of the variation in deadlifts observed in the women's 45-49 division can be explained by looking at the back squat. Because of this, observing the back squat alone is most likely not a strong enough metric to try and predict athlete deadlifts. However, explaining 50% of the deadlift variation IS significant. Perhaps this regression could be done again, taking into account cleans, snatches, or 2k rows."
   ]
  }
 ],
 "metadata": {
  "kernelspec": {
   "display_name": "Python 3",
   "language": "python",
   "name": "python3"
  },
  "language_info": {
   "codemirror_mode": {
    "name": "ipython",
    "version": 3
   },
   "file_extension": ".py",
   "mimetype": "text/x-python",
   "name": "python",
   "nbconvert_exporter": "python",
   "pygments_lexer": "ipython3",
   "version": "3.5.4"
  }
 },
 "nbformat": 4,
 "nbformat_minor": 2
}
