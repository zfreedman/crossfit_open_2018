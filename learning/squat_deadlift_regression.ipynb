{
 "cells": [
  {
   "cell_type": "markdown",
   "metadata": {},
   "source": [
    "# squat deadlift regression\n",
    "The below notebook will show the relationship between back squat and deadlift for CrossFit athletes based on the information provided by their athlete profiles. The division under examination is Women (45-49), seeing as this is the largest COMPLETE dataset at the time of writing this code."
   ]
  },
  {
   "cell_type": "markdown",
   "metadata": {},
   "source": [
    "## imports"
   ]
  },
  {
   "cell_type": "code",
   "execution_count": 147,
   "metadata": {},
   "outputs": [],
   "source": [
    "#pandas (dataframes)\n",
    "import pandas as pd\n",
    "#pymysql (mysql connector)\n",
    "import pymysql as pms\n",
    "#numpy (reshaping data)\n",
    "import numpy as np\n",
    "#scikit-learn (linear regression, train/test splits)\n",
    "from sklearn.linear_model import LinearRegression\n",
    "from sklearn.model_selection import train_test_split\n",
    "from sklearn.metrics import mean_squared_error\n",
    "#plotting\n",
    "import matplotlib.pyplot as plt\n",
    "import seaborn as sb\n",
    "%matplotlib inline\n",
    "\n",
    "# use for implementing custom modules\n",
    "import sys\n",
    "sys.path.insert(0, \"../custom_modules/\")\n",
    "\n",
    "#custom modules\n",
    "#grabbing data\n",
    "from dataframer import grab_data\n",
    "#seaborn styling\n",
    "import seaborn_styler as sbs"
   ]
  },
  {
   "cell_type": "markdown",
   "metadata": {},
   "source": [
    "## getting database credentials"
   ]
  },
  {
   "cell_type": "code",
   "execution_count": 7,
   "metadata": {
    "collapsed": true
   },
   "outputs": [],
   "source": [
    "#this list object is passed around to functions requiring database access\n",
    "#...the functions will open/close the connection themselves during calls\n",
    "creds = []\n",
    "#database credentials are stored in this file\n",
    "with open(\"../database_credentials2.txt\") as f:\n",
    "    db_user = f.readline().strip()\n",
    "    db_pass = f.readline().strip()\n",
    "    db_name = f.readline().strip()\n",
    "    db_host = f.readline().strip()\n",
    "    creds = [db_host, db_user, db_pass,db_name]"
   ]
  },
  {
   "cell_type": "markdown",
   "metadata": {},
   "source": [
    "## grabbing the data"
   ]
  },
  {
   "cell_type": "code",
   "execution_count": 8,
   "metadata": {
    "collapsed": true
   },
   "outputs": [],
   "source": [
    "#read into dataframe\n",
    "#note: division 4 references women 45-49\n",
    "squat_deadlift = grab_data(\n",
    "    \"\"\"\n",
    "    SELECT back_squat_lbs AS squat, deadlift_lbs AS deadlift\n",
    "    FROM athlete\n",
    "    WHERE division_id=4\n",
    "    AND back_squat_lbs > 0\n",
    "    AND deadlift_lbs > 0;\n",
    "    \"\"\",\n",
    "    creds\n",
    ")"
   ]
  },
  {
   "cell_type": "markdown",
   "metadata": {},
   "source": [
    "### quick summary"
   ]
  },
  {
   "cell_type": "code",
   "execution_count": 9,
   "metadata": {},
   "outputs": [
    {
     "data": {
      "text/html": [
       "<div>\n",
       "<style>\n",
       "    .dataframe thead tr:only-child th {\n",
       "        text-align: right;\n",
       "    }\n",
       "\n",
       "    .dataframe thead th {\n",
       "        text-align: left;\n",
       "    }\n",
       "\n",
       "    .dataframe tbody tr th {\n",
       "        vertical-align: top;\n",
       "    }\n",
       "</style>\n",
       "<table border=\"1\" class=\"dataframe\">\n",
       "  <thead>\n",
       "    <tr style=\"text-align: right;\">\n",
       "      <th></th>\n",
       "      <th>squat</th>\n",
       "      <th>deadlift</th>\n",
       "    </tr>\n",
       "  </thead>\n",
       "  <tbody>\n",
       "    <tr>\n",
       "      <th>0</th>\n",
       "      <td>210</td>\n",
       "      <td>305</td>\n",
       "    </tr>\n",
       "    <tr>\n",
       "      <th>1</th>\n",
       "      <td>215</td>\n",
       "      <td>300</td>\n",
       "    </tr>\n",
       "    <tr>\n",
       "      <th>2</th>\n",
       "      <td>255</td>\n",
       "      <td>340</td>\n",
       "    </tr>\n",
       "    <tr>\n",
       "      <th>3</th>\n",
       "      <td>202</td>\n",
       "      <td>275</td>\n",
       "    </tr>\n",
       "    <tr>\n",
       "      <th>4</th>\n",
       "      <td>215</td>\n",
       "      <td>305</td>\n",
       "    </tr>\n",
       "  </tbody>\n",
       "</table>\n",
       "</div>"
      ],
      "text/plain": [
       "   squat  deadlift\n",
       "0    210       305\n",
       "1    215       300\n",
       "2    255       340\n",
       "3    202       275\n",
       "4    215       305"
      ]
     },
     "execution_count": 9,
     "metadata": {},
     "output_type": "execute_result"
    }
   ],
   "source": [
    "#first 5 entries\n",
    "squat_deadlift.head(5)"
   ]
  },
  {
   "cell_type": "code",
   "execution_count": 10,
   "metadata": {},
   "outputs": [
    {
     "data": {
      "text/html": [
       "<div>\n",
       "<style>\n",
       "    .dataframe thead tr:only-child th {\n",
       "        text-align: right;\n",
       "    }\n",
       "\n",
       "    .dataframe thead th {\n",
       "        text-align: left;\n",
       "    }\n",
       "\n",
       "    .dataframe tbody tr th {\n",
       "        vertical-align: top;\n",
       "    }\n",
       "</style>\n",
       "<table border=\"1\" class=\"dataframe\">\n",
       "  <thead>\n",
       "    <tr style=\"text-align: right;\">\n",
       "      <th></th>\n",
       "      <th>squat</th>\n",
       "      <th>deadlift</th>\n",
       "    </tr>\n",
       "  </thead>\n",
       "  <tbody>\n",
       "    <tr>\n",
       "      <th>count</th>\n",
       "      <td>1075.000000</td>\n",
       "      <td>1075.000000</td>\n",
       "    </tr>\n",
       "    <tr>\n",
       "      <th>mean</th>\n",
       "      <td>198.645581</td>\n",
       "      <td>251.718140</td>\n",
       "    </tr>\n",
       "    <tr>\n",
       "      <th>std</th>\n",
       "      <td>38.392562</td>\n",
       "      <td>43.168152</td>\n",
       "    </tr>\n",
       "    <tr>\n",
       "      <th>min</th>\n",
       "      <td>70.000000</td>\n",
       "      <td>110.000000</td>\n",
       "    </tr>\n",
       "    <tr>\n",
       "      <th>25%</th>\n",
       "      <td>175.000000</td>\n",
       "      <td>220.000000</td>\n",
       "    </tr>\n",
       "    <tr>\n",
       "      <th>50%</th>\n",
       "      <td>198.000000</td>\n",
       "      <td>245.000000</td>\n",
       "    </tr>\n",
       "    <tr>\n",
       "      <th>75%</th>\n",
       "      <td>225.000000</td>\n",
       "      <td>285.000000</td>\n",
       "    </tr>\n",
       "    <tr>\n",
       "      <th>max</th>\n",
       "      <td>396.000000</td>\n",
       "      <td>385.000000</td>\n",
       "    </tr>\n",
       "  </tbody>\n",
       "</table>\n",
       "</div>"
      ],
      "text/plain": [
       "             squat     deadlift\n",
       "count  1075.000000  1075.000000\n",
       "mean    198.645581   251.718140\n",
       "std      38.392562    43.168152\n",
       "min      70.000000   110.000000\n",
       "25%     175.000000   220.000000\n",
       "50%     198.000000   245.000000\n",
       "75%     225.000000   285.000000\n",
       "max     396.000000   385.000000"
      ]
     },
     "execution_count": 10,
     "metadata": {},
     "output_type": "execute_result"
    }
   ],
   "source": [
    "#pandas inherit statistical descriptor function for pandas dataframes\n",
    "squat_deadlift.describe()"
   ]
  },
  {
   "cell_type": "markdown",
   "metadata": {
    "collapsed": true
   },
   "source": [
    "## splitting data into train/test sets"
   ]
  },
  {
   "cell_type": "code",
   "execution_count": 21,
   "metadata": {
    "collapsed": true
   },
   "outputs": [],
   "source": [
    "#ratio of data to be used for testing\n",
    "test_ratio = .2\n",
    "#random state used for ML initialization\n",
    "random_state = 0"
   ]
  },
  {
   "cell_type": "code",
   "execution_count": 22,
   "metadata": {
    "collapsed": true
   },
   "outputs": [],
   "source": [
    "#doesn't really matter which variable is used here as (in)dependent\n",
    "x_train, x_test, y_train, y_test = train_test_split(\n",
    "    #x\n",
    "    squat_deadlift.squat,\n",
    "    #y\n",
    "    squat_deadlift.deadlift,\n",
    "    test_size=test_ratio,\n",
    "    random_state=random_state\n",
    ")"
   ]
  },
  {
   "cell_type": "markdown",
   "metadata": {},
   "source": [
    "## linear regression\n",
    "Below we apply scikit-learn's [linear regression](http://scikit-learn.org/stable/auto_examples/plot_isotonic_regression.html#sphx-glr-auto-examples-plot-isotonic-regression-py) to the squat/deadlift data, using squat weight (in lbs) to predict deadlift weight (in lbs). Note that these values are 1 rep maxes (the maximum amount of weight an athlete has attested to lifting for 1 rep)."
   ]
  },
  {
   "cell_type": "code",
   "execution_count": 23,
   "metadata": {},
   "outputs": [
    {
     "data": {
      "text/plain": [
       "LinearRegression(copy_X=True, fit_intercept=True, n_jobs=1, normalize=False)"
      ]
     },
     "execution_count": 23,
     "metadata": {},
     "output_type": "execute_result"
    }
   ],
   "source": [
    "regressor = LinearRegression()\n",
    "regressor.fit(x_train[:, np.newaxis], y_train)"
   ]
  },
  {
   "cell_type": "markdown",
   "metadata": {},
   "source": [
    "### stylize seaborn\n",
    "This only needs to be done once, and can be done anywhere. I'm just leaving it till here because this is the first time we're plotting something in this notebook."
   ]
  },
  {
   "cell_type": "code",
   "execution_count": 24,
   "metadata": {
    "collapsed": true
   },
   "outputs": [],
   "source": [
    "sbs.stylize()"
   ]
  },
  {
   "cell_type": "markdown",
   "metadata": {},
   "source": [
    "### plotting regression\n",
    "The data can be plotted using Seaborn's [regplot](https://seaborn.pydata.org/generated/seaborn.regplot.html)."
   ]
  },
  {
   "cell_type": "code",
   "execution_count": 130,
   "metadata": {},
   "outputs": [
    {
     "data": {
      "image/png": "[encoded data removed]",
      "text/plain": [
       "<matplotlib.figure.Figure at 0x21091f71f60>"
      ]
     },
     "metadata": {},
     "output_type": "display_data"
    }
   ],
   "source": [
    "#colors for plotting\n",
    "color_map = {\n",
    "    \"scatter\": {\n",
    "        \"train\": \"#33ccff\",\n",
    "        \"test\": \"#ff0059\"\n",
    "    },\n",
    "    \"regression\": {\n",
    "        \"predict\": \"#66ff33\"\n",
    "    }\n",
    "}\n",
    "\n",
    "#training/testing dataframes\n",
    "df_train = pd.concat([x_train, y_train], axis=1)\n",
    "df_test = pd.concat([x_test, y_test], axis=1)\n",
    "df_preds = pd.DataFrame(x_test.values, columns=[\"squat\"])\n",
    "df_preds[\"deadlift\"] = pd.Series(regressor.predict(x_test.values[:, np.newaxis]))\n",
    "\n",
    "#used to make plotting less repetitive\n",
    "colors_scatter = [color_map[\"scatter\"][\"train\"], color_map[\"scatter\"][\"test\"]]\n",
    "labels = [\"train\", \"test\"]\n",
    "dfs = [df_train, df_test]\n",
    "\n",
    "#plotting scatter plots\n",
    "for i in range(len(dfs)):\n",
    "    ax = sb.regplot(\n",
    "        x=\"squat\",\n",
    "        y=\"deadlift\",\n",
    "        data=dfs[i],\n",
    "        fit_reg=False,#default true\n",
    "        color=colors_scatter[i],\n",
    "        scatter_kws={\"s\": 25},\n",
    "        label=labels[i],\n",
    "        marker=\"o\"\n",
    "    )\n",
    "\n",
    "#plotting regression (from model predicting based on x_test)\n",
    "ax = sb.regplot(\n",
    "    x=\"squat\",\n",
    "    y=\"deadlift\",\n",
    "    data=df_preds.head(2),\n",
    "    scatter=False,#default true\n",
    "    color=color_map[\"regression\"][\"predict\"],\n",
    "    label=\"predict\"\n",
    ")\n",
    "plt.title(\"Squat vs. Deadlift (lbs)\")\n",
    "plt.legend()\n",
    "plt.show()\n",
    "#testing data\n",
    "#ax = sb.regplot(x=\"squat\", y=\"deadlift\", data=df_test, fit_reg=False, color=colors[\"scatter\"][\"test\"])"
   ]
  },
  {
   "cell_type": "markdown",
   "metadata": {},
   "source": [
    "## analyzing regression fit\n",
    "The regression looks like it fits the data well, but because the data has a decent spread, let's use some metrics to analyze it's performance."
   ]
  },
  {
   "cell_type": "code",
   "execution_count": 149,
   "metadata": {},
   "outputs": [
    {
     "name": "stdout",
     "output_type": "stream",
     "text": [
      "R2 score: 0.5314344987427346\n",
      "RMSE: 942.0932860296303\n"
     ]
    }
   ],
   "source": [
    "#r2\n",
    "print(\n",
    "    \"R2 score: {}\".format(\n",
    "        regressor.score(\n",
    "            df_test[\"squat\"][:, np.newaxis],\n",
    "            df_test[\"deadlift\"][:, np.newaxis]\n",
    "        )\n",
    "    )\n",
    ")\n",
    "\n",
    "#rmse\n",
    "print(\n",
    "    \"RMSE: {}\".format(\n",
    "        mean_squared_error(\n",
    "            df_test[\"deadlift\"][:, np.newaxis],\n",
    "            df_preds[\"deadlift\"][:, np.newaxis]\n",
    "        )\n",
    "    )\n",
    ")"
   ]
  },
  {
   "cell_type": "markdown",
   "metadata": {},
   "source": [
    "Analyziing the R2 specifically, it seems as though only 50% of the variation in deadlifts observed in the women's 45-49 division can be explained by looking at the back squat. Because of this, observing the back squat alone is most likely not a strong enough metric to try and predict athlete deadlifts. However, explaining 50% of the deadlift variation IS significant. Perhaps this regression could be done again, taking into account cleans, snatches, or 2k rows."
   ]
  }
 ],
 "metadata": {
  "kernelspec": {
   "display_name": "Python 3",
   "language": "python",
   "name": "python3"
  },
  "language_info": {
   "codemirror_mode": {
    "name": "ipython",
    "version": 3
   },
   "file_extension": ".py",
   "mimetype": "text/x-python",
   "name": "python",
   "nbconvert_exporter": "python",
   "pygments_lexer": "ipython3",
   "version": "3.5.4"
  }
 },
 "nbformat": 4,
 "nbformat_minor": 2
}
