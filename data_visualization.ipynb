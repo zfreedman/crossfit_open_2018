{
 "cells": [
  {
   "cell_type": "markdown",
   "metadata": {},
   "source": [
    "# data visualization\n",
    "In this notebook, SQL queries will be implemented to extract data based on specific filtering criteria. This data will then be read into Pandas dataframes, after which several visuals will be generated (based on the data) using Matplotlib. It's important to note that although these filters could be done by reading the full database into Pandas dataframes and then filtering, keeping the entire data filtering process within Python and Pandas/NumPy, PyMySQL will be used to extract specific data on a per-visual basis instead."
   ]
  },
  {
   "cell_type": "code",
   "execution_count": 730,
   "metadata": {
    "collapsed": true
   },
   "outputs": [],
   "source": [
    "#datbase connector\n",
    "import pymysql as pms\n",
    "#local dataframe representations of data\n",
    "import pandas as pd\n",
    "#used for quick testing of concepts, but also for math\n",
    "import numpy as np"
   ]
  },
  {
   "cell_type": "markdown",
   "metadata": {},
   "source": [
    "## grabbing data\n",
    "The below function will be utilized again and again to connect to the database, execute a SQL query, extract a result into a Pandas dataframe, and close the database connection. But, first we need to read in the database credentials required for connecting to the MySQL client."
   ]
  },
  {
   "cell_type": "code",
   "execution_count": 731,
   "metadata": {
    "collapsed": true
   },
   "outputs": [],
   "source": [
    "db_user = \"\"\n",
    "db_pass = \"\"\n",
    "db_name = \"\"\n",
    "db_host = \"\"\n",
    "db_charset = \"utf8\"\n",
    "with open(\"database_credentials2.txt\") as f:\n",
    "    db_user = f.readline().strip()\n",
    "    db_pass = f.readline().strip()\n",
    "    db_name = f.readline().strip()\n",
    "    db_host = f.readline().strip()"
   ]
  },
  {
   "cell_type": "code",
   "execution_count": 732,
   "metadata": {
    "collapsed": true
   },
   "outputs": [],
   "source": [
    "def grab_data(sql):\n",
    "    \"\"\"\n",
    "    1. Open a connection to MySQL using PyMySQL\n",
    "    2. Grab data based on the specified SQL query and store it in a Pandas dataframe\n",
    "    3. Close the PyMySQL connection\n",
    "    4. Return the Pandas dataframe\n",
    "    \"\"\"\n",
    "    try:\n",
    "        #connect\n",
    "        con = pms.connect(host=db_host, user=db_user, passwd=db_pass, db=db_name, charset=db_charset)\n",
    "        #print(\"Connected: {}\".format(con.open))\n",
    "        \n",
    "        #execute query and read into dataframe\n",
    "        #(https://stackoverflow.com/questions/12047193/how-to-convert-sql-query-result-to-pandas-data-structure?utm_medium=organic&utm_source=google_rich_qa&utm_campaign=google_rich_qa)\n",
    "        df = pd.read_sql(sql, con)\n",
    "    except:\n",
    "        print(\"You messed up\")\n",
    "    finally:\n",
    "        if con:\n",
    "            #close connection\n",
    "            con.close()\n",
    "            #print(\"Connected: {}\".format(con.open))\n",
    "    \n",
    "    #return dataframe\n",
    "    return df"
   ]
  },
  {
   "cell_type": "markdown",
   "metadata": {},
   "source": [
    "## sample plot\n",
    "This notebook will utilize [Seaborn](https://seaborn.pydata.org/index.html), a library built on top of [Matplotlib](https://matplotlib.org/), for data visualization. Below we use Seaborn to show the distribution of the Women's division's back squat, clean and jerk, deadlift, and snatch for those who competed in the 2018 CrossFit Open."
   ]
  },
  {
   "cell_type": "code",
   "execution_count": 733,
   "metadata": {
    "collapsed": true
   },
   "outputs": [],
   "source": [
    "#extract data\n",
    "womens_lifts_df = grab_data(\n",
    "    \"\"\"\n",
    "    SELECT back_squat_lbs, clean_and_jerk_lbs, snatch_lbs, deadlift_lbs FROM athlete WHERE division_id=2 AND (\n",
    "        back_squat_lbs > 0 AND\n",
    "        clean_and_jerk_lbs > 0 AND\n",
    "        snatch_lbs > 0 AND\n",
    "        deadlift_lbs > 0\n",
    "    );\n",
    "    \"\"\"\n",
    ")"
   ]
  },
  {
   "cell_type": "code",
   "execution_count": 734,
   "metadata": {
    "collapsed": true
   },
   "outputs": [],
   "source": [
    "#import matplotlib and seaborn\n",
    "import matplotlib.pyplot as plt\n",
    "import seaborn as sb\n",
    "%matplotlib inline"
   ]
  },
  {
   "cell_type": "markdown",
   "metadata": {},
   "source": [
    "### matplotlib styling"
   ]
  },
  {
   "cell_type": "code",
   "execution_count": 735,
   "metadata": {},
   "outputs": [],
   "source": [
    "#styling settings\n",
    "#https://matplotlib.org/users/customizing.html\n",
    "axes_label_size = \"medium\"\n",
    "bg_color = \"#000000\"\n",
    "font_color = \"#ffffff\"\n",
    "sb.set(\n",
    "    rc = {\n",
    "        \"axes.edgecolor\": \"green\",\n",
    "        \"axes.facecolor\": bg_color,\n",
    "        \"axes.labelcolor\": font_color,\n",
    "        #this link for these 2 parameters\n",
    "        #https://stackoverflow.com/questions/28825594/why-doesnt-the-matplotlib-label-fontsize-work\n",
    "        \"axes.labelsize\": 16,\n",
    "        \"axes.titlesize\": 16,\n",
    "        \n",
    "        \"grid.color\": font_color,\n",
    "        \"grid.linewidth\": .5,\n",
    "        \n",
    "        #this link is just for figure.facecolor\n",
    "        #http://jonathansoma.com/lede/data-studio/matplotlib/changing-the-background-of-a-pandas-matplotlib-graph/\n",
    "        \"figure.facecolor\": bg_color,\n",
    "        \"figure.figsize\": \"8, 6\",\n",
    "        #\"figure.titlesize\": \"large\",\n",
    "        \n",
    "        \"font.family\": [u\"sans-serif\"],\n",
    "        \"font.sans-serif\": [\n",
    "            u\"Arial\",\n",
    "            u\"sans-serif\"\n",
    "        ],\n",
    "        \n",
    "        #\"legend.fancybox\": True,\n",
    "        \"legend.facecolor\": \"red\",\n",
    "        \"legend.framealpha\": .95,\n",
    "        \"legend.fontsize\": \"medium\",\n",
    "        \n",
    "        \"lines.linewidth\": 1.25,\n",
    "        #\"lines.marker\": \"x\",\n",
    "        #\"lines.markersize\": 60,\n",
    "        \n",
    "        \"text.color\": font_color,\n",
    "        \n",
    "        \"xtick.color\": font_color,\n",
    "        #\"xtick.labelsize\": axes_label_size,\n",
    "        #\"xtick.direction\": \"out\",\n",
    "        \n",
    "        \"ytick.color\": font_color\n",
    "        #\"ytick.labelsize\": axes_label_size\n",
    "    }\n",
    ")\n"
   ]
  },
  {
   "cell_type": "markdown",
   "metadata": {},
   "source": [
    "### plotting women's data"
   ]
  },
  {
   "cell_type": "code",
   "execution_count": 736,
   "metadata": {},
   "outputs": [
    {
     "data": {
      "text/html": [
       "<div>\n",
       "<style>\n",
       "    .dataframe thead tr:only-child th {\n",
       "        text-align: right;\n",
       "    }\n",
       "\n",
       "    .dataframe thead th {\n",
       "        text-align: left;\n",
       "    }\n",
       "\n",
       "    .dataframe tbody tr th {\n",
       "        vertical-align: top;\n",
       "    }\n",
       "</style>\n",
       "<table border=\"1\" class=\"dataframe\">\n",
       "  <thead>\n",
       "    <tr style=\"text-align: right;\">\n",
       "      <th></th>\n",
       "      <th>back_squat_lbs</th>\n",
       "      <th>clean_and_jerk_lbs</th>\n",
       "      <th>snatch_lbs</th>\n",
       "      <th>deadlift_lbs</th>\n",
       "    </tr>\n",
       "  </thead>\n",
       "  <tbody>\n",
       "    <tr>\n",
       "      <th>0</th>\n",
       "      <td>282</td>\n",
       "      <td>207</td>\n",
       "      <td>190</td>\n",
       "      <td>315</td>\n",
       "    </tr>\n",
       "    <tr>\n",
       "      <th>1</th>\n",
       "      <td>315</td>\n",
       "      <td>220</td>\n",
       "      <td>175</td>\n",
       "      <td>355</td>\n",
       "    </tr>\n",
       "    <tr>\n",
       "      <th>2</th>\n",
       "      <td>315</td>\n",
       "      <td>220</td>\n",
       "      <td>169</td>\n",
       "      <td>352</td>\n",
       "    </tr>\n",
       "    <tr>\n",
       "      <th>3</th>\n",
       "      <td>255</td>\n",
       "      <td>185</td>\n",
       "      <td>160</td>\n",
       "      <td>315</td>\n",
       "    </tr>\n",
       "    <tr>\n",
       "      <th>4</th>\n",
       "      <td>300</td>\n",
       "      <td>225</td>\n",
       "      <td>180</td>\n",
       "      <td>350</td>\n",
       "    </tr>\n",
       "    <tr>\n",
       "      <th>5</th>\n",
       "      <td>275</td>\n",
       "      <td>220</td>\n",
       "      <td>180</td>\n",
       "      <td>385</td>\n",
       "    </tr>\n",
       "    <tr>\n",
       "      <th>6</th>\n",
       "      <td>255</td>\n",
       "      <td>208</td>\n",
       "      <td>168</td>\n",
       "      <td>303</td>\n",
       "    </tr>\n",
       "    <tr>\n",
       "      <th>7</th>\n",
       "      <td>273</td>\n",
       "      <td>231</td>\n",
       "      <td>183</td>\n",
       "      <td>330</td>\n",
       "    </tr>\n",
       "    <tr>\n",
       "      <th>8</th>\n",
       "      <td>350</td>\n",
       "      <td>230</td>\n",
       "      <td>185</td>\n",
       "      <td>365</td>\n",
       "    </tr>\n",
       "    <tr>\n",
       "      <th>9</th>\n",
       "      <td>375</td>\n",
       "      <td>235</td>\n",
       "      <td>175</td>\n",
       "      <td>402</td>\n",
       "    </tr>\n",
       "  </tbody>\n",
       "</table>\n",
       "</div>"
      ],
      "text/plain": [
       "   back_squat_lbs  clean_and_jerk_lbs  snatch_lbs  deadlift_lbs\n",
       "0             282                 207         190           315\n",
       "1             315                 220         175           355\n",
       "2             315                 220         169           352\n",
       "3             255                 185         160           315\n",
       "4             300                 225         180           350\n",
       "5             275                 220         180           385\n",
       "6             255                 208         168           303\n",
       "7             273                 231         183           330\n",
       "8             350                 230         185           365\n",
       "9             375                 235         175           402"
      ]
     },
     "execution_count": 736,
     "metadata": {},
     "output_type": "execute_result"
    }
   ],
   "source": [
    "#show sample of data\n",
    "womens_lifts_df.head(10)"
   ]
  },
  {
   "cell_type": "code",
   "execution_count": 737,
   "metadata": {},
   "outputs": [
    {
     "data": {
      "image/png": "[encoded data removed]",
      "text/plain": [
       "<matplotlib.figure.Figure at 0x152f50616a0>"
      ]
     },
     "metadata": {},
     "output_type": "display_data"
    }
   ],
   "source": [
    "#plot each lift\n",
    "for c in womens_lifts_df.columns:\n",
    "    #fit plot\n",
    "    #fit, ax = plt.subplots(facecolor = \"black\")\n",
    "    sb.distplot(np.array(womens_lifts_df[c]), bins=25, label=c[:-4].replace(\"_\", \" \"))\n",
    "    #label axes and add to labels for legend\n",
    "    plt.xlabel(c)\n",
    "    #grid\n",
    "    plt.grid(True)\n",
    "    #title\n",
    "    plt.title(c.replace(\"_\", \" \").title() + \" Distribution\")\n",
    "#this is the same for all\n",
    "plt.xlabel(\"weight (lbs)\")\n",
    "plt.ylabel(\"frequency\")\n",
    "#axes bounds\n",
    "plt.axis([50, 450, 0, 0.03])\n",
    "#legend (.get_frame().set_alpha() sets the backgroudn on the legend)\n",
    "leg = plt.legend()\n",
    "for t in leg.get_texts():\n",
    "    t.set_color(font_color)\n",
    "#plt.legend().get_frame().set_alpha(.95)\n",
    "#show\n",
    "plt.show()"
   ]
  },
  {
   "cell_type": "markdown",
   "metadata": {},
   "source": [
    "## scoring athletes basedon performance\n",
    "Athlete scoring has been written in a separate module called `scorer`. The scorer.py file can be found in this repo, and contains in-depth documentation of how athletes are evaluated. The scoring metric implemented in very similar (but not identical) to that of the CrossFit leaderboard.\n",
    "\n",
    "One important thing to note is that the leaderboard function was written to reduce repetitive code as much as possible. Therefore, in order to avoid opening connections this notebook within `try` blocks and having to close them and monitor exceptions, the leaderboard expects to open the database connection on it's own.\n",
    "Given this, the leaderboard function expects a list containing the required database credentials, where the order is the same as that of the `pms.connect()` parameter list in `grab_data()` (host, user, passwd, db, charset)."
   ]
  },
  {
   "cell_type": "code",
   "execution_count": 738,
   "metadata": {
    "collapsed": true
   },
   "outputs": [],
   "source": [
    "import importlib\n",
    "import scorer"
   ]
  },
  {
   "cell_type": "code",
   "execution_count": 739,
   "metadata": {
    "collapsed": true
   },
   "outputs": [],
   "source": [
    "open_keys = [\n",
    "    \"leaderboard_{}\".format(c) for c in [\n",
    "        \"18_1_reps\",\n",
    "        \"18_2_time_secs\",\n",
    "        \"18_2a_weight_lbs\",\n",
    "        \"18_3_time_secs\",\n",
    "        \"18_4_time_secs\",\n",
    "        \"18_5_reps\"\n",
    "    ]\n",
    "]"
   ]
  },
  {
   "cell_type": "markdown",
   "metadata": {},
   "source": [
    "### boy's 16-17 leaderboard\n",
    "The below codeblock shows the requirements in order to request a leaderboard. Here, I've gone into the `division` table ahead of time and found that the Boy's (16-17) leaderboard has `id=16`."
   ]
  },
  {
   "cell_type": "code",
   "execution_count": 740,
   "metadata": {},
   "outputs": [
    {
     "data": {
      "text/html": [
       "<div>\n",
       "<style>\n",
       "    .dataframe thead tr:only-child th {\n",
       "        text-align: right;\n",
       "    }\n",
       "\n",
       "    .dataframe thead th {\n",
       "        text-align: left;\n",
       "    }\n",
       "\n",
       "    .dataframe tbody tr th {\n",
       "        vertical-align: top;\n",
       "    }\n",
       "</style>\n",
       "<table border=\"1\" class=\"dataframe\">\n",
       "  <thead>\n",
       "    <tr style=\"text-align: right;\">\n",
       "      <th></th>\n",
       "      <th>id</th>\n",
       "      <th>name</th>\n",
       "      <th>leaderboard_18_1_reps</th>\n",
       "      <th>leaderboard_18_2_time_secs</th>\n",
       "      <th>leaderboard_18_2a_weight_lbs</th>\n",
       "      <th>leaderboard_18_3_time_secs</th>\n",
       "      <th>leaderboard_18_4_time_secs</th>\n",
       "      <th>leaderboard_18_5_reps</th>\n",
       "      <th>points</th>\n",
       "    </tr>\n",
       "  </thead>\n",
       "  <tbody>\n",
       "    <tr>\n",
       "      <th>86</th>\n",
       "      <td>671093</td>\n",
       "      <td>DALLIN PEPPER</td>\n",
       "      <td>416</td>\n",
       "      <td>265</td>\n",
       "      <td>301</td>\n",
       "      <td>1073</td>\n",
       "      <td>576</td>\n",
       "      <td>147</td>\n",
       "      <td>40</td>\n",
       "    </tr>\n",
       "    <tr>\n",
       "      <th>78</th>\n",
       "      <td>655641</td>\n",
       "      <td>ZACH MAYER</td>\n",
       "      <td>392</td>\n",
       "      <td>298</td>\n",
       "      <td>307</td>\n",
       "      <td>1076</td>\n",
       "      <td>568</td>\n",
       "      <td>152</td>\n",
       "      <td>43</td>\n",
       "    </tr>\n",
       "    <tr>\n",
       "      <th>4</th>\n",
       "      <td>382282</td>\n",
       "      <td>DYLAN KADE</td>\n",
       "      <td>402</td>\n",
       "      <td>295</td>\n",
       "      <td>278</td>\n",
       "      <td>1076</td>\n",
       "      <td>572</td>\n",
       "      <td>152</td>\n",
       "      <td>72</td>\n",
       "    </tr>\n",
       "    <tr>\n",
       "      <th>369</th>\n",
       "      <td>901799</td>\n",
       "      <td>NICK TUNZI</td>\n",
       "      <td>384</td>\n",
       "      <td>305</td>\n",
       "      <td>322</td>\n",
       "      <td>1097</td>\n",
       "      <td>571</td>\n",
       "      <td>140</td>\n",
       "      <td>91</td>\n",
       "    </tr>\n",
       "    <tr>\n",
       "      <th>65</th>\n",
       "      <td>623552</td>\n",
       "      <td>VINCENT RAMIREZ</td>\n",
       "      <td>390</td>\n",
       "      <td>304</td>\n",
       "      <td>290</td>\n",
       "      <td>1057</td>\n",
       "      <td>546</td>\n",
       "      <td>135</td>\n",
       "      <td>91</td>\n",
       "    </tr>\n",
       "  </tbody>\n",
       "</table>\n",
       "</div>"
      ],
      "text/plain": [
       "         id             name  leaderboard_18_1_reps  \\\n",
       "86   671093    DALLIN PEPPER                    416   \n",
       "78   655641       ZACH MAYER                    392   \n",
       "4    382282       DYLAN KADE                    402   \n",
       "369  901799       NICK TUNZI                    384   \n",
       "65   623552  VINCENT RAMIREZ                    390   \n",
       "\n",
       "     leaderboard_18_2_time_secs  leaderboard_18_2a_weight_lbs  \\\n",
       "86                          265                           301   \n",
       "78                          298                           307   \n",
       "4                           295                           278   \n",
       "369                         305                           322   \n",
       "65                          304                           290   \n",
       "\n",
       "     leaderboard_18_3_time_secs  leaderboard_18_4_time_secs  \\\n",
       "86                         1073                         576   \n",
       "78                         1076                         568   \n",
       "4                          1076                         572   \n",
       "369                        1097                         571   \n",
       "65                         1057                         546   \n",
       "\n",
       "     leaderboard_18_5_reps  points  \n",
       "86                     147      40  \n",
       "78                     152      43  \n",
       "4                      152      72  \n",
       "369                    140      91  \n",
       "65                     135      91  "
      ]
     },
     "execution_count": 740,
     "metadata": {},
     "output_type": "execute_result"
    }
   ],
   "source": [
    "#database credentials\n",
    "creds = [db_host, db_user, db_pass, db_name, db_charset]\n",
    "#may need to reimport scorer module if changing code inside it between runs\n",
    "importlib.reload(scorer)\n",
    "#boys open leaderboard\n",
    "scorer.leaderboard(16, 0, [\"id\", \"name\"] + open_keys, creds).head(5)"
   ]
  },
  {
   "cell_type": "markdown",
   "metadata": {},
   "source": [
    "## the difference between top ranges of athletes\n",
    "The Open is meant to test general physical preparedness on an accessible level. Athletes send their scores in online, and are ranked according to how well they score based on their fellow in-division competitors. I'm going to plot the worst-performing and highest-performing range for each open leaderboard below. This range will outline the amount of variance between workouts at the highest end of competition. This range will be outlined and shaded.\n",
    "\n",
    "Within this range, I'll also plot a select few lines, which are representative of select athletes' scores, or average scores for select athlete ranges (average of top 100 for example)."
   ]
  },
  {
   "cell_type": "code",
   "execution_count": 741,
   "metadata": {},
   "outputs": [
    {
     "data": {
      "text/html": [
       "<div>\n",
       "<style>\n",
       "    .dataframe thead tr:only-child th {\n",
       "        text-align: right;\n",
       "    }\n",
       "\n",
       "    .dataframe thead th {\n",
       "        text-align: left;\n",
       "    }\n",
       "\n",
       "    .dataframe tbody tr th {\n",
       "        vertical-align: top;\n",
       "    }\n",
       "</style>\n",
       "<table border=\"1\" class=\"dataframe\">\n",
       "  <thead>\n",
       "    <tr style=\"text-align: right;\">\n",
       "      <th></th>\n",
       "      <th>id</th>\n",
       "      <th>name</th>\n",
       "      <th>leaderboard_18_1_reps</th>\n",
       "      <th>leaderboard_18_2_time_secs</th>\n",
       "      <th>leaderboard_18_2a_weight_lbs</th>\n",
       "      <th>leaderboard_18_3_time_secs</th>\n",
       "      <th>leaderboard_18_4_time_secs</th>\n",
       "      <th>leaderboard_18_5_reps</th>\n",
       "      <th>points</th>\n",
       "    </tr>\n",
       "  </thead>\n",
       "  <tbody>\n",
       "    <tr>\n",
       "      <th>855</th>\n",
       "      <td>153604</td>\n",
       "      <td>MATHEW FRASER</td>\n",
       "      <td>476</td>\n",
       "      <td>242</td>\n",
       "      <td>380</td>\n",
       "      <td>852</td>\n",
       "      <td>399</td>\n",
       "      <td>198</td>\n",
       "      <td>84</td>\n",
       "    </tr>\n",
       "    <tr>\n",
       "      <th>949</th>\n",
       "      <td>180541</td>\n",
       "      <td>ALEX VIGNEAULT</td>\n",
       "      <td>472</td>\n",
       "      <td>258</td>\n",
       "      <td>382</td>\n",
       "      <td>952</td>\n",
       "      <td>408</td>\n",
       "      <td>179</td>\n",
       "      <td>386</td>\n",
       "    </tr>\n",
       "    <tr>\n",
       "      <th>875</th>\n",
       "      <td>158264</td>\n",
       "      <td>PATRICK VELLNER</td>\n",
       "      <td>476</td>\n",
       "      <td>246</td>\n",
       "      <td>343</td>\n",
       "      <td>851</td>\n",
       "      <td>409</td>\n",
       "      <td>174</td>\n",
       "      <td>444</td>\n",
       "    </tr>\n",
       "    <tr>\n",
       "      <th>2368</th>\n",
       "      <td>702092</td>\n",
       "      <td>WILLY GEORGES</td>\n",
       "      <td>460</td>\n",
       "      <td>257</td>\n",
       "      <td>364</td>\n",
       "      <td>892</td>\n",
       "      <td>501</td>\n",
       "      <td>188</td>\n",
       "      <td>483</td>\n",
       "    </tr>\n",
       "    <tr>\n",
       "      <th>1481</th>\n",
       "      <td>308712</td>\n",
       "      <td>JEAN-SIMON ROY-LEMAIRE</td>\n",
       "      <td>468</td>\n",
       "      <td>238</td>\n",
       "      <td>346</td>\n",
       "      <td>952</td>\n",
       "      <td>463</td>\n",
       "      <td>178</td>\n",
       "      <td>488</td>\n",
       "    </tr>\n",
       "  </tbody>\n",
       "</table>\n",
       "</div>"
      ],
      "text/plain": [
       "          id                    name  leaderboard_18_1_reps  \\\n",
       "855   153604           MATHEW FRASER                    476   \n",
       "949   180541          ALEX VIGNEAULT                    472   \n",
       "875   158264         PATRICK VELLNER                    476   \n",
       "2368  702092           WILLY GEORGES                    460   \n",
       "1481  308712  JEAN-SIMON ROY-LEMAIRE                    468   \n",
       "\n",
       "      leaderboard_18_2_time_secs  leaderboard_18_2a_weight_lbs  \\\n",
       "855                          242                           380   \n",
       "949                          258                           382   \n",
       "875                          246                           343   \n",
       "2368                         257                           364   \n",
       "1481                         238                           346   \n",
       "\n",
       "      leaderboard_18_3_time_secs  leaderboard_18_4_time_secs  \\\n",
       "855                          852                         399   \n",
       "949                          952                         408   \n",
       "875                          851                         409   \n",
       "2368                         892                         501   \n",
       "1481                         952                         463   \n",
       "\n",
       "      leaderboard_18_5_reps  points  \n",
       "855                     198      84  \n",
       "949                     179     386  \n",
       "875                     174     444  \n",
       "2368                    188     483  \n",
       "1481                    178     488  "
      ]
     },
     "execution_count": 741,
     "metadata": {},
     "output_type": "execute_result"
    }
   ],
   "source": [
    "#use men's division for rest of notebook (athlete profiles tend to be more complete)\n",
    "working_division_id = 1\n",
    "working_leaderboard = scorer.leaderboard(working_division_id, 0, [\"id\", \"name\"] + open_keys, creds)\n",
    "working_leaderboard.head(5)"
   ]
  },
  {
   "cell_type": "markdown",
   "metadata": {},
   "source": [
    "<img src=\"images/mens_leaderboard_comparison.png\" />"
   ]
  },
  {
   "cell_type": "markdown",
   "metadata": {},
   "source": [
    "The following function is used as a helper to turn data from Pandas dataframes into MySQL parseable queries. Note that again, it'd just be easier to do this in Pandas, but I'm trying to increase my SQL utility."
   ]
  },
  {
   "cell_type": "code",
   "execution_count": 742,
   "metadata": {
    "collapsed": true
   },
   "outputs": [],
   "source": [
    "def grab_top_n_summarizer_data(n, div_id, func_str, dataframe):\n",
    "    \"\"\"\n",
    "    Returns a string of the following form with the ({} filled in accordingly):\n",
    "        \"SELECT {} FROM athlete WHERE division_id={} AND id IN ({});\".\n",
    "    This function requires the athlete ID column as a feature in the specified\n",
    "    dataframe, in addition to at least 1 field ending in reps, secs, or lbs.\n",
    "    \"\"\"\n",
    "    return grab_data(\n",
    "        \"\"\"\n",
    "            SELECT {} FROM athlete WHERE division_id={} AND id IN ({})\n",
    "        \"\"\"\n",
    "        .format(\n",
    "            \", \".join(\n",
    "                    [\n",
    "                        \"{}({}) as '{}top{} {}'\".format(\n",
    "                        #\"{}({}) as {}\".format(\n",
    "                            func_str, c, func_str, n,\n",
    "                            #func_str, c, c\n",
    "                            c.replace(\"leaderboard_\", \"\")\n",
    "                        )\n",
    "                        for c in dataframe.columns\n",
    "                           if c.endswith(\"reps\") or c.endswith(\"secs\") or c.endswith(\"lbs\")\n",
    "                    ]\n",
    "            ),\n",
    "            div_id,\n",
    "            \", \".join([str(x) for x in list(dataframe.head(n)[\"id\"])])\n",
    "        )\n",
    "    )"
   ]
  },
  {
   "cell_type": "markdown",
   "metadata": {},
   "source": [
    "### filtering the data\n",
    "Let's grab the data corresponding to the top athletes from the database. We'll do this by filtering athletes based on IDs in the men's leaderboard."
   ]
  },
  {
   "cell_type": "code",
   "execution_count": 743,
   "metadata": {},
   "outputs": [],
   "source": [
    "ranges = [10, 100, 1000]\n",
    "funcs = [\"MIN\", \"MAX\", \"AVG\"]\n",
    "#resulting dataframes are ordered as follows:\n",
    "#[top10min, top10max, top10avg, top100min, ...]\n",
    "result = [grab_top_n_summarizer_data(n, working_division_id, f, working_leaderboard)\n",
    "              for n in ranges for f in funcs]"
   ]
  },
  {
   "cell_type": "code",
   "execution_count": 744,
   "metadata": {},
   "outputs": [
    {
     "data": {
      "text/html": [
       "<div>\n",
       "<style>\n",
       "    .dataframe thead tr:only-child th {\n",
       "        text-align: right;\n",
       "    }\n",
       "\n",
       "    .dataframe thead th {\n",
       "        text-align: left;\n",
       "    }\n",
       "\n",
       "    .dataframe tbody tr th {\n",
       "        vertical-align: top;\n",
       "    }\n",
       "</style>\n",
       "<table border=\"1\" class=\"dataframe\">\n",
       "  <thead>\n",
       "    <tr style=\"text-align: right;\">\n",
       "      <th></th>\n",
       "      <th>MINtop10 18_1_reps</th>\n",
       "      <th>MINtop10 18_2_time_secs</th>\n",
       "      <th>MINtop10 18_2a_weight_lbs</th>\n",
       "      <th>MINtop10 18_3_time_secs</th>\n",
       "      <th>MINtop10 18_4_time_secs</th>\n",
       "      <th>MINtop10 18_5_reps</th>\n",
       "    </tr>\n",
       "  </thead>\n",
       "  <tbody>\n",
       "    <tr>\n",
       "      <th>0</th>\n",
       "      <td>441</td>\n",
       "      <td>238</td>\n",
       "      <td>336</td>\n",
       "      <td>846</td>\n",
       "      <td>399</td>\n",
       "      <td>174</td>\n",
       "    </tr>\n",
       "  </tbody>\n",
       "</table>\n",
       "</div>"
      ],
      "text/plain": [
       "   MINtop10 18_1_reps  MINtop10 18_2_time_secs  MINtop10 18_2a_weight_lbs  \\\n",
       "0                 441                      238                        336   \n",
       "\n",
       "   MINtop10 18_3_time_secs  MINtop10 18_4_time_secs  MINtop10 18_5_reps  \n",
       "0                      846                      399                 174  "
      ]
     },
     "execution_count": 744,
     "metadata": {},
     "output_type": "execute_result"
    }
   ],
   "source": [
    "result[0]"
   ]
  },
  {
   "cell_type": "markdown",
   "metadata": {},
   "source": [
    "### plotting the top 10 ([source](https://matplotlib.org/examples/pylab_examples/fill_between_demo.html))\n",
    "Below the data is plotted "
   ]
  },
  {
   "cell_type": "code",
   "execution_count": 745,
   "metadata": {},
   "outputs": [
    {
     "data": {
      "text/plain": [
       "'SEBASTIÁN ARVIZU'"
      ]
     },
     "execution_count": 745,
     "metadata": {},
     "output_type": "execute_result"
    }
   ],
   "source": [
    "working_leaderboard.iloc[1000][\"name\"]"
   ]
  },
  {
   "cell_type": "code",
   "execution_count": 749,
   "metadata": {
    "scrolled": false
   },
   "outputs": [
    {
     "name": "stderr",
     "output_type": "stream",
     "text": [
      "C:\\Users\\unknown\\AppData\\Local\\conda\\conda\\envs\\crossfit_open_2018\\lib\\site-packages\\matplotlib\\axes\\_axes.py:545: UserWarning: No labelled objects found. Use label='...' kwarg on individual plots.\n",
      "  warnings.warn(\"No labelled objects found. \"\n"
     ]
    },
    {
     "data": {
      "image/png": "[encoded data removed]",
      "text/plain": [
       "<matplotlib.figure.Figure at 0x152f58e2358>"
      ]
     },
     "metadata": {},
     "output_type": "display_data"
    }
   ],
   "source": [
    "#colors for [lo bounds, lo specific, lo shade, mid bounds, ...]\n",
    "highlight_colors = [\"#ff0059\", \"#00ff99\"]\n",
    "bounding_colors = [\"#33ccff\", \"#00bbff\"]\n",
    "marker = \"x\"\n",
    "\n",
    "#plot specific athletes' data\n",
    "working_measure_columns = [c for c in working_leaderboard.columns\n",
    "                               if c.endswith(\"secs\") or c.endswith(\"reps\") or c.endswith(\"lbs\")]\n",
    "working_athletes = [pd.DataFrame(working_leaderboard.iloc[i][working_measure_columns]).transpose()\n",
    "                        for i in [0, 1000]]\n",
    "\n",
    "#plot range of top athletes\n",
    "for i in [6,7]:\n",
    "    sb.pointplot(data=result[i], color=bounding_colors[0], linestyles=[\"--\"], markersize=60)\n",
    "\n",
    "#shading\n",
    "xlim = int(plt.xlim()[1]) + 1\n",
    "fill_range = np.array([i for i in range(xlim)])\n",
    "plt.fill_between(\n",
    "    fill_range,\n",
    "    result[6].values[0],\n",
    "    result[7].values[0],\n",
    "    color=bounding_colors[1],\n",
    "    alpha=.3\n",
    ")\n",
    "\n",
    "#plot each athlete\n",
    "for i in range(len(working_athletes)):\n",
    "    sb.pointplot(\n",
    "        data=working_athletes[len(working_athletes) - 1 - i],\n",
    "        color=highlight_colors[len(highlight_colors) - 1 - i],\n",
    "        markers=marker\n",
    "        #scale=1\n",
    "    )\n",
    "    plt.xlabel(working_leaderboard.iloc[i][\"name\"])\n",
    "\n",
    "plt.xlabel(\"metric\")\n",
    "plt.ylabel(\"points\")\n",
    "plt.title(\"Working Leaderboard Metric Measurements\")\n",
    "plt.xticks(rotation=45)\n",
    "plt.grid(True)\n",
    "plt.legend()\n",
    "plt.show()"
   ]
  },
  {
   "cell_type": "code",
   "execution_count": 747,
   "metadata": {
    "scrolled": true
   },
   "outputs": [
    {
     "data": {
      "text/html": [
       "<div>\n",
       "<style>\n",
       "    .dataframe thead tr:only-child th {\n",
       "        text-align: right;\n",
       "    }\n",
       "\n",
       "    .dataframe thead th {\n",
       "        text-align: left;\n",
       "    }\n",
       "\n",
       "    .dataframe tbody tr th {\n",
       "        vertical-align: top;\n",
       "    }\n",
       "</style>\n",
       "<table border=\"1\" class=\"dataframe\">\n",
       "  <thead>\n",
       "    <tr style=\"text-align: right;\">\n",
       "      <th></th>\n",
       "      <th>leaderboard_18_1_reps</th>\n",
       "      <th>leaderboard_18_2_time_secs</th>\n",
       "      <th>leaderboard_18_2a_weight_lbs</th>\n",
       "      <th>leaderboard_18_3_time_secs</th>\n",
       "      <th>leaderboard_18_4_time_secs</th>\n",
       "      <th>leaderboard_18_5_reps</th>\n",
       "    </tr>\n",
       "  </thead>\n",
       "  <tbody>\n",
       "    <tr>\n",
       "      <th>855</th>\n",
       "      <td>476</td>\n",
       "      <td>242</td>\n",
       "      <td>380</td>\n",
       "      <td>852</td>\n",
       "      <td>399</td>\n",
       "      <td>198</td>\n",
       "    </tr>\n",
       "  </tbody>\n",
       "</table>\n",
       "</div>"
      ],
      "text/plain": [
       "    leaderboard_18_1_reps leaderboard_18_2_time_secs  \\\n",
       "855                   476                        242   \n",
       "\n",
       "    leaderboard_18_2a_weight_lbs leaderboard_18_3_time_secs  \\\n",
       "855                          380                        852   \n",
       "\n",
       "    leaderboard_18_4_time_secs leaderboard_18_5_reps  \n",
       "855                        399                   198  "
      ]
     },
     "execution_count": 747,
     "metadata": {},
     "output_type": "execute_result"
    }
   ],
   "source": [
    "working_athletes[0]"
   ]
  },
  {
   "cell_type": "markdown",
   "metadata": {},
   "source": [
    "## the impact of height and weight\n",
    "One of CrossFit's biggest appeals is that anybody can do it. Whether you're old or young, fat or thin, tall or short, there's usually a scalable alternative to some movement. However, one of the sport's biggest criticisms is that within specific divisions, there's no weight class. Divisions solely split up athletes based on gender and age. Because we have the data, we can see the impact variables like height and weight have on Open scoring.\n",
    "\n",
    "Below we'll show a heatmap representation of this data. [But first](https://www.youtube.com/watch?v=kdemFfbS5H0&feature=youtu.be&t=36s), let's look at a distribution of the height and weight data.\n",
    "\n",
    "### grabbing height/weight data from the working table"
   ]
  },
  {
   "cell_type": "code",
   "execution_count": 827,
   "metadata": {},
   "outputs": [],
   "source": [
    "height_weight_points = working_leaderboard[[\"id\", \"name\", \"points\"]].merge(\n",
    "    grab_data(\n",
    "        \"\"\"\n",
    "            SELECT id, height_in, weight_lbs FROM athlete\n",
    "                WHERE id IN ({}) AND\n",
    "                height_in >= 50 AND\n",
    "                height_in <= 100 AND\n",
    "                weight_lbs >= 100 AND\n",
    "                weight_lbs <= 400;\n",
    "        \"\"\"\n",
    "        .format(\n",
    "            \", \".join([str(x) for x in list(working_leaderboard[\"id\"])])\n",
    "        )\n",
    "    )\n",
    ")"
   ]
  },
  {
   "cell_type": "code",
   "execution_count": 828,
   "metadata": {},
   "outputs": [
    {
     "data": {
      "text/html": [
       "<div>\n",
       "<style>\n",
       "    .dataframe thead tr:only-child th {\n",
       "        text-align: right;\n",
       "    }\n",
       "\n",
       "    .dataframe thead th {\n",
       "        text-align: left;\n",
       "    }\n",
       "\n",
       "    .dataframe tbody tr th {\n",
       "        vertical-align: top;\n",
       "    }\n",
       "</style>\n",
       "<table border=\"1\" class=\"dataframe\">\n",
       "  <thead>\n",
       "    <tr style=\"text-align: right;\">\n",
       "      <th></th>\n",
       "      <th>id</th>\n",
       "      <th>name</th>\n",
       "      <th>points</th>\n",
       "      <th>height_in</th>\n",
       "      <th>weight_lbs</th>\n",
       "    </tr>\n",
       "  </thead>\n",
       "  <tbody>\n",
       "    <tr>\n",
       "      <th>0</th>\n",
       "      <td>153604</td>\n",
       "      <td>MATHEW FRASER</td>\n",
       "      <td>84</td>\n",
       "      <td>67</td>\n",
       "      <td>190</td>\n",
       "    </tr>\n",
       "    <tr>\n",
       "      <th>1</th>\n",
       "      <td>180541</td>\n",
       "      <td>ALEX VIGNEAULT</td>\n",
       "      <td>386</td>\n",
       "      <td>71</td>\n",
       "      <td>208</td>\n",
       "    </tr>\n",
       "    <tr>\n",
       "      <th>2</th>\n",
       "      <td>158264</td>\n",
       "      <td>PATRICK VELLNER</td>\n",
       "      <td>444</td>\n",
       "      <td>71</td>\n",
       "      <td>195</td>\n",
       "    </tr>\n",
       "    <tr>\n",
       "      <th>3</th>\n",
       "      <td>702092</td>\n",
       "      <td>WILLY GEORGES</td>\n",
       "      <td>483</td>\n",
       "      <td>70</td>\n",
       "      <td>190</td>\n",
       "    </tr>\n",
       "    <tr>\n",
       "      <th>4</th>\n",
       "      <td>308712</td>\n",
       "      <td>JEAN-SIMON ROY-LEMAIRE</td>\n",
       "      <td>488</td>\n",
       "      <td>69</td>\n",
       "      <td>195</td>\n",
       "    </tr>\n",
       "  </tbody>\n",
       "</table>\n",
       "</div>"
      ],
      "text/plain": [
       "       id                    name  points  height_in  weight_lbs\n",
       "0  153604           MATHEW FRASER      84         67         190\n",
       "1  180541          ALEX VIGNEAULT     386         71         208\n",
       "2  158264         PATRICK VELLNER     444         71         195\n",
       "3  702092           WILLY GEORGES     483         70         190\n",
       "4  308712  JEAN-SIMON ROY-LEMAIRE     488         69         195"
      ]
     },
     "execution_count": 828,
     "metadata": {},
     "output_type": "execute_result"
    }
   ],
   "source": [
    "height_weight_points.head(5)"
   ]
  },
  {
   "cell_type": "markdown",
   "metadata": {},
   "source": [
    "### plotting the distributions"
   ]
  },
  {
   "cell_type": "code",
   "execution_count": 835,
   "metadata": {},
   "outputs": [
    {
     "data": {
      "image/png": "[encoded data removed]",
      "text/plain": [
       "<matplotlib.figure.Figure at 0x152f35b9fd0>"
      ]
     },
     "metadata": {},
     "output_type": "display_data"
    },
    {
     "data": {
      "image/png": "[encoded data removed]",
      "text/plain": [
       "<matplotlib.figure.Figure at 0x152f80ef208>"
      ]
     },
     "metadata": {},
     "output_type": "display_data"
    }
   ],
   "source": [
    "height_weight_cols = [\"height_in\", \"weight_lbs\"]\n",
    "#height_weight_axis_ranges = [[50, 100, 0, 3000], [50, 300, 0, 2000]]\n",
    "height_weight_bins = [15, 30]\n",
    "#plot each lift\n",
    "for i in range(len(height_weight_cols)):\n",
    "    #fit plot\n",
    "    #fit, ax = plt.subplots(facecolor = \"black\")\n",
    "    sb.distplot(\n",
    "        np.array(height_weight_points[height_weight_cols[i]]),\n",
    "        bins=height_weight_bins[i],\n",
    "        label=c[:-4].replace(\"_\", \" \"),\n",
    "        hist_kws = {\n",
    "            \"normed\": True\n",
    "        }\n",
    "    )\n",
    "    \"\"\"plt.hist(\n",
    "        #height_weight_points[height_weight_cols[i]],\n",
    "        height_weight_points[\"height_in\"].unique(),\n",
    "        50,\n",
    "        alpha=0.5,\n",
    "        normed=True\n",
    "    )\"\"\"\n",
    "    #label axes and add to labels for legend\n",
    "    plt.xlabel(height_weight_cols[i])\n",
    "    #grid\n",
    "    plt.grid(True)\n",
    "    #title\n",
    "    plt.title(c.replace(\"_\", \" \").title() + \" Distribution\")\n",
    "    #axis display range\n",
    "    #plt.axis(height_weight_axis_ranges[i])\n",
    "    #showing/labeling\n",
    "    plt.xlabel(height_weight_cols[i])\n",
    "    plt.ylabel(\"frequency\")\n",
    "    plt.show()\n",
    "#axes bounds\n",
    "#plt.axis([50, 450, 0, 0.03])\n",
    "#legend (.get_frame().set_alpha() sets the backgroudn on the legend)\n",
    "#leg = plt.legend()\n",
    "#for t in leg.get_texts():\n",
    "#    t.set_color(font_color)\n",
    "#plt.legend().get_frame().set_alpha(.95)\n",
    "#show\n",
    "#plt.show()"
   ]
  },
  {
   "cell_type": "code",
   "execution_count": null,
   "metadata": {},
   "outputs": [],
   "source": [
    "flights_long = sb.load_dataset(\"flights\")\n",
    "flights = flights_long.pivot(\"month\", \"year\", \"passengers\")\n",
    "sb.heatmap(flights, annot=True, fmt=\"d\", linewidths=.5)\n",
    "plt.show()"
   ]
  },
  {
   "cell_type": "code",
   "execution_count": null,
   "metadata": {},
   "outputs": [],
   "source": [
    "flights"
   ]
  }
 ],
 "metadata": {
  "kernelspec": {
   "display_name": "Python 3",
   "language": "python",
   "name": "python3"
  },
  "language_info": {
   "codemirror_mode": {
    "name": "ipython",
    "version": 3
   },
   "file_extension": ".py",
   "mimetype": "text/x-python",
   "name": "python",
   "nbconvert_exporter": "python",
   "pygments_lexer": "ipython3",
   "version": "3.5.4"
  }
 },
 "nbformat": 4,
 "nbformat_minor": 2
}
