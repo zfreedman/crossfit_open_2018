{
 "cells": [
  {
   "cell_type": "markdown",
   "metadata": {},
   "source": [
    "# data visualization\n",
    "In this notebook, SQL queries will be implemented to extract data based on specific filtering criteria. This data will then be read into Pandas dataframes, after which several visuals will be generated (based on the data) using Matplotlib. It's important to note that although these filters could be done by reading the full database into Pandas dataframes and then filtering, keeping the entire data filtering process within Python and Pandas/NumPy, PyMySQL will be used to extract specific data on a per-visual basis instead."
   ]
  },
  {
   "cell_type": "code",
   "execution_count": 54,
   "metadata": {
    "collapsed": true
   },
   "outputs": [],
   "source": [
    "#datbase connector\n",
    "import pymysql as pms\n",
    "#local dataframe representations of data\n",
    "import pandas as pd\n",
    "#used for quick testing of concepts, but also for math\n",
    "import numpy as np"
   ]
  },
  {
   "cell_type": "markdown",
   "metadata": {},
   "source": [
    "## grabbing data\n",
    "The below function will be utilized again and again to connect to the database, execute a SQL query, extract a result into a Pandas dataframe, and close the database connection. But, first we need to read in the database credentials required for connecting to the MySQL client."
   ]
  },
  {
   "cell_type": "code",
   "execution_count": 55,
   "metadata": {
    "collapsed": true
   },
   "outputs": [],
   "source": [
    "db_user = \"\"\n",
    "db_pass = \"\"\n",
    "db_name = \"\"\n",
    "db_host = \"\"\n",
    "db_charset = \"utf8\"\n",
    "with open(\"database_credentials2.txt\") as f:\n",
    "    db_user = f.readline().strip()\n",
    "    db_pass = f.readline().strip()\n",
    "    db_name = f.readline().strip()\n",
    "    db_host = f.readline().strip()"
   ]
  },
  {
   "cell_type": "code",
   "execution_count": 56,
   "metadata": {
    "collapsed": true
   },
   "outputs": [],
   "source": [
    "def grab_data(sql):\n",
    "    \"\"\"\n",
    "    1. Open a connection to MySQL using PyMySQL\n",
    "    2. Grab data based on the specified SQL query and store it in a Pandas dataframe\n",
    "    3. Close the PyMySQL connection\n",
    "    4. Return the Pandas dataframe\n",
    "    \"\"\"\n",
    "    try:\n",
    "        #connect\n",
    "        con = pms.connect(host=db_host, user=db_user, passwd=db_pass, db=db_name, charset=db_charset)\n",
    "        #print(\"Connected: {}\".format(con.open))\n",
    "        \n",
    "        #execute query and read into dataframe\n",
    "        #(https://stackoverflow.com/questions/12047193/how-to-convert-sql-query-result-to-pandas-data-structure?utm_medium=organic&utm_source=google_rich_qa&utm_campaign=google_rich_qa)\n",
    "        df = pd.read_sql(sql, con)\n",
    "    except:\n",
    "        print(\"You messed up\")\n",
    "    finally:\n",
    "        if con:\n",
    "            #close connection\n",
    "            con.close()\n",
    "            #print(\"Connected: {}\".format(con.open))\n",
    "    \n",
    "    #return dataframe\n",
    "    return df"
   ]
  },
  {
   "cell_type": "markdown",
   "metadata": {},
   "source": [
    "## sample plot\n",
    "This notebook will utilize [Seaborn](https://seaborn.pydata.org/index.html), a library built on top of [Matplotlib](https://matplotlib.org/), for data visualization. Below we use Seaborn to show the distribution of the Women's division's back squat, clean and jerk, deadlift, and snatch for those who competed in the 2018 CrossFit Open."
   ]
  },
  {
   "cell_type": "code",
   "execution_count": 57,
   "metadata": {
    "collapsed": true
   },
   "outputs": [],
   "source": [
    "#extract data\n",
    "womens_lifts_df = grab_data(\n",
    "    \"\"\"\n",
    "    SELECT back_squat_lbs, clean_and_jerk_lbs, snatch_lbs, deadlift_lbs FROM athlete WHERE division_id=2 AND (\n",
    "        back_squat_lbs > 0 AND\n",
    "        clean_and_jerk_lbs > 0 AND\n",
    "        snatch_lbs > 0 AND\n",
    "        deadlift_lbs > 0\n",
    "    );\n",
    "    \"\"\"\n",
    ")"
   ]
  },
  {
   "cell_type": "code",
   "execution_count": 58,
   "metadata": {
    "collapsed": true
   },
   "outputs": [],
   "source": [
    "#import matplotlib and seaborn\n",
    "import matplotlib.pyplot as plt\n",
    "import seaborn as sb"
   ]
  },
  {
   "cell_type": "code",
   "execution_count": 59,
   "metadata": {},
   "outputs": [
    {
     "data": {
      "text/html": [
       "<div>\n",
       "<style>\n",
       "    .dataframe thead tr:only-child th {\n",
       "        text-align: right;\n",
       "    }\n",
       "\n",
       "    .dataframe thead th {\n",
       "        text-align: left;\n",
       "    }\n",
       "\n",
       "    .dataframe tbody tr th {\n",
       "        vertical-align: top;\n",
       "    }\n",
       "</style>\n",
       "<table border=\"1\" class=\"dataframe\">\n",
       "  <thead>\n",
       "    <tr style=\"text-align: right;\">\n",
       "      <th></th>\n",
       "      <th>back_squat_lbs</th>\n",
       "      <th>clean_and_jerk_lbs</th>\n",
       "      <th>snatch_lbs</th>\n",
       "      <th>deadlift_lbs</th>\n",
       "    </tr>\n",
       "  </thead>\n",
       "  <tbody>\n",
       "    <tr>\n",
       "      <th>0</th>\n",
       "      <td>315</td>\n",
       "      <td>220</td>\n",
       "      <td>169</td>\n",
       "      <td>352</td>\n",
       "    </tr>\n",
       "    <tr>\n",
       "      <th>1</th>\n",
       "      <td>275</td>\n",
       "      <td>220</td>\n",
       "      <td>180</td>\n",
       "      <td>385</td>\n",
       "    </tr>\n",
       "    <tr>\n",
       "      <th>2</th>\n",
       "      <td>350</td>\n",
       "      <td>230</td>\n",
       "      <td>185</td>\n",
       "      <td>365</td>\n",
       "    </tr>\n",
       "    <tr>\n",
       "      <th>3</th>\n",
       "      <td>341</td>\n",
       "      <td>260</td>\n",
       "      <td>220</td>\n",
       "      <td>363</td>\n",
       "    </tr>\n",
       "    <tr>\n",
       "      <th>4</th>\n",
       "      <td>285</td>\n",
       "      <td>210</td>\n",
       "      <td>170</td>\n",
       "      <td>340</td>\n",
       "    </tr>\n",
       "    <tr>\n",
       "      <th>5</th>\n",
       "      <td>275</td>\n",
       "      <td>227</td>\n",
       "      <td>185</td>\n",
       "      <td>335</td>\n",
       "    </tr>\n",
       "    <tr>\n",
       "      <th>6</th>\n",
       "      <td>245</td>\n",
       "      <td>212</td>\n",
       "      <td>170</td>\n",
       "      <td>300</td>\n",
       "    </tr>\n",
       "    <tr>\n",
       "      <th>7</th>\n",
       "      <td>275</td>\n",
       "      <td>220</td>\n",
       "      <td>175</td>\n",
       "      <td>345</td>\n",
       "    </tr>\n",
       "    <tr>\n",
       "      <th>8</th>\n",
       "      <td>265</td>\n",
       "      <td>220</td>\n",
       "      <td>175</td>\n",
       "      <td>395</td>\n",
       "    </tr>\n",
       "    <tr>\n",
       "      <th>9</th>\n",
       "      <td>310</td>\n",
       "      <td>230</td>\n",
       "      <td>190</td>\n",
       "      <td>300</td>\n",
       "    </tr>\n",
       "  </tbody>\n",
       "</table>\n",
       "</div>"
      ],
      "text/plain": [
       "   back_squat_lbs  clean_and_jerk_lbs  snatch_lbs  deadlift_lbs\n",
       "0             315                 220         169           352\n",
       "1             275                 220         180           385\n",
       "2             350                 230         185           365\n",
       "3             341                 260         220           363\n",
       "4             285                 210         170           340\n",
       "5             275                 227         185           335\n",
       "6             245                 212         170           300\n",
       "7             275                 220         175           345\n",
       "8             265                 220         175           395\n",
       "9             310                 230         190           300"
      ]
     },
     "execution_count": 59,
     "metadata": {},
     "output_type": "execute_result"
    }
   ],
   "source": [
    "#show sample of data\n",
    "womens_lifts_df.head(10)"
   ]
  },
  {
   "cell_type": "code",
   "execution_count": 65,
   "metadata": {},
   "outputs": [
    {
     "data": {
      "image/png": "[encoded data removed]",
      "text/plain": [
       "<matplotlib.figure.Figure at 0x11db2c2f7b8>"
      ]
     },
     "metadata": {},
     "output_type": "display_data"
    }
   ],
   "source": [
    "#plot each lift\n",
    "for c in womens_lifts_df.columns:\n",
    "    #fit plot\n",
    "    sb.distplot(np.array(womens_lifts_df[c]), bins=10, label=c[:-4].replace(\"_\", \" \"))\n",
    "    #label axes and add to labels for legend\n",
    "    plt.xlabel(c)\n",
    "    plt.ylabel(\"frequency\")\n",
    "    #grid\n",
    "    plt.grid(True)\n",
    "    #title\n",
    "    plt.title(c.replace(\"_\", \" \").title() + \" Distribution\")\n",
    "#axes bounds\n",
    "plt.axis([0, 550, 0, 0.04])\n",
    "#legend (.get_frame().set_alpha() sets the backgroudn on the legend)\n",
    "#plt.legend()\n",
    "plt.legend().get_frame().set_alpha(0.5)\n",
    "#show\n",
    "plt.show()"
   ]
  },
  {
   "cell_type": "markdown",
   "metadata": {},
   "source": [
    "## scoring athletes basedon performance\n",
    "Athlete scoring has been written in a separate module called `scorer`. The scorer.py file can be found in this repo, and contains in-depth documentation of how athletes are evaluated. The scoring metric implemented in very similar (but not identical) to that of the CrossFit leaderboard.\n",
    "\n",
    "One important thing to note is that the leaderboard function was written to reduce repetitive code as much as possible. Therefore, in order to avoid opening connections this notebook within `try` blocks and having to close them and monitor exceptions, the leaderboard expects to open the database connection on it's own.\n",
    "Given this, the leaderboard function expects a list containing the required database credentials, where the order is the same as that of the `pms.connect()` parameter list in `grab_data()` (host, user, passwd, db, charset)."
   ]
  },
  {
   "cell_type": "code",
   "execution_count": 61,
   "metadata": {
    "collapsed": true
   },
   "outputs": [],
   "source": [
    "import importlib\n",
    "import scorer"
   ]
  },
  {
   "cell_type": "code",
   "execution_count": 62,
   "metadata": {},
   "outputs": [
    {
     "data": {
      "text/plain": [
       "'[\"id\", \"name\"] + [\"leaderboard_{}\".format(c) for c in [\\n        \"18_1_reps\",\\n        \"18_2_time_secs\",\\n        \"18_2a_weight_lbs\",\\n        \"18_3_reps\",\\n        \"18_4_time_secs\",\\n        \"18_5_reps\"\\n    ]]'"
      ]
     },
     "execution_count": 62,
     "metadata": {},
     "output_type": "execute_result"
    }
   ],
   "source": [
    "\"\"\"[\"id\", \"name\"] + [\"leaderboard_{}\".format(c) for c in [\n",
    "        \"18_1_reps\",\n",
    "        \"18_2_time_secs\",\n",
    "        \"18_2a_weight_lbs\",\n",
    "        \"18_3_reps\",\n",
    "        \"18_4_time_secs\",\n",
    "        \"18_5_reps\"\n",
    "    ]]\"\"\""
   ]
  },
  {
   "cell_type": "code",
   "execution_count": 63,
   "metadata": {},
   "outputs": [],
   "source": [
    "#database credentials\n",
    "creds = [db_host, db_user, db_pass, db_name, db_charset]\n",
    "#may need to reimport scorer module if changing code inside it between runs\n",
    "importlib.reload(scorer)\n",
    "mens_open_lb = scorer.leaderboard(\n",
    "    18,\n",
    "    0,\n",
    "    10,\n",
    "    #[\"id\", \"name\", \"back_squat_lbs\", \"sprint_400_m_time_secs\", \"max_pull_ups\", \"deadlift_lbs\"],\n",
    "    [\"id\", \"name\"] + [\"leaderboard_{}\".format(c) for c in [\n",
    "        \"18_4_time_secs\",\n",
    "        #\"18_5_reps\"\n",
    "    ]],\n",
    "    creds\n",
    ")"
   ]
  },
  {
   "cell_type": "code",
   "execution_count": 64,
   "metadata": {},
   "outputs": [
    {
     "data": {
      "text/html": [
       "<div>\n",
       "<style>\n",
       "    .dataframe thead tr:only-child th {\n",
       "        text-align: right;\n",
       "    }\n",
       "\n",
       "    .dataframe thead th {\n",
       "        text-align: left;\n",
       "    }\n",
       "\n",
       "    .dataframe tbody tr th {\n",
       "        vertical-align: top;\n",
       "    }\n",
       "</style>\n",
       "<table border=\"1\" class=\"dataframe\">\n",
       "  <thead>\n",
       "    <tr style=\"text-align: right;\">\n",
       "      <th></th>\n",
       "      <th>id</th>\n",
       "      <th>name</th>\n",
       "      <th>leaderboard_18_4_time_secs</th>\n",
       "      <th>rank</th>\n",
       "    </tr>\n",
       "  </thead>\n",
       "  <tbody>\n",
       "    <tr>\n",
       "      <th>149</th>\n",
       "      <td>255163</td>\n",
       "      <td>MICHAEL LAVERRIERE</td>\n",
       "      <td>449</td>\n",
       "      <td>0</td>\n",
       "    </tr>\n",
       "    <tr>\n",
       "      <th>103</th>\n",
       "      <td>124483</td>\n",
       "      <td>JOSH BRIDGES</td>\n",
       "      <td>465</td>\n",
       "      <td>1</td>\n",
       "    </tr>\n",
       "    <tr>\n",
       "      <th>119</th>\n",
       "      <td>164390</td>\n",
       "      <td>ALEXANDRE JOLIVET</td>\n",
       "      <td>470</td>\n",
       "      <td>2</td>\n",
       "    </tr>\n",
       "    <tr>\n",
       "      <th>47</th>\n",
       "      <td>21403</td>\n",
       "      <td>DANNY NICHOLS</td>\n",
       "      <td>485</td>\n",
       "      <td>3</td>\n",
       "    </tr>\n",
       "    <tr>\n",
       "      <th>194</th>\n",
       "      <td>879283</td>\n",
       "      <td>KONSTANTINOS PAPADOPOULOS</td>\n",
       "      <td>499</td>\n",
       "      <td>4</td>\n",
       "    </tr>\n",
       "    <tr>\n",
       "      <th>108</th>\n",
       "      <td>135283</td>\n",
       "      <td>GAVIN WARD</td>\n",
       "      <td>504</td>\n",
       "      <td>5</td>\n",
       "    </tr>\n",
       "    <tr>\n",
       "      <th>117</th>\n",
       "      <td>157939</td>\n",
       "      <td>LUKASZ TRZONKOWSKI</td>\n",
       "      <td>523</td>\n",
       "      <td>6</td>\n",
       "    </tr>\n",
       "    <tr>\n",
       "      <th>160</th>\n",
       "      <td>297862</td>\n",
       "      <td>KYLE KLEINSCHMIDT</td>\n",
       "      <td>527</td>\n",
       "      <td>7</td>\n",
       "    </tr>\n",
       "    <tr>\n",
       "      <th>111</th>\n",
       "      <td>138674</td>\n",
       "      <td>JOEL BRAN</td>\n",
       "      <td>527</td>\n",
       "      <td>8</td>\n",
       "    </tr>\n",
       "    <tr>\n",
       "      <th>142</th>\n",
       "      <td>239634</td>\n",
       "      <td>DAVID CRESPO TAMMELIN</td>\n",
       "      <td>530</td>\n",
       "      <td>9</td>\n",
       "    </tr>\n",
       "  </tbody>\n",
       "</table>\n",
       "</div>"
      ],
      "text/plain": [
       "         id                       name  leaderboard_18_4_time_secs  rank\n",
       "149  255163         MICHAEL LAVERRIERE                         449     0\n",
       "103  124483               JOSH BRIDGES                         465     1\n",
       "119  164390          ALEXANDRE JOLIVET                         470     2\n",
       "47    21403              DANNY NICHOLS                         485     3\n",
       "194  879283  KONSTANTINOS PAPADOPOULOS                         499     4\n",
       "108  135283                 GAVIN WARD                         504     5\n",
       "117  157939         LUKASZ TRZONKOWSKI                         523     6\n",
       "160  297862          KYLE KLEINSCHMIDT                         527     7\n",
       "111  138674                  JOEL BRAN                         527     8\n",
       "142  239634      DAVID CRESPO TAMMELIN                         530     9"
      ]
     },
     "execution_count": 64,
     "metadata": {},
     "output_type": "execute_result"
    }
   ],
   "source": [
    "mens_open_lb.head(10)"
   ]
  }
 ],
 "metadata": {
  "kernelspec": {
   "display_name": "Python 3",
   "language": "python",
   "name": "python3"
  },
  "language_info": {
   "codemirror_mode": {
    "name": "ipython",
    "version": 3
   },
   "file_extension": ".py",
   "mimetype": "text/x-python",
   "name": "python",
   "nbconvert_exporter": "python",
   "pygments_lexer": "ipython3",
   "version": "3.5.4"
  }
 },
 "nbformat": 4,
 "nbformat_minor": 2
}
