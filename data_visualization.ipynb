{
 "cells": [
  {
   "cell_type": "markdown",
   "metadata": {},
   "source": [
    "# data visualization\n",
    "In this notebook, SQL queries will be implemented to extract data based on specific filtering criteria. This data will then be read into Pandas dataframes, after which several visuals will be generated (based on the data) using Matplotlib. It's important to note that although these filters could be done by reading the full database into Pandas dataframes and then filtering, keeping the entire data filtering process within Python and Pandas/NumPy, PyMySQL will be used to extract specific data on a per-visual basis instead."
   ]
  },
  {
   "cell_type": "code",
   "execution_count": 481,
   "metadata": {
    "collapsed": true
   },
   "outputs": [],
   "source": [
    "#datbase connector\n",
    "import pymysql as pms\n",
    "#local dataframe representations of data\n",
    "import pandas as pd\n",
    "#used for quick testing of concepts, but also for math\n",
    "import numpy as np"
   ]
  },
  {
   "cell_type": "markdown",
   "metadata": {},
   "source": [
    "## grabbing data\n",
    "The below function will be utilized again and again to connect to the database, execute a SQL query, extract a result into a Pandas dataframe, and close the database connection. But, first we need to read in the database credentials required for connecting to the MySQL client."
   ]
  },
  {
   "cell_type": "code",
   "execution_count": 482,
   "metadata": {
    "collapsed": true
   },
   "outputs": [],
   "source": [
    "db_user = \"\"\n",
    "db_pass = \"\"\n",
    "db_name = \"\"\n",
    "db_host = \"\"\n",
    "db_charset = \"utf8\"\n",
    "with open(\"database_credentials2.txt\") as f:\n",
    "    db_user = f.readline().strip()\n",
    "    db_pass = f.readline().strip()\n",
    "    db_name = f.readline().strip()\n",
    "    db_host = f.readline().strip()"
   ]
  },
  {
   "cell_type": "code",
   "execution_count": 483,
   "metadata": {
    "collapsed": true
   },
   "outputs": [],
   "source": [
    "def grab_data(sql):\n",
    "    \"\"\"\n",
    "    1. Open a connection to MySQL using PyMySQL\n",
    "    2. Grab data based on the specified SQL query and store it in a Pandas dataframe\n",
    "    3. Close the PyMySQL connection\n",
    "    4. Return the Pandas dataframe\n",
    "    \"\"\"\n",
    "    try:\n",
    "        #connect\n",
    "        con = pms.connect(host=db_host, user=db_user, passwd=db_pass, db=db_name, charset=db_charset)\n",
    "        #print(\"Connected: {}\".format(con.open))\n",
    "        \n",
    "        #execute query and read into dataframe\n",
    "        #(https://stackoverflow.com/questions/12047193/how-to-convert-sql-query-result-to-pandas-data-structure?utm_medium=organic&utm_source=google_rich_qa&utm_campaign=google_rich_qa)\n",
    "        df = pd.read_sql(sql, con)\n",
    "    except:\n",
    "        print(\"You messed up\")\n",
    "    finally:\n",
    "        if con:\n",
    "            #close connection\n",
    "            con.close()\n",
    "            #print(\"Connected: {}\".format(con.open))\n",
    "    \n",
    "    #return dataframe\n",
    "    return df"
   ]
  },
  {
   "cell_type": "markdown",
   "metadata": {},
   "source": [
    "## sample plot\n",
    "This notebook will utilize [Seaborn](https://seaborn.pydata.org/index.html), a library built on top of [Matplotlib](https://matplotlib.org/), for data visualization. Below we use Seaborn to show the distribution of the Women's division's back squat, clean and jerk, deadlift, and snatch for those who competed in the 2018 CrossFit Open."
   ]
  },
  {
   "cell_type": "code",
   "execution_count": 484,
   "metadata": {
    "collapsed": true
   },
   "outputs": [],
   "source": [
    "#extract data\n",
    "womens_lifts_df = grab_data(\n",
    "    \"\"\"\n",
    "    SELECT back_squat_lbs, clean_and_jerk_lbs, snatch_lbs, deadlift_lbs FROM athlete WHERE division_id=2 AND (\n",
    "        back_squat_lbs > 0 AND\n",
    "        clean_and_jerk_lbs > 0 AND\n",
    "        snatch_lbs > 0 AND\n",
    "        deadlift_lbs > 0\n",
    "    );\n",
    "    \"\"\"\n",
    ")"
   ]
  },
  {
   "cell_type": "code",
   "execution_count": 485,
   "metadata": {
    "collapsed": true
   },
   "outputs": [],
   "source": [
    "#import matplotlib and seaborn\n",
    "import matplotlib.pyplot as plt\n",
    "import seaborn as sb"
   ]
  },
  {
   "cell_type": "code",
   "execution_count": 486,
   "metadata": {},
   "outputs": [],
   "source": [
    "#styling settings\n",
    "sb.set(\n",
    "    rc = {\n",
    "        #\"axes.facecolor\": \"black\",\n",
    "    }\n",
    ")"
   ]
  },
  {
   "cell_type": "code",
   "execution_count": 487,
   "metadata": {},
   "outputs": [
    {
     "data": {
      "text/html": [
       "<div>\n",
       "<style>\n",
       "    .dataframe thead tr:only-child th {\n",
       "        text-align: right;\n",
       "    }\n",
       "\n",
       "    .dataframe thead th {\n",
       "        text-align: left;\n",
       "    }\n",
       "\n",
       "    .dataframe tbody tr th {\n",
       "        vertical-align: top;\n",
       "    }\n",
       "</style>\n",
       "<table border=\"1\" class=\"dataframe\">\n",
       "  <thead>\n",
       "    <tr style=\"text-align: right;\">\n",
       "      <th></th>\n",
       "      <th>back_squat_lbs</th>\n",
       "      <th>clean_and_jerk_lbs</th>\n",
       "      <th>snatch_lbs</th>\n",
       "      <th>deadlift_lbs</th>\n",
       "    </tr>\n",
       "  </thead>\n",
       "  <tbody>\n",
       "    <tr>\n",
       "      <th>0</th>\n",
       "      <td>315</td>\n",
       "      <td>220</td>\n",
       "      <td>175</td>\n",
       "      <td>355</td>\n",
       "    </tr>\n",
       "    <tr>\n",
       "      <th>1</th>\n",
       "      <td>315</td>\n",
       "      <td>220</td>\n",
       "      <td>169</td>\n",
       "      <td>352</td>\n",
       "    </tr>\n",
       "    <tr>\n",
       "      <th>2</th>\n",
       "      <td>300</td>\n",
       "      <td>225</td>\n",
       "      <td>180</td>\n",
       "      <td>350</td>\n",
       "    </tr>\n",
       "    <tr>\n",
       "      <th>3</th>\n",
       "      <td>275</td>\n",
       "      <td>220</td>\n",
       "      <td>180</td>\n",
       "      <td>385</td>\n",
       "    </tr>\n",
       "    <tr>\n",
       "      <th>4</th>\n",
       "      <td>273</td>\n",
       "      <td>231</td>\n",
       "      <td>183</td>\n",
       "      <td>330</td>\n",
       "    </tr>\n",
       "    <tr>\n",
       "      <th>5</th>\n",
       "      <td>350</td>\n",
       "      <td>230</td>\n",
       "      <td>185</td>\n",
       "      <td>365</td>\n",
       "    </tr>\n",
       "    <tr>\n",
       "      <th>6</th>\n",
       "      <td>375</td>\n",
       "      <td>235</td>\n",
       "      <td>175</td>\n",
       "      <td>402</td>\n",
       "    </tr>\n",
       "    <tr>\n",
       "      <th>7</th>\n",
       "      <td>319</td>\n",
       "      <td>227</td>\n",
       "      <td>154</td>\n",
       "      <td>374</td>\n",
       "    </tr>\n",
       "    <tr>\n",
       "      <th>8</th>\n",
       "      <td>341</td>\n",
       "      <td>260</td>\n",
       "      <td>220</td>\n",
       "      <td>363</td>\n",
       "    </tr>\n",
       "    <tr>\n",
       "      <th>9</th>\n",
       "      <td>285</td>\n",
       "      <td>210</td>\n",
       "      <td>170</td>\n",
       "      <td>340</td>\n",
       "    </tr>\n",
       "  </tbody>\n",
       "</table>\n",
       "</div>"
      ],
      "text/plain": [
       "   back_squat_lbs  clean_and_jerk_lbs  snatch_lbs  deadlift_lbs\n",
       "0             315                 220         175           355\n",
       "1             315                 220         169           352\n",
       "2             300                 225         180           350\n",
       "3             275                 220         180           385\n",
       "4             273                 231         183           330\n",
       "5             350                 230         185           365\n",
       "6             375                 235         175           402\n",
       "7             319                 227         154           374\n",
       "8             341                 260         220           363\n",
       "9             285                 210         170           340"
      ]
     },
     "execution_count": 487,
     "metadata": {},
     "output_type": "execute_result"
    }
   ],
   "source": [
    "#show sample of data\n",
    "womens_lifts_df.head(10)"
   ]
  },
  {
   "cell_type": "code",
   "execution_count": 488,
   "metadata": {},
   "outputs": [
    {
     "data": {
      "image/png": "[encoded data removed]",
      "text/plain": [
       "<matplotlib.figure.Figure at 0x216a7fed630>"
      ]
     },
     "metadata": {},
     "output_type": "display_data"
    }
   ],
   "source": [
    "#plot each lift\n",
    "for c in womens_lifts_df.columns:\n",
    "    #fit plot\n",
    "    sb.distplot(np.array(womens_lifts_df[c]), bins=10, label=c[:-4].replace(\"_\", \" \"))\n",
    "    #label axes and add to labels for legend\n",
    "    plt.xlabel(c)\n",
    "    plt.ylabel(\"frequency\")\n",
    "    #grid\n",
    "    plt.grid(True)\n",
    "    #title\n",
    "    plt.title(c.replace(\"_\", \" \").title() + \" Distribution\")\n",
    "#axes bounds\n",
    "plt.axis([0, 550, 0, 0.04])\n",
    "#legend (.get_frame().set_alpha() sets the backgroudn on the legend)\n",
    "#plt.legend()\n",
    "plt.legend().get_frame().set_alpha(0.5)\n",
    "#show\n",
    "plt.show()"
   ]
  },
  {
   "cell_type": "markdown",
   "metadata": {},
   "source": [
    "## scoring athletes basedon performance\n",
    "Athlete scoring has been written in a separate module called `scorer`. The scorer.py file can be found in this repo, and contains in-depth documentation of how athletes are evaluated. The scoring metric implemented in very similar (but not identical) to that of the CrossFit leaderboard.\n",
    "\n",
    "One important thing to note is that the leaderboard function was written to reduce repetitive code as much as possible. Therefore, in order to avoid opening connections this notebook within `try` blocks and having to close them and monitor exceptions, the leaderboard expects to open the database connection on it's own.\n",
    "Given this, the leaderboard function expects a list containing the required database credentials, where the order is the same as that of the `pms.connect()` parameter list in `grab_data()` (host, user, passwd, db, charset)."
   ]
  },
  {
   "cell_type": "code",
   "execution_count": 489,
   "metadata": {
    "collapsed": true
   },
   "outputs": [],
   "source": [
    "import importlib\n",
    "import scorer"
   ]
  },
  {
   "cell_type": "code",
   "execution_count": 490,
   "metadata": {
    "collapsed": true
   },
   "outputs": [],
   "source": [
    "open_keys = [\n",
    "    \"leaderboard_{}\".format(c) for c in [\n",
    "        \"18_1_reps\",\n",
    "        \"18_2_time_secs\",\n",
    "        \"18_2a_weight_lbs\",\n",
    "        \"18_3_time_secs\",\n",
    "        \"18_4_time_secs\",\n",
    "        \"18_5_reps\"\n",
    "    ]\n",
    "]"
   ]
  },
  {
   "cell_type": "markdown",
   "metadata": {},
   "source": [
    "### boy's 16-17 leaderboard\n",
    "The below codeblock shows the requirements in order to request a leaderboard. Here, I've gone into the `division` table ahead of time and found that the Boy's (16-17) leaderboard has `id=16`."
   ]
  },
  {
   "cell_type": "code",
   "execution_count": 491,
   "metadata": {},
   "outputs": [
    {
     "data": {
      "text/html": [
       "<div>\n",
       "<style>\n",
       "    .dataframe thead tr:only-child th {\n",
       "        text-align: right;\n",
       "    }\n",
       "\n",
       "    .dataframe thead th {\n",
       "        text-align: left;\n",
       "    }\n",
       "\n",
       "    .dataframe tbody tr th {\n",
       "        vertical-align: top;\n",
       "    }\n",
       "</style>\n",
       "<table border=\"1\" class=\"dataframe\">\n",
       "  <thead>\n",
       "    <tr style=\"text-align: right;\">\n",
       "      <th></th>\n",
       "      <th>id</th>\n",
       "      <th>name</th>\n",
       "      <th>leaderboard_18_1_reps</th>\n",
       "      <th>leaderboard_18_2_time_secs</th>\n",
       "      <th>leaderboard_18_2a_weight_lbs</th>\n",
       "      <th>leaderboard_18_3_time_secs</th>\n",
       "      <th>leaderboard_18_4_time_secs</th>\n",
       "      <th>leaderboard_18_5_reps</th>\n",
       "      <th>rank</th>\n",
       "    </tr>\n",
       "  </thead>\n",
       "  <tbody>\n",
       "    <tr>\n",
       "      <th>60</th>\n",
       "      <td>671093</td>\n",
       "      <td>DALLIN PEPPER</td>\n",
       "      <td>416</td>\n",
       "      <td>265</td>\n",
       "      <td>301</td>\n",
       "      <td>1073</td>\n",
       "      <td>576</td>\n",
       "      <td>147</td>\n",
       "      <td>38</td>\n",
       "    </tr>\n",
       "    <tr>\n",
       "      <th>54</th>\n",
       "      <td>655641</td>\n",
       "      <td>ZACH MAYER</td>\n",
       "      <td>392</td>\n",
       "      <td>298</td>\n",
       "      <td>307</td>\n",
       "      <td>1076</td>\n",
       "      <td>568</td>\n",
       "      <td>152</td>\n",
       "      <td>44</td>\n",
       "    </tr>\n",
       "    <tr>\n",
       "      <th>3</th>\n",
       "      <td>382282</td>\n",
       "      <td>DYLAN KADE</td>\n",
       "      <td>402</td>\n",
       "      <td>295</td>\n",
       "      <td>278</td>\n",
       "      <td>1076</td>\n",
       "      <td>572</td>\n",
       "      <td>152</td>\n",
       "      <td>69</td>\n",
       "    </tr>\n",
       "    <tr>\n",
       "      <th>242</th>\n",
       "      <td>901799</td>\n",
       "      <td>NICK TUNZI</td>\n",
       "      <td>384</td>\n",
       "      <td>305</td>\n",
       "      <td>322</td>\n",
       "      <td>1097</td>\n",
       "      <td>571</td>\n",
       "      <td>140</td>\n",
       "      <td>93</td>\n",
       "    </tr>\n",
       "    <tr>\n",
       "      <th>45</th>\n",
       "      <td>623552</td>\n",
       "      <td>VINCENT RAMIREZ</td>\n",
       "      <td>390</td>\n",
       "      <td>304</td>\n",
       "      <td>290</td>\n",
       "      <td>1057</td>\n",
       "      <td>546</td>\n",
       "      <td>135</td>\n",
       "      <td>95</td>\n",
       "    </tr>\n",
       "  </tbody>\n",
       "</table>\n",
       "</div>"
      ],
      "text/plain": [
       "         id             name  leaderboard_18_1_reps  \\\n",
       "60   671093    DALLIN PEPPER                    416   \n",
       "54   655641       ZACH MAYER                    392   \n",
       "3    382282       DYLAN KADE                    402   \n",
       "242  901799       NICK TUNZI                    384   \n",
       "45   623552  VINCENT RAMIREZ                    390   \n",
       "\n",
       "     leaderboard_18_2_time_secs  leaderboard_18_2a_weight_lbs  \\\n",
       "60                          265                           301   \n",
       "54                          298                           307   \n",
       "3                           295                           278   \n",
       "242                         305                           322   \n",
       "45                          304                           290   \n",
       "\n",
       "     leaderboard_18_3_time_secs  leaderboard_18_4_time_secs  \\\n",
       "60                         1073                         576   \n",
       "54                         1076                         568   \n",
       "3                          1076                         572   \n",
       "242                        1097                         571   \n",
       "45                         1057                         546   \n",
       "\n",
       "     leaderboard_18_5_reps  rank  \n",
       "60                     147    38  \n",
       "54                     152    44  \n",
       "3                      152    69  \n",
       "242                    140    93  \n",
       "45                     135    95  "
      ]
     },
     "execution_count": 491,
     "metadata": {},
     "output_type": "execute_result"
    }
   ],
   "source": [
    "#database credentials\n",
    "creds = [db_host, db_user, db_pass, db_name, db_charset]\n",
    "#may need to reimport scorer module if changing code inside it between runs\n",
    "importlib.reload(scorer)\n",
    "#boys open leaderboard\n",
    "scorer.leaderboard(16, 0, [\"id\", \"name\"] + open_keys, creds).head(5)"
   ]
  },
  {
   "cell_type": "markdown",
   "metadata": {},
   "source": [
    "## the difference between top ranges of athletes\n",
    "The Open is meant to test general physical preparedness on an accessible level. Athletes send their scores in online, and are ranked according to how well they score based on their fellow in-division competitors. I'm going to plot the worst-performing and highest-performing range for each open leaderboard below. This range will outline the amount of variance between workouts at the highest end of competition. This range will be outlined and shaded.\n",
    "\n",
    "Within this range, I'll also plot a select few lines, which are representative of select athletes' scores, or average scores for select athlete ranges (average of top 100 for example)."
   ]
  },
  {
   "cell_type": "code",
   "execution_count": 492,
   "metadata": {},
   "outputs": [
    {
     "data": {
      "text/html": [
       "<div>\n",
       "<style>\n",
       "    .dataframe thead tr:only-child th {\n",
       "        text-align: right;\n",
       "    }\n",
       "\n",
       "    .dataframe thead th {\n",
       "        text-align: left;\n",
       "    }\n",
       "\n",
       "    .dataframe tbody tr th {\n",
       "        vertical-align: top;\n",
       "    }\n",
       "</style>\n",
       "<table border=\"1\" class=\"dataframe\">\n",
       "  <thead>\n",
       "    <tr style=\"text-align: right;\">\n",
       "      <th></th>\n",
       "      <th>id</th>\n",
       "      <th>name</th>\n",
       "      <th>leaderboard_18_1_reps</th>\n",
       "      <th>leaderboard_18_2_time_secs</th>\n",
       "      <th>leaderboard_18_2a_weight_lbs</th>\n",
       "      <th>leaderboard_18_3_time_secs</th>\n",
       "      <th>leaderboard_18_4_time_secs</th>\n",
       "      <th>leaderboard_18_5_reps</th>\n",
       "      <th>rank</th>\n",
       "    </tr>\n",
       "  </thead>\n",
       "  <tbody>\n",
       "    <tr>\n",
       "      <th>261</th>\n",
       "      <td>153604</td>\n",
       "      <td>MATHEW FRASER</td>\n",
       "      <td>476</td>\n",
       "      <td>242</td>\n",
       "      <td>380</td>\n",
       "      <td>852</td>\n",
       "      <td>399</td>\n",
       "      <td>198</td>\n",
       "      <td>67</td>\n",
       "    </tr>\n",
       "    <tr>\n",
       "      <th>291</th>\n",
       "      <td>180541</td>\n",
       "      <td>ALEX VIGNEAULT</td>\n",
       "      <td>472</td>\n",
       "      <td>258</td>\n",
       "      <td>382</td>\n",
       "      <td>952</td>\n",
       "      <td>408</td>\n",
       "      <td>179</td>\n",
       "      <td>295</td>\n",
       "    </tr>\n",
       "    <tr>\n",
       "      <th>269</th>\n",
       "      <td>158264</td>\n",
       "      <td>PATRICK VELLNER</td>\n",
       "      <td>476</td>\n",
       "      <td>246</td>\n",
       "      <td>343</td>\n",
       "      <td>851</td>\n",
       "      <td>409</td>\n",
       "      <td>174</td>\n",
       "      <td>350</td>\n",
       "    </tr>\n",
       "    <tr>\n",
       "      <th>441</th>\n",
       "      <td>308712</td>\n",
       "      <td>JEAN-SIMON ROY-LEMAIRE</td>\n",
       "      <td>468</td>\n",
       "      <td>238</td>\n",
       "      <td>346</td>\n",
       "      <td>952</td>\n",
       "      <td>463</td>\n",
       "      <td>178</td>\n",
       "      <td>381</td>\n",
       "    </tr>\n",
       "    <tr>\n",
       "      <th>653</th>\n",
       "      <td>702092</td>\n",
       "      <td>WILLY GEORGES</td>\n",
       "      <td>460</td>\n",
       "      <td>257</td>\n",
       "      <td>364</td>\n",
       "      <td>892</td>\n",
       "      <td>501</td>\n",
       "      <td>188</td>\n",
       "      <td>385</td>\n",
       "    </tr>\n",
       "  </tbody>\n",
       "</table>\n",
       "</div>"
      ],
      "text/plain": [
       "         id                    name  leaderboard_18_1_reps  \\\n",
       "261  153604           MATHEW FRASER                    476   \n",
       "291  180541          ALEX VIGNEAULT                    472   \n",
       "269  158264         PATRICK VELLNER                    476   \n",
       "441  308712  JEAN-SIMON ROY-LEMAIRE                    468   \n",
       "653  702092           WILLY GEORGES                    460   \n",
       "\n",
       "     leaderboard_18_2_time_secs  leaderboard_18_2a_weight_lbs  \\\n",
       "261                         242                           380   \n",
       "291                         258                           382   \n",
       "269                         246                           343   \n",
       "441                         238                           346   \n",
       "653                         257                           364   \n",
       "\n",
       "     leaderboard_18_3_time_secs  leaderboard_18_4_time_secs  \\\n",
       "261                         852                         399   \n",
       "291                         952                         408   \n",
       "269                         851                         409   \n",
       "441                         952                         463   \n",
       "653                         892                         501   \n",
       "\n",
       "     leaderboard_18_5_reps  rank  \n",
       "261                    198    67  \n",
       "291                    179   295  \n",
       "269                    174   350  \n",
       "441                    178   381  \n",
       "653                    188   385  "
      ]
     },
     "execution_count": 492,
     "metadata": {},
     "output_type": "execute_result"
    }
   ],
   "source": [
    "#use men's division for rest of notebook (athlete profiles tend to be more complete)\n",
    "working_division_id = 1\n",
    "working_leaderboard = scorer.leaderboard(working_division_id, 0, [\"id\", \"name\"] + open_keys, creds)\n",
    "working_leaderboard.head(5)"
   ]
  },
  {
   "cell_type": "markdown",
   "metadata": {},
   "source": [
    "The following function is used as a helper to turn data from Pandas dataframes into MySQL parseable queries. Note that again, it'd just be easier to do this in Pandas, but I'm trying to increase my SQL utility."
   ]
  },
  {
   "cell_type": "code",
   "execution_count": 493,
   "metadata": {},
   "outputs": [],
   "source": [
    "def grab_top_n_summarizer_data(n, div_id, func_str, dataframe):\n",
    "    \"\"\"\n",
    "    Returns a string of the following form with the ({} filled in accordingly):\n",
    "        \"SELECT {} FROM athlete WHERE division_id={} AND id IN ({});\".\n",
    "    This function requires the athlete ID column as a feature in the specified\n",
    "    dataframe, in addition to at least 1 field ending in reps, secs, or lbs.\n",
    "    \"\"\"\n",
    "    return grab_data(\n",
    "        \"\"\"\n",
    "            SELECT {} FROM athlete WHERE division_id={} AND id IN ({})\n",
    "        \"\"\"\n",
    "        .format(\n",
    "            \", \".join(\n",
    "                    [\n",
    "                        \"{}({}) as '{}top{} {}'\".format(\n",
    "                        #\"{}({}) as {}\".format(\n",
    "                            func_str, c, func_str, n,\n",
    "                            #func_str, c, c\n",
    "                            c.replace(\"leaderboard_\", \"\")\n",
    "                        )\n",
    "                        for c in dataframe.columns\n",
    "                           if c.endswith(\"reps\") or c.endswith(\"secs\") or c.endswith(\"lbs\")\n",
    "                    ]\n",
    "            ),\n",
    "            div_id,\n",
    "            \", \".join([str(x) for x in list(dataframe.head(n)[\"id\"])])\n",
    "        )\n",
    "    )"
   ]
  },
  {
   "cell_type": "markdown",
   "metadata": {},
   "source": [
    "### filtering the data\n",
    "Let's grab the data corresponding to the top athletes from the database. We'll do this by filtering athletes based on IDs in the men's leaderboard."
   ]
  },
  {
   "cell_type": "code",
   "execution_count": 494,
   "metadata": {},
   "outputs": [],
   "source": [
    "ranges = [10, 100, 1350]\n",
    "funcs = [\"MIN\", \"MAX\", \"AVG\"]\n",
    "#resulting dataframes are ordered as follows:\n",
    "#[top10min, top10max, top10avg, top100min, ...]\n",
    "result = [grab_top_n_summarizer_data(n, working_division_id, f, working_leaderboard)\n",
    "              for n in hi_lo for f in funcs]"
   ]
  },
  {
   "cell_type": "code",
   "execution_count": 495,
   "metadata": {},
   "outputs": [
    {
     "data": {
      "text/html": [
       "<div>\n",
       "<style>\n",
       "    .dataframe thead tr:only-child th {\n",
       "        text-align: right;\n",
       "    }\n",
       "\n",
       "    .dataframe thead th {\n",
       "        text-align: left;\n",
       "    }\n",
       "\n",
       "    .dataframe tbody tr th {\n",
       "        vertical-align: top;\n",
       "    }\n",
       "</style>\n",
       "<table border=\"1\" class=\"dataframe\">\n",
       "  <thead>\n",
       "    <tr style=\"text-align: right;\">\n",
       "      <th></th>\n",
       "      <th>MINtop10 18_1_reps</th>\n",
       "      <th>MINtop10 18_2_time_secs</th>\n",
       "      <th>MINtop10 18_2a_weight_lbs</th>\n",
       "      <th>MINtop10 18_3_time_secs</th>\n",
       "      <th>MINtop10 18_4_time_secs</th>\n",
       "      <th>MINtop10 18_5_reps</th>\n",
       "    </tr>\n",
       "  </thead>\n",
       "  <tbody>\n",
       "    <tr>\n",
       "      <th>0</th>\n",
       "      <td>441</td>\n",
       "      <td>238</td>\n",
       "      <td>336</td>\n",
       "      <td>846</td>\n",
       "      <td>399</td>\n",
       "      <td>174</td>\n",
       "    </tr>\n",
       "  </tbody>\n",
       "</table>\n",
       "</div>"
      ],
      "text/plain": [
       "   MINtop10 18_1_reps  MINtop10 18_2_time_secs  MINtop10 18_2a_weight_lbs  \\\n",
       "0                 441                      238                        336   \n",
       "\n",
       "   MINtop10 18_3_time_secs  MINtop10 18_4_time_secs  MINtop10 18_5_reps  \n",
       "0                      846                      399                 174  "
      ]
     },
     "execution_count": 495,
     "metadata": {},
     "output_type": "execute_result"
    }
   ],
   "source": [
    "result[0]"
   ]
  },
  {
   "cell_type": "markdown",
   "metadata": {},
   "source": [
    "### plotting the top 10 ([source](https://matplotlib.org/examples/pylab_examples/fill_between_demo.html))\n",
    "Below the data is plotted "
   ]
  },
  {
   "cell_type": "code",
   "execution_count": 496,
   "metadata": {},
   "outputs": [
    {
     "data": {
      "image/png": "[encoded data removed]",
      "text/plain": [
       "<matplotlib.figure.Figure at 0x216a479ae80>"
      ]
     },
     "metadata": {},
     "output_type": "display_data"
    }
   ],
   "source": [
    "#colors for [lo bounds, lo specific, lo shade, mid bounds, ...]\n",
    "range_colors = [\"#ff80ac\", \"#ff0059\", \"ffb3cd\", \"#66ff99\"]\n",
    "bounding_colors = [\"#000000\"]\n",
    "\n",
    "#plot specific athletes' data\n",
    "working_measure_columns = [c for c in working_leaderboard.columns\n",
    "                               if c.endswith(\"secs\") or c.endswith(\"reps\") or c.endswith(\"lbs\")]\n",
    "working_athletes = [pd.DataFrame(working_leaderboard.iloc[i][working_measure_columns]).transpose()\n",
    "                        for i in [0]]\n",
    "\n",
    "#plot range of top athletes\n",
    "sb.pointplot(data=result[6], color=bounding_colors[0])\n",
    "sb.pointplot(data=result[7], color=bounding_colors[0])\n",
    "\n",
    "#shading\n",
    "xlim = int(plt.xlim()[1]) + 1\n",
    "fill_range = np.array([i for i in range(xlim)])\n",
    "plt.fill_between(\n",
    "    fill_range,\n",
    "    result[6].values[0],\n",
    "    result[7].values[0],\n",
    "    color=bounding_colors[0],\n",
    "    alpha=0.5\n",
    ")\n",
    "\n",
    "#plot each athlete\n",
    "for a in working_athletes:\n",
    "    sb.pointplot(data=a, color=range_colors[1])\n",
    "\n",
    "plt.xticks(rotation=90)\n",
    "plt.grid(True)\n",
    "plt.show()"
   ]
  },
  {
   "cell_type": "code",
   "execution_count": 497,
   "metadata": {},
   "outputs": [
    {
     "data": {
      "text/html": [
       "<div>\n",
       "<style>\n",
       "    .dataframe thead tr:only-child th {\n",
       "        text-align: right;\n",
       "    }\n",
       "\n",
       "    .dataframe thead th {\n",
       "        text-align: left;\n",
       "    }\n",
       "\n",
       "    .dataframe tbody tr th {\n",
       "        vertical-align: top;\n",
       "    }\n",
       "</style>\n",
       "<table border=\"1\" class=\"dataframe\">\n",
       "  <thead>\n",
       "    <tr style=\"text-align: right;\">\n",
       "      <th></th>\n",
       "      <th>leaderboard_18_1_reps</th>\n",
       "      <th>leaderboard_18_2_time_secs</th>\n",
       "      <th>leaderboard_18_2a_weight_lbs</th>\n",
       "      <th>leaderboard_18_3_time_secs</th>\n",
       "      <th>leaderboard_18_4_time_secs</th>\n",
       "      <th>leaderboard_18_5_reps</th>\n",
       "    </tr>\n",
       "  </thead>\n",
       "  <tbody>\n",
       "    <tr>\n",
       "      <th>261</th>\n",
       "      <td>476</td>\n",
       "      <td>242</td>\n",
       "      <td>380</td>\n",
       "      <td>852</td>\n",
       "      <td>399</td>\n",
       "      <td>198</td>\n",
       "    </tr>\n",
       "  </tbody>\n",
       "</table>\n",
       "</div>"
      ],
      "text/plain": [
       "    leaderboard_18_1_reps leaderboard_18_2_time_secs  \\\n",
       "261                   476                        242   \n",
       "\n",
       "    leaderboard_18_2a_weight_lbs leaderboard_18_3_time_secs  \\\n",
       "261                          380                        852   \n",
       "\n",
       "    leaderboard_18_4_time_secs leaderboard_18_5_reps  \n",
       "261                        399                   198  "
      ]
     },
     "execution_count": 497,
     "metadata": {},
     "output_type": "execute_result"
    }
   ],
   "source": [
    "working_athletes[0]"
   ]
  }
 ],
 "metadata": {
  "kernelspec": {
   "display_name": "Python 3",
   "language": "python",
   "name": "python3"
  },
  "language_info": {
   "codemirror_mode": {
    "name": "ipython",
    "version": 3
   },
   "file_extension": ".py",
   "mimetype": "text/x-python",
   "name": "python",
   "nbconvert_exporter": "python",
   "pygments_lexer": "ipython3",
   "version": "3.5.4"
  }
 },
 "nbformat": 4,
 "nbformat_minor": 2
}
