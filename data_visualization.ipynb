{
 "cells": [
  {
   "cell_type": "markdown",
   "metadata": {},
   "source": [
    "# data visualization\n",
    "In this notebook, SQL queries will be implemented to extract data based on specific filtering criteria. This data will then be read into Pandas dataframes, after which several visuals will be generated (based on the data) using Matplotlib. It's important to note that although these filters could be done by reading the full database into Pandas dataframes and then filtering, keeping the entire data filtering process within Python and Pandas/NumPy, PyMySQL will be used to extract specific data on a per-visual basis instead."
   ]
  },
  {
   "cell_type": "code",
   "execution_count": 410,
   "metadata": {
    "collapsed": true
   },
   "outputs": [],
   "source": [
    "#datbase connector\n",
    "import pymysql as pms\n",
    "#local dataframe representations of data\n",
    "import pandas as pd\n",
    "#used for quick testing of concepts, but also for math\n",
    "import numpy as np"
   ]
  },
  {
   "cell_type": "markdown",
   "metadata": {},
   "source": [
    "## grabbing data\n",
    "The below function will be utilized again and again to connect to the database, execute a SQL query, extract a result into a Pandas dataframe, and close the database connection. But, first we need to read in the database credentials required for connecting to the MySQL client."
   ]
  },
  {
   "cell_type": "code",
   "execution_count": 411,
   "metadata": {
    "collapsed": true
   },
   "outputs": [],
   "source": [
    "db_user = \"\"\n",
    "db_pass = \"\"\n",
    "db_name = \"\"\n",
    "db_host = \"\"\n",
    "db_charset = \"utf8\"\n",
    "with open(\"database_credentials2.txt\") as f:\n",
    "    db_user = f.readline().strip()\n",
    "    db_pass = f.readline().strip()\n",
    "    db_name = f.readline().strip()\n",
    "    db_host = f.readline().strip()"
   ]
  },
  {
   "cell_type": "code",
   "execution_count": 412,
   "metadata": {
    "collapsed": true
   },
   "outputs": [],
   "source": [
    "def grab_data(sql):\n",
    "    \"\"\"\n",
    "    1. Open a connection to MySQL using PyMySQL\n",
    "    2. Grab data based on the specified SQL query and store it in a Pandas dataframe\n",
    "    3. Close the PyMySQL connection\n",
    "    4. Return the Pandas dataframe\n",
    "    \"\"\"\n",
    "    try:\n",
    "        #connect\n",
    "        con = pms.connect(host=db_host, user=db_user, passwd=db_pass, db=db_name, charset=db_charset)\n",
    "        #print(\"Connected: {}\".format(con.open))\n",
    "        \n",
    "        #execute query and read into dataframe\n",
    "        #(https://stackoverflow.com/questions/12047193/how-to-convert-sql-query-result-to-pandas-data-structure?utm_medium=organic&utm_source=google_rich_qa&utm_campaign=google_rich_qa)\n",
    "        df = pd.read_sql(sql, con)\n",
    "    except:\n",
    "        print(\"You messed up\")\n",
    "    finally:\n",
    "        if con:\n",
    "            #close connection\n",
    "            con.close()\n",
    "            #print(\"Connected: {}\".format(con.open))\n",
    "    \n",
    "    #return dataframe\n",
    "    return df"
   ]
  },
  {
   "cell_type": "markdown",
   "metadata": {},
   "source": [
    "## sample plot\n",
    "This notebook will utilize [Seaborn](https://seaborn.pydata.org/index.html), a library built on top of [Matplotlib](https://matplotlib.org/), for data visualization. Below we use Seaborn to show the distribution of the Women's division's back squat, clean and jerk, deadlift, and snatch for those who competed in the 2018 CrossFit Open."
   ]
  },
  {
   "cell_type": "code",
   "execution_count": 413,
   "metadata": {
    "collapsed": true
   },
   "outputs": [],
   "source": [
    "#extract data\n",
    "womens_lifts_df = grab_data(\n",
    "    \"\"\"\n",
    "    SELECT back_squat_lbs, clean_and_jerk_lbs, snatch_lbs, deadlift_lbs FROM athlete WHERE division_id=2 AND (\n",
    "        back_squat_lbs > 0 AND\n",
    "        clean_and_jerk_lbs > 0 AND\n",
    "        snatch_lbs > 0 AND\n",
    "        deadlift_lbs > 0\n",
    "    );\n",
    "    \"\"\"\n",
    ")"
   ]
  },
  {
   "cell_type": "code",
   "execution_count": 414,
   "metadata": {
    "collapsed": true
   },
   "outputs": [],
   "source": [
    "#import matplotlib and seaborn\n",
    "import matplotlib.pyplot as plt\n",
    "import seaborn as sb"
   ]
  },
  {
   "cell_type": "code",
   "execution_count": 415,
   "metadata": {},
   "outputs": [],
   "source": [
    "#styling settings\n",
    "sb.set(\n",
    "    rc = {\n",
    "        #\"axes.facecolor\": \"black\",\n",
    "    }\n",
    ")"
   ]
  },
  {
   "cell_type": "code",
   "execution_count": 416,
   "metadata": {},
   "outputs": [
    {
     "data": {
      "text/html": [
       "<div>\n",
       "<style>\n",
       "    .dataframe thead tr:only-child th {\n",
       "        text-align: right;\n",
       "    }\n",
       "\n",
       "    .dataframe thead th {\n",
       "        text-align: left;\n",
       "    }\n",
       "\n",
       "    .dataframe tbody tr th {\n",
       "        vertical-align: top;\n",
       "    }\n",
       "</style>\n",
       "<table border=\"1\" class=\"dataframe\">\n",
       "  <thead>\n",
       "    <tr style=\"text-align: right;\">\n",
       "      <th></th>\n",
       "      <th>back_squat_lbs</th>\n",
       "      <th>clean_and_jerk_lbs</th>\n",
       "      <th>snatch_lbs</th>\n",
       "      <th>deadlift_lbs</th>\n",
       "    </tr>\n",
       "  </thead>\n",
       "  <tbody>\n",
       "    <tr>\n",
       "      <th>0</th>\n",
       "      <td>315</td>\n",
       "      <td>220</td>\n",
       "      <td>175</td>\n",
       "      <td>355</td>\n",
       "    </tr>\n",
       "    <tr>\n",
       "      <th>1</th>\n",
       "      <td>315</td>\n",
       "      <td>220</td>\n",
       "      <td>169</td>\n",
       "      <td>352</td>\n",
       "    </tr>\n",
       "    <tr>\n",
       "      <th>2</th>\n",
       "      <td>300</td>\n",
       "      <td>225</td>\n",
       "      <td>180</td>\n",
       "      <td>350</td>\n",
       "    </tr>\n",
       "    <tr>\n",
       "      <th>3</th>\n",
       "      <td>275</td>\n",
       "      <td>220</td>\n",
       "      <td>180</td>\n",
       "      <td>385</td>\n",
       "    </tr>\n",
       "    <tr>\n",
       "      <th>4</th>\n",
       "      <td>350</td>\n",
       "      <td>230</td>\n",
       "      <td>185</td>\n",
       "      <td>365</td>\n",
       "    </tr>\n",
       "    <tr>\n",
       "      <th>5</th>\n",
       "      <td>375</td>\n",
       "      <td>235</td>\n",
       "      <td>175</td>\n",
       "      <td>402</td>\n",
       "    </tr>\n",
       "    <tr>\n",
       "      <th>6</th>\n",
       "      <td>341</td>\n",
       "      <td>260</td>\n",
       "      <td>220</td>\n",
       "      <td>363</td>\n",
       "    </tr>\n",
       "    <tr>\n",
       "      <th>7</th>\n",
       "      <td>285</td>\n",
       "      <td>210</td>\n",
       "      <td>170</td>\n",
       "      <td>340</td>\n",
       "    </tr>\n",
       "    <tr>\n",
       "      <th>8</th>\n",
       "      <td>295</td>\n",
       "      <td>220</td>\n",
       "      <td>185</td>\n",
       "      <td>330</td>\n",
       "    </tr>\n",
       "    <tr>\n",
       "      <th>9</th>\n",
       "      <td>275</td>\n",
       "      <td>230</td>\n",
       "      <td>190</td>\n",
       "      <td>410</td>\n",
       "    </tr>\n",
       "  </tbody>\n",
       "</table>\n",
       "</div>"
      ],
      "text/plain": [
       "   back_squat_lbs  clean_and_jerk_lbs  snatch_lbs  deadlift_lbs\n",
       "0             315                 220         175           355\n",
       "1             315                 220         169           352\n",
       "2             300                 225         180           350\n",
       "3             275                 220         180           385\n",
       "4             350                 230         185           365\n",
       "5             375                 235         175           402\n",
       "6             341                 260         220           363\n",
       "7             285                 210         170           340\n",
       "8             295                 220         185           330\n",
       "9             275                 230         190           410"
      ]
     },
     "execution_count": 416,
     "metadata": {},
     "output_type": "execute_result"
    }
   ],
   "source": [
    "#show sample of data\n",
    "womens_lifts_df.head(10)"
   ]
  },
  {
   "cell_type": "code",
   "execution_count": 417,
   "metadata": {},
   "outputs": [
    {
     "data": {
      "image/png": "[encoded data removed]",
      "text/plain": [
       "<matplotlib.figure.Figure at 0x216a6a94be0>"
      ]
     },
     "metadata": {},
     "output_type": "display_data"
    }
   ],
   "source": [
    "#plot each lift\n",
    "for c in womens_lifts_df.columns:\n",
    "    #fit plot\n",
    "    sb.distplot(np.array(womens_lifts_df[c]), bins=10, label=c[:-4].replace(\"_\", \" \"))\n",
    "    #label axes and add to labels for legend\n",
    "    plt.xlabel(c)\n",
    "    plt.ylabel(\"frequency\")\n",
    "    #grid\n",
    "    plt.grid(True)\n",
    "    #title\n",
    "    plt.title(c.replace(\"_\", \" \").title() + \" Distribution\")\n",
    "#axes bounds\n",
    "plt.axis([0, 550, 0, 0.04])\n",
    "#legend (.get_frame().set_alpha() sets the backgroudn on the legend)\n",
    "#plt.legend()\n",
    "plt.legend().get_frame().set_alpha(0.5)\n",
    "#show\n",
    "plt.show()"
   ]
  },
  {
   "cell_type": "markdown",
   "metadata": {},
   "source": [
    "## scoring athletes basedon performance\n",
    "Athlete scoring has been written in a separate module called `scorer`. The scorer.py file can be found in this repo, and contains in-depth documentation of how athletes are evaluated. The scoring metric implemented in very similar (but not identical) to that of the CrossFit leaderboard.\n",
    "\n",
    "One important thing to note is that the leaderboard function was written to reduce repetitive code as much as possible. Therefore, in order to avoid opening connections this notebook within `try` blocks and having to close them and monitor exceptions, the leaderboard expects to open the database connection on it's own.\n",
    "Given this, the leaderboard function expects a list containing the required database credentials, where the order is the same as that of the `pms.connect()` parameter list in `grab_data()` (host, user, passwd, db, charset)."
   ]
  },
  {
   "cell_type": "code",
   "execution_count": 418,
   "metadata": {
    "collapsed": true
   },
   "outputs": [],
   "source": [
    "import importlib\n",
    "import scorer"
   ]
  },
  {
   "cell_type": "code",
   "execution_count": 419,
   "metadata": {
    "collapsed": true
   },
   "outputs": [],
   "source": [
    "open_keys = [\n",
    "    \"leaderboard_{}\".format(c) for c in [\n",
    "        \"18_1_reps\",\n",
    "        \"18_2_time_secs\",\n",
    "        \"18_2a_weight_lbs\",\n",
    "        \"18_3_reps\",\n",
    "        \"18_4_time_secs\",\n",
    "        \"18_5_reps\"\n",
    "    ]\n",
    "]"
   ]
  },
  {
   "cell_type": "markdown",
   "metadata": {},
   "source": [
    "### boy's 16-17 leaderboard\n",
    "The below codeblock shows the requirements in order to request a leaderboard. Here, I've gone into the `division` table ahead of time and found that the Boy's (16-17) leaderboard has `id=16`."
   ]
  },
  {
   "cell_type": "code",
   "execution_count": 420,
   "metadata": {},
   "outputs": [
    {
     "data": {
      "text/html": [
       "<div>\n",
       "<style>\n",
       "    .dataframe thead tr:only-child th {\n",
       "        text-align: right;\n",
       "    }\n",
       "\n",
       "    .dataframe thead th {\n",
       "        text-align: left;\n",
       "    }\n",
       "\n",
       "    .dataframe tbody tr th {\n",
       "        vertical-align: top;\n",
       "    }\n",
       "</style>\n",
       "<table border=\"1\" class=\"dataframe\">\n",
       "  <thead>\n",
       "    <tr style=\"text-align: right;\">\n",
       "      <th></th>\n",
       "      <th>id</th>\n",
       "      <th>name</th>\n",
       "      <th>leaderboard_18_1_reps</th>\n",
       "      <th>leaderboard_18_2_time_secs</th>\n",
       "      <th>leaderboard_18_2a_weight_lbs</th>\n",
       "      <th>leaderboard_18_3_reps</th>\n",
       "      <th>leaderboard_18_4_time_secs</th>\n",
       "      <th>leaderboard_18_5_reps</th>\n",
       "      <th>rank</th>\n",
       "    </tr>\n",
       "  </thead>\n",
       "  <tbody>\n",
       "    <tr>\n",
       "      <th>210</th>\n",
       "      <td>879075</td>\n",
       "      <td>OMAR BARGHOUTHI</td>\n",
       "      <td>402</td>\n",
       "      <td>320</td>\n",
       "      <td>267</td>\n",
       "      <td>1299</td>\n",
       "      <td>560</td>\n",
       "      <td>147</td>\n",
       "      <td>354</td>\n",
       "    </tr>\n",
       "    <tr>\n",
       "      <th>329</th>\n",
       "      <td>1050725</td>\n",
       "      <td>KEVIN CASTELLÓN</td>\n",
       "      <td>344</td>\n",
       "      <td>300</td>\n",
       "      <td>280</td>\n",
       "      <td>1304</td>\n",
       "      <td>586</td>\n",
       "      <td>145</td>\n",
       "      <td>442</td>\n",
       "    </tr>\n",
       "    <tr>\n",
       "      <th>78</th>\n",
       "      <td>686110</td>\n",
       "      <td>GABI CASTRO</td>\n",
       "      <td>380</td>\n",
       "      <td>307</td>\n",
       "      <td>312</td>\n",
       "      <td>1183</td>\n",
       "      <td>567</td>\n",
       "      <td>141</td>\n",
       "      <td>502</td>\n",
       "    </tr>\n",
       "    <tr>\n",
       "      <th>338</th>\n",
       "      <td>1055931</td>\n",
       "      <td>ANTHONY KEATON</td>\n",
       "      <td>367</td>\n",
       "      <td>335</td>\n",
       "      <td>266</td>\n",
       "      <td>1311</td>\n",
       "      <td>604</td>\n",
       "      <td>135</td>\n",
       "      <td>509</td>\n",
       "    </tr>\n",
       "    <tr>\n",
       "      <th>51</th>\n",
       "      <td>655641</td>\n",
       "      <td>ZACH MAYER</td>\n",
       "      <td>392</td>\n",
       "      <td>298</td>\n",
       "      <td>307</td>\n",
       "      <td>1076</td>\n",
       "      <td>568</td>\n",
       "      <td>152</td>\n",
       "      <td>521</td>\n",
       "    </tr>\n",
       "  </tbody>\n",
       "</table>\n",
       "</div>"
      ],
      "text/plain": [
       "          id             name  leaderboard_18_1_reps  \\\n",
       "210   879075  OMAR BARGHOUTHI                    402   \n",
       "329  1050725  KEVIN CASTELLÓN                    344   \n",
       "78    686110      GABI CASTRO                    380   \n",
       "338  1055931   ANTHONY KEATON                    367   \n",
       "51    655641       ZACH MAYER                    392   \n",
       "\n",
       "     leaderboard_18_2_time_secs  leaderboard_18_2a_weight_lbs  \\\n",
       "210                         320                           267   \n",
       "329                         300                           280   \n",
       "78                          307                           312   \n",
       "338                         335                           266   \n",
       "51                          298                           307   \n",
       "\n",
       "     leaderboard_18_3_reps  leaderboard_18_4_time_secs  leaderboard_18_5_reps  \\\n",
       "210                   1299                         560                    147   \n",
       "329                   1304                         586                    145   \n",
       "78                    1183                         567                    141   \n",
       "338                   1311                         604                    135   \n",
       "51                    1076                         568                    152   \n",
       "\n",
       "     rank  \n",
       "210   354  \n",
       "329   442  \n",
       "78    502  \n",
       "338   509  \n",
       "51    521  "
      ]
     },
     "execution_count": 420,
     "metadata": {},
     "output_type": "execute_result"
    }
   ],
   "source": [
    "#database credentials\n",
    "creds = [db_host, db_user, db_pass, db_name, db_charset]\n",
    "#may need to reimport scorer module if changing code inside it between runs\n",
    "importlib.reload(scorer)\n",
    "#boys open leaderboard\n",
    "scorer.leaderboard(16, 0, [\"id\", \"name\"] + open_keys, creds).head(5)"
   ]
  },
  {
   "cell_type": "markdown",
   "metadata": {},
   "source": [
    "## the difference between top ranges of athletes\n",
    "The Open is meant to test general physical preparedness on an accessible level. Athletes send their scores in online, and are ranked according to how well they score based on their fellow in-division competitors. I'm going to plot the worst-performing and highest-performing range for each open leaderboard below. This range will outline the amount of variance between workouts at the highest end of competition. This range will be outlined and shaded.\n",
    "\n",
    "Within this range, I'll also plot a select few lines, which are representative of select athletes' scores, or average scores for select athlete ranges (average of top 100 for example)."
   ]
  },
  {
   "cell_type": "code",
   "execution_count": 452,
   "metadata": {},
   "outputs": [
    {
     "data": {
      "text/html": [
       "<div>\n",
       "<style>\n",
       "    .dataframe thead tr:only-child th {\n",
       "        text-align: right;\n",
       "    }\n",
       "\n",
       "    .dataframe thead th {\n",
       "        text-align: left;\n",
       "    }\n",
       "\n",
       "    .dataframe tbody tr th {\n",
       "        vertical-align: top;\n",
       "    }\n",
       "</style>\n",
       "<table border=\"1\" class=\"dataframe\">\n",
       "  <thead>\n",
       "    <tr style=\"text-align: right;\">\n",
       "      <th></th>\n",
       "      <th>id</th>\n",
       "      <th>name</th>\n",
       "      <th>leaderboard_18_1_reps</th>\n",
       "      <th>leaderboard_18_2_time_secs</th>\n",
       "      <th>leaderboard_18_2a_weight_lbs</th>\n",
       "      <th>leaderboard_18_3_reps</th>\n",
       "      <th>leaderboard_18_4_time_secs</th>\n",
       "      <th>leaderboard_18_5_reps</th>\n",
       "      <th>rank</th>\n",
       "    </tr>\n",
       "  </thead>\n",
       "  <tbody>\n",
       "    <tr>\n",
       "      <th>634</th>\n",
       "      <td>775105</td>\n",
       "      <td>MARK OLIVER</td>\n",
       "      <td>440</td>\n",
       "      <td>227</td>\n",
       "      <td>332</td>\n",
       "      <td>1081</td>\n",
       "      <td>448</td>\n",
       "      <td>178</td>\n",
       "      <td>654</td>\n",
       "    </tr>\n",
       "    <tr>\n",
       "      <th>363</th>\n",
       "      <td>255757</td>\n",
       "      <td>MAURO ACEVEDO</td>\n",
       "      <td>437</td>\n",
       "      <td>247</td>\n",
       "      <td>364</td>\n",
       "      <td>1083</td>\n",
       "      <td>542</td>\n",
       "      <td>183</td>\n",
       "      <td>677</td>\n",
       "    </tr>\n",
       "    <tr>\n",
       "      <th>249</th>\n",
       "      <td>153604</td>\n",
       "      <td>MATHEW FRASER</td>\n",
       "      <td>476</td>\n",
       "      <td>242</td>\n",
       "      <td>380</td>\n",
       "      <td>852</td>\n",
       "      <td>399</td>\n",
       "      <td>198</td>\n",
       "      <td>704</td>\n",
       "    </tr>\n",
       "    <tr>\n",
       "      <th>582</th>\n",
       "      <td>621610</td>\n",
       "      <td>SAM DANCER</td>\n",
       "      <td>448</td>\n",
       "      <td>252</td>\n",
       "      <td>345</td>\n",
       "      <td>1073</td>\n",
       "      <td>521</td>\n",
       "      <td>176</td>\n",
       "      <td>764</td>\n",
       "    </tr>\n",
       "    <tr>\n",
       "      <th>42</th>\n",
       "      <td>10169</td>\n",
       "      <td>AUSTIN MALLEOLO</td>\n",
       "      <td>432</td>\n",
       "      <td>244</td>\n",
       "      <td>342</td>\n",
       "      <td>1077</td>\n",
       "      <td>362</td>\n",
       "      <td>169</td>\n",
       "      <td>784</td>\n",
       "    </tr>\n",
       "  </tbody>\n",
       "</table>\n",
       "</div>"
      ],
      "text/plain": [
       "         id             name  leaderboard_18_1_reps  \\\n",
       "634  775105      MARK OLIVER                    440   \n",
       "363  255757    MAURO ACEVEDO                    437   \n",
       "249  153604    MATHEW FRASER                    476   \n",
       "582  621610       SAM DANCER                    448   \n",
       "42    10169  AUSTIN MALLEOLO                    432   \n",
       "\n",
       "     leaderboard_18_2_time_secs  leaderboard_18_2a_weight_lbs  \\\n",
       "634                         227                           332   \n",
       "363                         247                           364   \n",
       "249                         242                           380   \n",
       "582                         252                           345   \n",
       "42                          244                           342   \n",
       "\n",
       "     leaderboard_18_3_reps  leaderboard_18_4_time_secs  leaderboard_18_5_reps  \\\n",
       "634                   1081                         448                    178   \n",
       "363                   1083                         542                    183   \n",
       "249                    852                         399                    198   \n",
       "582                   1073                         521                    176   \n",
       "42                    1077                         362                    169   \n",
       "\n",
       "     rank  \n",
       "634   654  \n",
       "363   677  \n",
       "249   704  \n",
       "582   764  \n",
       "42    784  "
      ]
     },
     "execution_count": 452,
     "metadata": {},
     "output_type": "execute_result"
    }
   ],
   "source": [
    "#use men's division for rest of notebook (athlete profiles tend to be more complete)\n",
    "working_division_id = 1\n",
    "working_leaderboard = scorer.leaderboard(working_division_id, 0, [\"id\", \"name\"] + open_keys, creds)\n",
    "working_leaderboard.head(5)"
   ]
  },
  {
   "cell_type": "markdown",
   "metadata": {},
   "source": [
    "The following function is used as a helper to turn data from Pandas dataframes into MySQL parseable queries. Note that again, it'd just be easier to do this in Pandas, but I'm trying to increase my SQL utility."
   ]
  },
  {
   "cell_type": "code",
   "execution_count": 446,
   "metadata": {},
   "outputs": [],
   "source": [
    "def grab_top_n_summarizer_data(n, div_id, func_str, dataframe):\n",
    "    \"\"\"\n",
    "    Returns a string of the following form with the ({} filled in accordingly):\n",
    "        \"SELECT {} FROM athlete WHERE division_id={} AND id IN ({});\".\n",
    "    This function requires the athlete ID column as a feature in the specified\n",
    "    dataframe, in addition to at least 1 field ending in reps, secs, or lbs.\n",
    "    \"\"\"\n",
    "    return grab_data(\n",
    "        \"\"\"\n",
    "            SELECT {} FROM athlete WHERE division_id={} AND id IN ({})\n",
    "        \"\"\"\n",
    "        .format(\n",
    "            \", \".join(\n",
    "                    [\n",
    "                        \"{}({}) as '{}top{} {}'\".format(\n",
    "                        #\"{}({}) as {}\".format(\n",
    "                            func_str, c, func_str, n,\n",
    "                            #func_str, c, c\n",
    "                            c.replace(\"leaderboard_\", \"\")\n",
    "                        )\n",
    "                        for c in dataframe.columns\n",
    "                           if c.endswith(\"reps\") or c.endswith(\"secs\") or c.endswith(\"lbs\")\n",
    "                    ]\n",
    "            ),\n",
    "            div_id,\n",
    "            \", \".join([str(x) for x in list(dataframe.head(n)[\"id\"])])\n",
    "        )\n",
    "    )"
   ]
  },
  {
   "cell_type": "markdown",
   "metadata": {},
   "source": [
    "### filtering the data\n",
    "Let's grab the data corresponding to the top athletes from the database. We'll do this by filtering athletes based on IDs in the men's leaderboard."
   ]
  },
  {
   "cell_type": "code",
   "execution_count": 447,
   "metadata": {},
   "outputs": [],
   "source": [
    "ranges = [10, 100, 1350]\n",
    "funcs = [\"MIN\", \"MAX\", \"AVG\"]\n",
    "#resulting dataframes are ordered as follows:\n",
    "#[top10min, top10max, top10avg, top100min, ...]\n",
    "result = [grab_top_n_summarizer_data(n, working_division_id, f, working_leaderboard)\n",
    "              for n in hi_lo for f in funcs]"
   ]
  },
  {
   "cell_type": "code",
   "execution_count": 448,
   "metadata": {},
   "outputs": [
    {
     "data": {
      "text/html": [
       "<div>\n",
       "<style>\n",
       "    .dataframe thead tr:only-child th {\n",
       "        text-align: right;\n",
       "    }\n",
       "\n",
       "    .dataframe thead th {\n",
       "        text-align: left;\n",
       "    }\n",
       "\n",
       "    .dataframe tbody tr th {\n",
       "        vertical-align: top;\n",
       "    }\n",
       "</style>\n",
       "<table border=\"1\" class=\"dataframe\">\n",
       "  <thead>\n",
       "    <tr style=\"text-align: right;\">\n",
       "      <th></th>\n",
       "      <th>MINtop10 18_1_reps</th>\n",
       "      <th>MINtop10 18_2_time_secs</th>\n",
       "      <th>MINtop10 18_2a_weight_lbs</th>\n",
       "      <th>MINtop10 18_3_reps</th>\n",
       "      <th>MINtop10 18_4_time_secs</th>\n",
       "      <th>MINtop10 18_5_reps</th>\n",
       "    </tr>\n",
       "  </thead>\n",
       "  <tbody>\n",
       "    <tr>\n",
       "      <th>0</th>\n",
       "      <td>432</td>\n",
       "      <td>227</td>\n",
       "      <td>330</td>\n",
       "      <td>852</td>\n",
       "      <td>362</td>\n",
       "      <td>168</td>\n",
       "    </tr>\n",
       "  </tbody>\n",
       "</table>\n",
       "</div>"
      ],
      "text/plain": [
       "   MINtop10 18_1_reps  MINtop10 18_2_time_secs  MINtop10 18_2a_weight_lbs  \\\n",
       "0                 432                      227                        330   \n",
       "\n",
       "   MINtop10 18_3_reps  MINtop10 18_4_time_secs  MINtop10 18_5_reps  \n",
       "0                 852                      362                 168  "
      ]
     },
     "execution_count": 448,
     "metadata": {},
     "output_type": "execute_result"
    }
   ],
   "source": [
    "result[0]"
   ]
  },
  {
   "cell_type": "markdown",
   "metadata": {},
   "source": [
    "### plotting the top 10 ([source](https://matplotlib.org/examples/pylab_examples/fill_between_demo.html))\n",
    "Below the data is plotted "
   ]
  },
  {
   "cell_type": "code",
   "execution_count": 449,
   "metadata": {},
   "outputs": [
    {
     "data": {
      "image/png": "[encoded data removed]",
      "text/plain": [
       "<matplotlib.figure.Figure at 0x216a477fc18>"
      ]
     },
     "metadata": {},
     "output_type": "display_data"
    }
   ],
   "source": [
    "#colors for [lo bounds, lo specific, lo shade, mid bounds, ...]\n",
    "range_colors = [\"#ff80ac\", \"#ff0059\", \"ffb3cd\", \"#66ff99\"]\n",
    "bounding_colors = [\"#000000\"]\n",
    "\n",
    "#plot specific athletes' data\n",
    "working_measure_columns = [c for c in working_leaderboard.columns\n",
    "                               if c.endswith(\"secs\") or c.endswith(\"reps\") or c.endswith(\"lbs\")]\n",
    "working_athletes = [pd.DataFrame(working_leaderboard.iloc[i][working_measure_columns]).transpose()\n",
    "                        for i in [0]]\n",
    "\n",
    "#plot range of top athletes\n",
    "sb.pointplot(data=result[6], color=bounding_colors[0])\n",
    "sb.pointplot(data=result[7], color=bounding_colors[0])\n",
    "\n",
    "#shading\n",
    "xlim = int(plt.xlim()[1]) + 1\n",
    "fill_range = np.array([i for i in range(xlim)])\n",
    "plt.fill_between(\n",
    "    fill_range,\n",
    "    result[6].values[0],\n",
    "    result[7].values[0],\n",
    "    color=bounding_colors[0],\n",
    "    alpha=0.5\n",
    ")\n",
    "\n",
    "#plot each athlete\n",
    "for a in working_athletes:\n",
    "    sb.pointplot(data=a, color=range_colors[1])\n",
    "\n",
    "plt.xticks(rotation=90)\n",
    "plt.grid(True)\n",
    "plt.show()"
   ]
  },
  {
   "cell_type": "code",
   "execution_count": 451,
   "metadata": {},
   "outputs": [
    {
     "data": {
      "text/html": [
       "<div>\n",
       "<style>\n",
       "    .dataframe thead tr:only-child th {\n",
       "        text-align: right;\n",
       "    }\n",
       "\n",
       "    .dataframe thead th {\n",
       "        text-align: left;\n",
       "    }\n",
       "\n",
       "    .dataframe tbody tr th {\n",
       "        vertical-align: top;\n",
       "    }\n",
       "</style>\n",
       "<table border=\"1\" class=\"dataframe\">\n",
       "  <thead>\n",
       "    <tr style=\"text-align: right;\">\n",
       "      <th></th>\n",
       "      <th>leaderboard_18_1_reps</th>\n",
       "      <th>leaderboard_18_2_time_secs</th>\n",
       "      <th>leaderboard_18_2a_weight_lbs</th>\n",
       "      <th>leaderboard_18_3_reps</th>\n",
       "      <th>leaderboard_18_4_time_secs</th>\n",
       "      <th>leaderboard_18_5_reps</th>\n",
       "    </tr>\n",
       "  </thead>\n",
       "  <tbody>\n",
       "    <tr>\n",
       "      <th>634</th>\n",
       "      <td>440</td>\n",
       "      <td>227</td>\n",
       "      <td>332</td>\n",
       "      <td>1081</td>\n",
       "      <td>448</td>\n",
       "      <td>178</td>\n",
       "    </tr>\n",
       "  </tbody>\n",
       "</table>\n",
       "</div>"
      ],
      "text/plain": [
       "    leaderboard_18_1_reps leaderboard_18_2_time_secs  \\\n",
       "634                   440                        227   \n",
       "\n",
       "    leaderboard_18_2a_weight_lbs leaderboard_18_3_reps  \\\n",
       "634                          332                  1081   \n",
       "\n",
       "    leaderboard_18_4_time_secs leaderboard_18_5_reps  \n",
       "634                        448                   178  "
      ]
     },
     "execution_count": 451,
     "metadata": {},
     "output_type": "execute_result"
    }
   ],
   "source": [
    "working_athletes[0]"
   ]
  }
 ],
 "metadata": {
  "kernelspec": {
   "display_name": "Python 3",
   "language": "python",
   "name": "python3"
  },
  "language_info": {
   "codemirror_mode": {
    "name": "ipython",
    "version": 3
   },
   "file_extension": ".py",
   "mimetype": "text/x-python",
   "name": "python",
   "nbconvert_exporter": "python",
   "pygments_lexer": "ipython3",
   "version": "3.5.4"
  }
 },
 "nbformat": 4,
 "nbformat_minor": 2
}
