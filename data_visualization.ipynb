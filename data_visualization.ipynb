{
 "cells": [
  {
   "cell_type": "markdown",
   "metadata": {},
   "source": [
    "# data visualization\n",
    "In this notebook, SQL queries will be implemented to extract data based on specific filtering criteria. This data will then be read into Pandas dataframes, after which several visuals will be generated (based on the data) using Matplotlib. It's important to note that although these filters could be done by reading the full database into Pandas dataframes and then filtering, keeping the entire data filtering process within Python and Pandas/NumPy, PyMySQL will be used to extract specific data on a per-visual basis instead."
   ]
  },
  {
   "cell_type": "code",
   "execution_count": 10,
   "metadata": {
    "collapsed": true
   },
   "outputs": [],
   "source": [
    "#datbase connector\n",
    "import pymysql as pms\n",
    "#local dataframe representations of data\n",
    "import pandas as pd\n",
    "#used for quick testing of concepts, but also for math\n",
    "import numpy as np\n",
    "\n",
    "# use for implementing custom modules\n",
    "import sys\n",
    "sys.path.insert(0, \"./custom_modules/\")"
   ]
  },
  {
   "cell_type": "markdown",
   "metadata": {},
   "source": [
    "## grabbing data\n",
    "The below function will be utilized again and again to connect to the database, execute a SQL query, extract a result into a Pandas dataframe, and close the database connection. But, first we need to read in the database credentials required for connecting to the MySQL client."
   ]
  },
  {
   "cell_type": "code",
   "execution_count": 11,
   "metadata": {
    "collapsed": true
   },
   "outputs": [],
   "source": [
    "db_user = \"\"\n",
    "db_pass = \"\"\n",
    "db_name = \"\"\n",
    "db_host = \"\"\n",
    "db_charset = \"utf8\"\n",
    "with open(\"database_credentials2.txt\") as f:\n",
    "    db_user = f.readline().strip()\n",
    "    db_pass = f.readline().strip()\n",
    "    db_name = f.readline().strip()\n",
    "    db_host = f.readline().strip()"
   ]
  },
  {
   "cell_type": "code",
   "execution_count": 12,
   "metadata": {
    "collapsed": true
   },
   "outputs": [],
   "source": [
    "from dataframer import grab_data"
   ]
  },
  {
   "cell_type": "markdown",
   "metadata": {},
   "source": [
    "## sample plot\n",
    "This notebook will utilize [Seaborn](https://seaborn.pydata.org/index.html), a library built on top of [Matplotlib](https://matplotlib.org/), for data visualization. Below we use Seaborn to show the distribution of the Women's division's back squat, clean and jerk, deadlift, and snatch for those who competed in the 2018 CrossFit Open."
   ]
  },
  {
   "cell_type": "code",
   "execution_count": 13,
   "metadata": {
    "collapsed": true
   },
   "outputs": [],
   "source": [
    "creds = [db_host, db_user, db_pass, db_name]"
   ]
  },
  {
   "cell_type": "code",
   "execution_count": 14,
   "metadata": {},
   "outputs": [],
   "source": [
    "#extract data\n",
    "womens_lifts_df = grab_data(\n",
    "    \"\"\"\n",
    "    SELECT back_squat_lbs, clean_and_jerk_lbs, snatch_lbs, deadlift_lbs FROM athlete WHERE division_id=2 AND (\n",
    "        back_squat_lbs > 0 AND\n",
    "        clean_and_jerk_lbs > 0 AND\n",
    "        snatch_lbs > 0 AND\n",
    "        deadlift_lbs > 0\n",
    "    );\n",
    "    \"\"\",\n",
    "    creds\n",
    ")"
   ]
  },
  {
   "cell_type": "code",
   "execution_count": 15,
   "metadata": {
    "collapsed": true
   },
   "outputs": [],
   "source": [
    "#import matplotlib and seaborn\n",
    "import matplotlib.pyplot as plt\n",
    "import seaborn as sb\n",
    "%matplotlib inline"
   ]
  },
  {
   "cell_type": "markdown",
   "metadata": {},
   "source": [
    "### matplotlib styling"
   ]
  },
  {
   "cell_type": "code",
   "execution_count": 16,
   "metadata": {
    "collapsed": true
   },
   "outputs": [],
   "source": [
    "#styling settings\n",
    "#https://matplotlib.org/users/customizing.html\n",
    "axes_label_size = \"medium\"\n",
    "bg_color = \"#000000\"\n",
    "figure_size = [8, 6]\n",
    "font_color = \"#ffffff\"\n",
    "sb.set(\n",
    "    rc = {\n",
    "        \"axes.edgecolor\": \"green\",\n",
    "        \"axes.facecolor\": bg_color,\n",
    "        \"axes.labelcolor\": font_color,\n",
    "        #this link for these 2 parameters\n",
    "        #https://stackoverflow.com/questions/28825594/why-doesnt-the-matplotlib-label-fontsize-work\n",
    "        \"axes.labelsize\": 16,\n",
    "        \"axes.titlesize\": 16,\n",
    "        \n",
    "        \"grid.color\": font_color,\n",
    "        \"grid.linewidth\": .5,\n",
    "        \n",
    "        #this link is just for figure.facecolor\n",
    "        #http://jonathansoma.com/lede/data-studio/matplotlib/changing-the-background-of-a-pandas-matplotlib-graph/\n",
    "        \"figure.facecolor\": bg_color,\n",
    "        \"figure.figsize\": \", \".join([str(i) for i in figure_size]),\n",
    "        #\"figure.titlesize\": \"large\",\n",
    "        \n",
    "        \"font.family\": [u\"sans-serif\"],\n",
    "        \"font.sans-serif\": [\n",
    "            u\"Arial\",\n",
    "            u\"sans-serif\"\n",
    "        ],\n",
    "        \n",
    "        #\"legend.fancybox\": True,\n",
    "        \"legend.facecolor\": \"red\",\n",
    "        \"legend.framealpha\": .95,\n",
    "        \"legend.fontsize\": \"medium\",\n",
    "        \n",
    "        \"lines.linewidth\": 1.25,\n",
    "        #\"lines.marker\": \"x\",\n",
    "        #\"lines.markersize\": 60,\n",
    "        \n",
    "        \"text.color\": font_color,\n",
    "        \n",
    "        \"xtick.color\": font_color,\n",
    "        #\"xtick.labelsize\": axes_label_size,\n",
    "        #\"xtick.direction\": \"out\",\n",
    "        \n",
    "        \"ytick.color\": font_color\n",
    "        #\"ytick.labelsize\": axes_label_size\n",
    "    }\n",
    ")\n"
   ]
  },
  {
   "cell_type": "markdown",
   "metadata": {},
   "source": [
    "### plotting women's data"
   ]
  },
  {
   "cell_type": "code",
   "execution_count": 17,
   "metadata": {},
   "outputs": [
    {
     "data": {
      "text/html": [
       "<div>\n",
       "<style>\n",
       "    .dataframe thead tr:only-child th {\n",
       "        text-align: right;\n",
       "    }\n",
       "\n",
       "    .dataframe thead th {\n",
       "        text-align: left;\n",
       "    }\n",
       "\n",
       "    .dataframe tbody tr th {\n",
       "        vertical-align: top;\n",
       "    }\n",
       "</style>\n",
       "<table border=\"1\" class=\"dataframe\">\n",
       "  <thead>\n",
       "    <tr style=\"text-align: right;\">\n",
       "      <th></th>\n",
       "      <th>back_squat_lbs</th>\n",
       "      <th>clean_and_jerk_lbs</th>\n",
       "      <th>snatch_lbs</th>\n",
       "      <th>deadlift_lbs</th>\n",
       "    </tr>\n",
       "  </thead>\n",
       "  <tbody>\n",
       "    <tr>\n",
       "      <th>0</th>\n",
       "      <td>282</td>\n",
       "      <td>207</td>\n",
       "      <td>190</td>\n",
       "      <td>315</td>\n",
       "    </tr>\n",
       "    <tr>\n",
       "      <th>1</th>\n",
       "      <td>300</td>\n",
       "      <td>231</td>\n",
       "      <td>200</td>\n",
       "      <td>365</td>\n",
       "    </tr>\n",
       "    <tr>\n",
       "      <th>2</th>\n",
       "      <td>315</td>\n",
       "      <td>220</td>\n",
       "      <td>175</td>\n",
       "      <td>355</td>\n",
       "    </tr>\n",
       "    <tr>\n",
       "      <th>3</th>\n",
       "      <td>225</td>\n",
       "      <td>170</td>\n",
       "      <td>135</td>\n",
       "      <td>305</td>\n",
       "    </tr>\n",
       "    <tr>\n",
       "      <th>4</th>\n",
       "      <td>210</td>\n",
       "      <td>160</td>\n",
       "      <td>110</td>\n",
       "      <td>335</td>\n",
       "    </tr>\n",
       "    <tr>\n",
       "      <th>5</th>\n",
       "      <td>315</td>\n",
       "      <td>220</td>\n",
       "      <td>169</td>\n",
       "      <td>352</td>\n",
       "    </tr>\n",
       "    <tr>\n",
       "      <th>6</th>\n",
       "      <td>230</td>\n",
       "      <td>180</td>\n",
       "      <td>130</td>\n",
       "      <td>350</td>\n",
       "    </tr>\n",
       "    <tr>\n",
       "      <th>7</th>\n",
       "      <td>255</td>\n",
       "      <td>185</td>\n",
       "      <td>160</td>\n",
       "      <td>315</td>\n",
       "    </tr>\n",
       "    <tr>\n",
       "      <th>8</th>\n",
       "      <td>250</td>\n",
       "      <td>190</td>\n",
       "      <td>160</td>\n",
       "      <td>300</td>\n",
       "    </tr>\n",
       "    <tr>\n",
       "      <th>9</th>\n",
       "      <td>225</td>\n",
       "      <td>160</td>\n",
       "      <td>125</td>\n",
       "      <td>250</td>\n",
       "    </tr>\n",
       "  </tbody>\n",
       "</table>\n",
       "</div>"
      ],
      "text/plain": [
       "   back_squat_lbs  clean_and_jerk_lbs  snatch_lbs  deadlift_lbs\n",
       "0             282                 207         190           315\n",
       "1             300                 231         200           365\n",
       "2             315                 220         175           355\n",
       "3             225                 170         135           305\n",
       "4             210                 160         110           335\n",
       "5             315                 220         169           352\n",
       "6             230                 180         130           350\n",
       "7             255                 185         160           315\n",
       "8             250                 190         160           300\n",
       "9             225                 160         125           250"
      ]
     },
     "execution_count": 17,
     "metadata": {},
     "output_type": "execute_result"
    }
   ],
   "source": [
    "#show sample of data\n",
    "womens_lifts_df.head(10)"
   ]
  },
  {
   "cell_type": "code",
   "execution_count": 18,
   "metadata": {},
   "outputs": [
    {
     "data": {
      "image/png": "[encoded data removed]",
      "text/plain": [
       "<matplotlib.figure.Figure at 0x15434fd2f98>"
      ]
     },
     "metadata": {},
     "output_type": "display_data"
    }
   ],
   "source": [
    "#plot each lift\n",
    "for c in womens_lifts_df.columns:\n",
    "    #fit plot\n",
    "    #fit, ax = plt.subplots(facecolor = \"black\")\n",
    "    sb.distplot(np.array(womens_lifts_df[c]), bins=25, label=c[:-4].replace(\"_\", \" \"))\n",
    "    #label axes and add to labels for legend\n",
    "    plt.xlabel(c)\n",
    "    #grid\n",
    "    plt.grid(True)\n",
    "    #title\n",
    "    plt.title(c.replace(\"_\", \" \").title() + \" Distribution\")\n",
    "#this is the same for all\n",
    "plt.xlabel(\"weight (lbs)\")\n",
    "plt.ylabel(\"frequency\")\n",
    "#axes bounds\n",
    "plt.axis([50, 450, 0, 0.03])\n",
    "#legend (.get_frame().set_alpha() sets the backgroudn on the legend)\n",
    "leg = plt.legend()\n",
    "for t in leg.get_texts():\n",
    "    t.set_color(font_color)\n",
    "#plt.legend().get_frame().set_alpha(.95)\n",
    "#show\n",
    "plt.show()"
   ]
  },
  {
   "cell_type": "markdown",
   "metadata": {},
   "source": [
    "## scoring athletes basedon performance\n",
    "Athlete scoring has been written in a separate module called `scorer`. The scorer.py file can be found in this repo, and contains in-depth documentation of how athletes are evaluated. The scoring metric implemented in very similar (but not identical) to that of the CrossFit leaderboard.\n",
    "\n",
    "One important thing to note is that the leaderboard function was written to reduce repetitive code as much as possible. Therefore, in order to avoid opening connections this notebook within `try` blocks and having to close them and monitor exceptions, the leaderboard expects to open the database connection on it's own.\n",
    "Given this, the leaderboard function expects a list containing the required database credentials, where the order is the same as that of the `pms.connect()` parameter list in `grab_data()` (host, user, passwd, db, charset)."
   ]
  },
  {
   "cell_type": "code",
   "execution_count": 19,
   "metadata": {
    "collapsed": true
   },
   "outputs": [],
   "source": [
    "import importlib\n",
    "\n",
    "# use for implementing custom modules\n",
    "import sys\n",
    "sys.path.insert(0, \"./custom_modules/\")\n",
    "\n",
    "import scorer"
   ]
  },
  {
   "cell_type": "code",
   "execution_count": 20,
   "metadata": {
    "collapsed": true
   },
   "outputs": [],
   "source": [
    "open_keys = [\n",
    "    \"leaderboard_{}\".format(c) for c in [\n",
    "        \"18_1_reps\",\n",
    "        \"18_2_time_secs\",\n",
    "        \"18_2a_weight_lbs\",\n",
    "        \"18_3_time_secs\",\n",
    "        \"18_4_time_secs\",\n",
    "        \"18_5_reps\"\n",
    "    ]\n",
    "]"
   ]
  },
  {
   "cell_type": "markdown",
   "metadata": {},
   "source": [
    "### boy's 16-17 leaderboard\n",
    "The below codeblock shows the requirements in order to request a leaderboard. Here, I've gone into the `division` table ahead of time and found that the Boy's (16-17) leaderboard has `id=16`."
   ]
  },
  {
   "cell_type": "code",
   "execution_count": 21,
   "metadata": {},
   "outputs": [
    {
     "data": {
      "text/html": [
       "<div>\n",
       "<style>\n",
       "    .dataframe thead tr:only-child th {\n",
       "        text-align: right;\n",
       "    }\n",
       "\n",
       "    .dataframe thead th {\n",
       "        text-align: left;\n",
       "    }\n",
       "\n",
       "    .dataframe tbody tr th {\n",
       "        vertical-align: top;\n",
       "    }\n",
       "</style>\n",
       "<table border=\"1\" class=\"dataframe\">\n",
       "  <thead>\n",
       "    <tr style=\"text-align: right;\">\n",
       "      <th></th>\n",
       "      <th>id</th>\n",
       "      <th>name</th>\n",
       "      <th>leaderboard_18_1_reps</th>\n",
       "      <th>leaderboard_18_2_time_secs</th>\n",
       "      <th>leaderboard_18_2a_weight_lbs</th>\n",
       "      <th>leaderboard_18_3_time_secs</th>\n",
       "      <th>leaderboard_18_4_time_secs</th>\n",
       "      <th>leaderboard_18_5_reps</th>\n",
       "      <th>points</th>\n",
       "    </tr>\n",
       "  </thead>\n",
       "  <tbody>\n",
       "    <tr>\n",
       "      <th>86</th>\n",
       "      <td>671093</td>\n",
       "      <td>DALLIN PEPPER</td>\n",
       "      <td>416</td>\n",
       "      <td>265</td>\n",
       "      <td>301</td>\n",
       "      <td>1073</td>\n",
       "      <td>576</td>\n",
       "      <td>147</td>\n",
       "      <td>40</td>\n",
       "    </tr>\n",
       "    <tr>\n",
       "      <th>78</th>\n",
       "      <td>655641</td>\n",
       "      <td>ZACH MAYER</td>\n",
       "      <td>392</td>\n",
       "      <td>298</td>\n",
       "      <td>307</td>\n",
       "      <td>1076</td>\n",
       "      <td>568</td>\n",
       "      <td>152</td>\n",
       "      <td>43</td>\n",
       "    </tr>\n",
       "    <tr>\n",
       "      <th>4</th>\n",
       "      <td>382282</td>\n",
       "      <td>DYLAN KADE</td>\n",
       "      <td>402</td>\n",
       "      <td>295</td>\n",
       "      <td>278</td>\n",
       "      <td>1076</td>\n",
       "      <td>572</td>\n",
       "      <td>152</td>\n",
       "      <td>72</td>\n",
       "    </tr>\n",
       "    <tr>\n",
       "      <th>369</th>\n",
       "      <td>901799</td>\n",
       "      <td>NICK TUNZI</td>\n",
       "      <td>384</td>\n",
       "      <td>305</td>\n",
       "      <td>322</td>\n",
       "      <td>1097</td>\n",
       "      <td>571</td>\n",
       "      <td>140</td>\n",
       "      <td>91</td>\n",
       "    </tr>\n",
       "    <tr>\n",
       "      <th>65</th>\n",
       "      <td>623552</td>\n",
       "      <td>VINCENT RAMIREZ</td>\n",
       "      <td>390</td>\n",
       "      <td>304</td>\n",
       "      <td>290</td>\n",
       "      <td>1057</td>\n",
       "      <td>546</td>\n",
       "      <td>135</td>\n",
       "      <td>91</td>\n",
       "    </tr>\n",
       "  </tbody>\n",
       "</table>\n",
       "</div>"
      ],
      "text/plain": [
       "         id             name  leaderboard_18_1_reps  \\\n",
       "86   671093    DALLIN PEPPER                    416   \n",
       "78   655641       ZACH MAYER                    392   \n",
       "4    382282       DYLAN KADE                    402   \n",
       "369  901799       NICK TUNZI                    384   \n",
       "65   623552  VINCENT RAMIREZ                    390   \n",
       "\n",
       "     leaderboard_18_2_time_secs  leaderboard_18_2a_weight_lbs  \\\n",
       "86                          265                           301   \n",
       "78                          298                           307   \n",
       "4                           295                           278   \n",
       "369                         305                           322   \n",
       "65                          304                           290   \n",
       "\n",
       "     leaderboard_18_3_time_secs  leaderboard_18_4_time_secs  \\\n",
       "86                         1073                         576   \n",
       "78                         1076                         568   \n",
       "4                          1076                         572   \n",
       "369                        1097                         571   \n",
       "65                         1057                         546   \n",
       "\n",
       "     leaderboard_18_5_reps  points  \n",
       "86                     147      40  \n",
       "78                     152      43  \n",
       "4                      152      72  \n",
       "369                    140      91  \n",
       "65                     135      91  "
      ]
     },
     "execution_count": 21,
     "metadata": {},
     "output_type": "execute_result"
    }
   ],
   "source": [
    "#database credentials\n",
    "creds = [db_host, db_user, db_pass, db_name, db_charset]\n",
    "#may need to reimport scorer module if changing code inside it between runs\n",
    "importlib.reload(scorer)\n",
    "#boys open leaderboard\n",
    "scorer.leaderboard(16, 0, [\"id\", \"name\"] + open_keys, creds).head(5)"
   ]
  },
  {
   "cell_type": "markdown",
   "metadata": {},
   "source": [
    "## the difference between top ranges of athletes\n",
    "The Open is meant to test general physical preparedness on an accessible level. Athletes send their scores in online, and are ranked according to how well they score based on their fellow in-division competitors. I'm going to plot the worst-performing and highest-performing range for each open leaderboard below. This range will outline the amount of variance between workouts at the highest end of competition. This range will be outlined and shaded.\n",
    "\n",
    "Within this range, I'll also plot a select few lines, which are representative of select athletes' scores, or average scores for select athlete ranges (average of top 100 for example)."
   ]
  },
  {
   "cell_type": "code",
   "execution_count": 22,
   "metadata": {},
   "outputs": [
    {
     "data": {
      "text/html": [
       "<div>\n",
       "<style>\n",
       "    .dataframe thead tr:only-child th {\n",
       "        text-align: right;\n",
       "    }\n",
       "\n",
       "    .dataframe thead th {\n",
       "        text-align: left;\n",
       "    }\n",
       "\n",
       "    .dataframe tbody tr th {\n",
       "        vertical-align: top;\n",
       "    }\n",
       "</style>\n",
       "<table border=\"1\" class=\"dataframe\">\n",
       "  <thead>\n",
       "    <tr style=\"text-align: right;\">\n",
       "      <th></th>\n",
       "      <th>id</th>\n",
       "      <th>name</th>\n",
       "      <th>leaderboard_18_1_reps</th>\n",
       "      <th>leaderboard_18_2_time_secs</th>\n",
       "      <th>leaderboard_18_2a_weight_lbs</th>\n",
       "      <th>leaderboard_18_3_time_secs</th>\n",
       "      <th>leaderboard_18_4_time_secs</th>\n",
       "      <th>leaderboard_18_5_reps</th>\n",
       "      <th>points</th>\n",
       "    </tr>\n",
       "  </thead>\n",
       "  <tbody>\n",
       "    <tr>\n",
       "      <th>2404</th>\n",
       "      <td>153604</td>\n",
       "      <td>MATHEW FRASER</td>\n",
       "      <td>476</td>\n",
       "      <td>242</td>\n",
       "      <td>380</td>\n",
       "      <td>852</td>\n",
       "      <td>399</td>\n",
       "      <td>198</td>\n",
       "      <td>92</td>\n",
       "    </tr>\n",
       "    <tr>\n",
       "      <th>2692</th>\n",
       "      <td>180541</td>\n",
       "      <td>ALEX VIGNEAULT</td>\n",
       "      <td>472</td>\n",
       "      <td>258</td>\n",
       "      <td>382</td>\n",
       "      <td>952</td>\n",
       "      <td>408</td>\n",
       "      <td>179</td>\n",
       "      <td>420</td>\n",
       "    </tr>\n",
       "    <tr>\n",
       "      <th>8324</th>\n",
       "      <td>702092</td>\n",
       "      <td>WILLY GEORGES</td>\n",
       "      <td>460</td>\n",
       "      <td>257</td>\n",
       "      <td>364</td>\n",
       "      <td>892</td>\n",
       "      <td>501</td>\n",
       "      <td>188</td>\n",
       "      <td>553</td>\n",
       "    </tr>\n",
       "    <tr>\n",
       "      <th>4606</th>\n",
       "      <td>308712</td>\n",
       "      <td>JEAN-SIMON ROY-LEMAIRE</td>\n",
       "      <td>468</td>\n",
       "      <td>238</td>\n",
       "      <td>346</td>\n",
       "      <td>952</td>\n",
       "      <td>463</td>\n",
       "      <td>178</td>\n",
       "      <td>576</td>\n",
       "    </tr>\n",
       "    <tr>\n",
       "      <th>2459</th>\n",
       "      <td>158264</td>\n",
       "      <td>PATRICK VELLNER</td>\n",
       "      <td>476</td>\n",
       "      <td>246</td>\n",
       "      <td>343</td>\n",
       "      <td>851</td>\n",
       "      <td>409</td>\n",
       "      <td>174</td>\n",
       "      <td>597</td>\n",
       "    </tr>\n",
       "  </tbody>\n",
       "</table>\n",
       "</div>"
      ],
      "text/plain": [
       "          id                    name  leaderboard_18_1_reps  \\\n",
       "2404  153604           MATHEW FRASER                    476   \n",
       "2692  180541          ALEX VIGNEAULT                    472   \n",
       "8324  702092           WILLY GEORGES                    460   \n",
       "4606  308712  JEAN-SIMON ROY-LEMAIRE                    468   \n",
       "2459  158264         PATRICK VELLNER                    476   \n",
       "\n",
       "      leaderboard_18_2_time_secs  leaderboard_18_2a_weight_lbs  \\\n",
       "2404                         242                           380   \n",
       "2692                         258                           382   \n",
       "8324                         257                           364   \n",
       "4606                         238                           346   \n",
       "2459                         246                           343   \n",
       "\n",
       "      leaderboard_18_3_time_secs  leaderboard_18_4_time_secs  \\\n",
       "2404                         852                         399   \n",
       "2692                         952                         408   \n",
       "8324                         892                         501   \n",
       "4606                         952                         463   \n",
       "2459                         851                         409   \n",
       "\n",
       "      leaderboard_18_5_reps  points  \n",
       "2404                    198      92  \n",
       "2692                    179     420  \n",
       "8324                    188     553  \n",
       "4606                    178     576  \n",
       "2459                    174     597  "
      ]
     },
     "execution_count": 22,
     "metadata": {},
     "output_type": "execute_result"
    }
   ],
   "source": [
    "#use men's division for rest of notebook (athlete profiles tend to be more complete)\n",
    "working_division_id = 1\n",
    "working_leaderboard = scorer.leaderboard(working_division_id, 0, [\"id\", \"name\"] + open_keys, creds)\n",
    "working_leaderboard.head(5)"
   ]
  },
  {
   "cell_type": "markdown",
   "metadata": {},
   "source": [
    "<img src=\"images/mens_leaderboard_comparison.png\" />"
   ]
  },
  {
   "cell_type": "markdown",
   "metadata": {},
   "source": [
    "The following function is used as a helper to turn data from Pandas dataframes into MySQL parseable queries. Note that again, it'd just be easier to do this in Pandas, but I'm trying to increase my SQL utility."
   ]
  },
  {
   "cell_type": "code",
   "execution_count": 26,
   "metadata": {
    "collapsed": true
   },
   "outputs": [],
   "source": [
    "from dataframer import grab_top_n_summarizer_data"
   ]
  },
  {
   "cell_type": "markdown",
   "metadata": {},
   "source": [
    "### filtering the data\n",
    "Let's grab the data corresponding to the top athletes from the database. We'll do this by filtering athletes based on IDs in the men's leaderboard."
   ]
  },
  {
   "cell_type": "code",
   "execution_count": 27,
   "metadata": {},
   "outputs": [
    {
     "ename": "TypeError",
     "evalue": "grab_top_n_summarizer_data() takes 4 positional arguments but 5 were given",
     "output_type": "error",
     "traceback": [
      "\u001b[1;31m---------------------------------------------------------------------------\u001b[0m",
      "\u001b[1;31mTypeError\u001b[0m                                 Traceback (most recent call last)",
      "\u001b[1;32m<ipython-input-27-7fa191ca0cde>\u001b[0m in \u001b[0;36m<module>\u001b[1;34m()\u001b[0m\n\u001b[0;32m      4\u001b[0m \u001b[1;31m#[top10min, top10max, top10avg, top100min, ...]\u001b[0m\u001b[1;33m\u001b[0m\u001b[1;33m\u001b[0m\u001b[0m\n\u001b[0;32m      5\u001b[0m result = [grab_top_n_summarizer_data(n, working_division_id, f, working_leaderboard, creds)\n\u001b[1;32m----> 6\u001b[1;33m               for n in ranges for f in funcs]\n\u001b[0m",
      "\u001b[1;32m<ipython-input-27-7fa191ca0cde>\u001b[0m in \u001b[0;36m<listcomp>\u001b[1;34m(.0)\u001b[0m\n\u001b[0;32m      4\u001b[0m \u001b[1;31m#[top10min, top10max, top10avg, top100min, ...]\u001b[0m\u001b[1;33m\u001b[0m\u001b[1;33m\u001b[0m\u001b[0m\n\u001b[0;32m      5\u001b[0m result = [grab_top_n_summarizer_data(n, working_division_id, f, working_leaderboard, creds)\n\u001b[1;32m----> 6\u001b[1;33m               for n in ranges for f in funcs]\n\u001b[0m",
      "\u001b[1;31mTypeError\u001b[0m: grab_top_n_summarizer_data() takes 4 positional arguments but 5 were given"
     ]
    }
   ],
   "source": [
    "ranges = [10, 250, 5000]\n",
    "funcs = [\"MIN\", \"MAX\", \"AVG\"]\n",
    "#resulting dataframes are ordered as follows:\n",
    "#[top10min, top10max, top10avg, top100min, ...]\n",
    "result = [grab_top_n_summarizer_data(n, working_division_id, f, working_leaderboard, creds)\n",
    "              for n in ranges for f in funcs]"
   ]
  },
  {
   "cell_type": "code",
   "execution_count": null,
   "metadata": {
    "collapsed": true
   },
   "outputs": [],
   "source": [
    "result[0]"
   ]
  },
  {
   "cell_type": "markdown",
   "metadata": {},
   "source": [
    "### plotting the top 10 ([source](https://matplotlib.org/examples/pylab_examples/fill_between_demo.html))\n",
    "Below the data is plotted "
   ]
  },
  {
   "cell_type": "code",
   "execution_count": null,
   "metadata": {
    "collapsed": true
   },
   "outputs": [],
   "source": [
    "working_leaderboard.iloc[1000][\"name\"]"
   ]
  },
  {
   "cell_type": "code",
   "execution_count": null,
   "metadata": {
    "collapsed": true,
    "scrolled": false
   },
   "outputs": [],
   "source": [
    "#colors for [lo bounds, lo specific, lo shade, mid bounds, ...]\n",
    "highlight_colors = [\"#ff0059\", \"#00ff99\"]\n",
    "bounding_colors = [\"#33ccff\", \"#00bbff\"]\n",
    "marker = \"x\"\n",
    "\n",
    "#plot specific athletes' data\n",
    "working_measure_columns = [c for c in working_leaderboard.columns\n",
    "                               if c.endswith(\"secs\") or c.endswith(\"reps\") or c.endswith(\"lbs\")]\n",
    "working_athletes = [pd.DataFrame(working_leaderboard.iloc[i][working_measure_columns]).transpose()\n",
    "                        for i in [0, 1000]]\n",
    "\n",
    "#plot range of top athletes\n",
    "for i in [6,7]:\n",
    "    sb.pointplot(data=result[i], color=bounding_colors[0], linestyles=[\"--\"], markersize=60)\n",
    "\n",
    "#shading\n",
    "xlim = int(plt.xlim()[1]) + 1\n",
    "fill_range = np.array([i for i in range(xlim)])\n",
    "plt.fill_between(\n",
    "    fill_range,\n",
    "    result[6].values[0],\n",
    "    result[7].values[0],\n",
    "    color=bounding_colors[1],\n",
    "    alpha=.3\n",
    ")\n",
    "\n",
    "#plot each athlete\n",
    "for i in range(len(working_athletes)):\n",
    "    sb.pointplot(\n",
    "        data=working_athletes[len(working_athletes) - 1 - i],\n",
    "        color=highlight_colors[len(highlight_colors) - 1 - i],\n",
    "        markers=marker\n",
    "        #scale=1\n",
    "    )\n",
    "    plt.xlabel(working_leaderboard.iloc[i][\"name\"])\n",
    "\n",
    "plt.xlabel(\"metric\")\n",
    "plt.ylabel(\"points\")\n",
    "plt.title(\"Working Leaderboard Metric Measurements\")\n",
    "plt.xticks(rotation=45)\n",
    "plt.grid(True)\n",
    "plt.legend()\n",
    "plt.show()"
   ]
  },
  {
   "cell_type": "code",
   "execution_count": null,
   "metadata": {
    "collapsed": true,
    "scrolled": true
   },
   "outputs": [],
   "source": [
    "working_athletes[0]"
   ]
  },
  {
   "cell_type": "markdown",
   "metadata": {},
   "source": [
    "## the impact of height and weight\n",
    "One of CrossFit's biggest appeals is that anybody can do it. Whether you're old or young, fat or thin, tall or short, there's usually a scalable alternative to some movement. However, one of the sport's biggest criticisms is that within specific divisions, there's no weight class. Divisions solely split up athletes based on gender and age. Because we have the data, we can see the impact variables like height and weight have on Open scoring.\n",
    "\n",
    "Below we'll show a heatmap representation of this data. [But first](https://www.youtube.com/watch?v=kdemFfbS5H0&feature=youtu.be&t=36s), let's look at a distribution of the height and weight data.\n",
    "\n",
    "### grabbing height/weight data from the working table"
   ]
  },
  {
   "cell_type": "code",
   "execution_count": null,
   "metadata": {
    "collapsed": true
   },
   "outputs": [],
   "source": [
    "height_weight_points = working_leaderboard[[\"id\", \"name\", \"points\"]].merge(\n",
    "    grab_data(\n",
    "        \"\"\"\n",
    "            SELECT id, height_in, weight_lbs FROM athlete\n",
    "                WHERE id IN ({}) AND\n",
    "                height_in >= 50 AND\n",
    "                height_in <= 84 AND\n",
    "                weight_lbs >= 100 AND\n",
    "                weight_lbs <= 300;\n",
    "        \"\"\"\n",
    "        .format(\n",
    "            \", \".join([str(x) for x in list(working_leaderboard[\"id\"])])\n",
    "        ),\n",
    "        creds\n",
    "    )\n",
    ")"
   ]
  },
  {
   "cell_type": "code",
   "execution_count": null,
   "metadata": {
    "collapsed": true
   },
   "outputs": [],
   "source": [
    "height_weight_points.head(5)"
   ]
  },
  {
   "cell_type": "markdown",
   "metadata": {},
   "source": [
    "### plotting the distributions"
   ]
  },
  {
   "cell_type": "code",
   "execution_count": null,
   "metadata": {
    "collapsed": true
   },
   "outputs": [],
   "source": [
    "height_weight_cols = [\"height_in\", \"weight_lbs\"]\n",
    "#height_weight_axis_ranges = [[50, 100, 0, 3000], [50, 300, 0, 2000]]\n",
    "height_weight_bins = [10, 40]\n",
    "#plot each lift\n",
    "for i in range(len(height_weight_cols)):\n",
    "    #fit plot\n",
    "    sb.distplot(\n",
    "        np.array(height_weight_points[height_weight_cols[i]]),\n",
    "        bins=height_weight_bins[i],\n",
    "        label=c[:-4].replace(\"_\", \" \"),\n",
    "        hist_kws = {\n",
    "            \"normed\": True\n",
    "        }\n",
    "    )\n",
    "    #label axes and add to labels for legend\n",
    "    plt.xlabel(height_weight_cols[i])\n",
    "    #grid\n",
    "    plt.grid(True)\n",
    "    #title\n",
    "    plt.title(height_weight_cols[i].replace(\"_\", \" \").title() + \" Distribution\")\n",
    "    #axis display range\n",
    "    #plt.axis(height_weight_axis_ranges[i])\n",
    "    #showing/labeling\n",
    "    plt.xlabel(height_weight_cols[i])\n",
    "    plt.ylabel(\"frequency\")\n",
    "    plt.show()"
   ]
  },
  {
   "cell_type": "markdown",
   "metadata": {},
   "source": [
    "### partitioning the height/weight data into bins\n",
    "The below function abstracts the specific logic for height/weight partitioning into a more generalized form, allowing us to create partitions for *any* dataframe with 2 numeric columns to plot against *any* numeric predictor column."
   ]
  },
  {
   "cell_type": "code",
   "execution_count": null,
   "metadata": {
    "collapsed": true
   },
   "outputs": [],
   "source": [
    "def get_data_for_heatmap(c1, bins1, c2, bins2, vals, df, min_entries=0, return_mask=True):\n",
    "    \"\"\"\n",
    "    For a given dataframe with 2 numeric columns c1 and c2,\n",
    "    this function will\n",
    "        1. Partition c1 into bins1 and c2 into bins2 partitions\n",
    "        2. Split each row from df into 1 of both the bins1 x bins2\n",
    "            categorical assignments\n",
    "        3. Average the values of the vals column for members in a\n",
    "            a specific i,j referencing (some bins1, bins2 assignment)\n",
    "        4. Convert the aggregated data of i,j,k\n",
    "            (bins1 assignment, bins2 assignment, vals assignment) into\n",
    "            a dataframe\n",
    "        5. If remove_invalid is True, remove any values with an average\n",
    "            specified by -1, which occurs when some (bin1_i, bin2_j)\n",
    "            filter has no entries\n",
    "        6. Return dataframe (pivoted version)\n",
    "    If min entries is specified > 0, then when a specific filter\n",
    "    produces less than min entries rows, the filter (bin1_i, bin2_j)\n",
    "    will not have an average.\n",
    "    \"\"\"\n",
    "    #data\n",
    "    data = []\n",
    "    #partitions\n",
    "    parts = []\n",
    "    #columns and bins\n",
    "    cols = [c1, c2]\n",
    "    bins = [bins1, bins2]\n",
    "    #print(cols)\n",
    "    #print(bins)\n",
    "    #create partitions\n",
    "    for i in range(len(cols)):\n",
    "        parts.append(\n",
    "            pd.cut(\n",
    "                df[cols[i]], bins[i], retbins=True\n",
    "            )[1]\n",
    "        )\n",
    "    #round partitions to 1 decimal place\n",
    "    for i in range(len(parts)):\n",
    "        for j in range(len(parts[i])):\n",
    "            parts[i][j] = round(parts[i][j], 1)\n",
    "    \n",
    "    print(parts[0])\n",
    "    print(parts[1])\n",
    "    #aggregate vals averages\n",
    "    for i in range(len(parts[0]) - 1):\n",
    "        for j in range(len(parts[1]) - 1):\n",
    "            #filtered values columns\n",
    "            filtered = df[\n",
    "                        #leftbound(1) < col1 and col1 <= rightbound(1)\n",
    "                        (parts[0][i] <= df[cols[0]]) & (df[cols[0]] < parts[0][i+1])\n",
    "                        &\n",
    "                        #leftbound(2) < col2 and col2 <= rightbound(2)\n",
    "                        (parts[1][j] <= df[cols[1]]) & (df[cols[1]] < parts[1][j+1])\n",
    "            ][vals]\n",
    "            mean = -1\n",
    "            #produce mean if desired\n",
    "            if min_entries <= len(filtered):\n",
    "                #cant convert to integer for case when min_entries is 0\n",
    "                mean = round(np.mean(filtered), 0)\n",
    "                if 0 < min_entries:\n",
    "                    mean = int(mean)\n",
    "\n",
    "            #append data\n",
    "            data.append(\n",
    "                [\n",
    "                    #column 1 ranges (categorical)\n",
    "                    \"({}, {}]\".format(str(int(parts[0][i])).zfill(4), str(int(parts[0][i+1])).zfill(4)),\n",
    "                    #column 2 ranges (categorical)\n",
    "                    \"({}, {}]\".format(str(int(parts[1][j])).zfill(4), str(int(parts[1][j+1])).zfill(4)),\n",
    "                    #mean\n",
    "                    mean\n",
    "                ]\n",
    "            )\n",
    "\n",
    "    #return data\n",
    "    result_df = pd.DataFrame(data, columns=[c1, c2, vals]).pivot(c1, c2, vals)\n",
    "    if not return_mask:\n",
    "        return result_df\n",
    "    \n",
    "    #if mask desired, produce\n",
    "    mask = np.zeros_like(result_df.values)\n",
    "    for i in range(len(mask)):\n",
    "        for j in range(len(mask[i])):\n",
    "            mask[i][j] = 0 if result_df.values[i][j] != -1 else 1\n",
    "    return result_df, mask"
   ]
  },
  {
   "cell_type": "markdown",
   "metadata": {},
   "source": [
    "### heatmapping height, weight, and Open points\n",
    "Now that the we have the function, lets apply it to height/weight and these variables' relationships with Open points."
   ]
  },
  {
   "cell_type": "code",
   "execution_count": null,
   "metadata": {
    "collapsed": true
   },
   "outputs": [],
   "source": [
    "#grab data for heatmap\n",
    "height_weight_heatmap_df, height_weight_heatmap_mask = get_data_for_heatmap(\n",
    "    height_weight_cols[0], 10,\n",
    "    height_weight_cols[1], 10,\n",
    "    \"points\",\n",
    "    height_weight_points,\n",
    "    min_entries=5,\n",
    "    return_mask=True\n",
    ")\n",
    "#do this to customize figure size\n",
    "#fig, ax = plt.subplots()\n",
    "#fig.set_size_inches(\n",
    "#plot heatmap\n",
    "#sb.heatmap(height_weight_heatmap_df, annot=True, fmt=\".2f\", linewidths=.5)\n",
    "with sb.axes_style(\"white\"):\n",
    "    sb.heatmap(height_weight_heatmap_df, mask=height_weight_heatmap_mask, annot=False, linewidths=1)\n",
    "    plt.xticks(rotation=45)\n",
    "    plt.show()"
   ]
  },
  {
   "cell_type": "markdown",
   "metadata": {},
   "source": [
    "### applying heatmaps to other leaderboards\n",
    "A benchmark CrossFit workout is Fran. The workout scheme is as follows 21 thrusters, 21 pullups, 15 thrusters, 15 pullups, 9 thrusters, 9 pullups, or\n",
    "* 21, 15, 9\n",
    "    * thrusters\n",
    "    * pullups\n",
    "To some extent, you thruster and pullup strength could be associated with your clean and jerk (afterall, your thruster is just a clean and jerk without the pull from the floor, and your clean strength could loosely translate to pulling power). Additionally, because Fran is so fast and intense, the speed requirement is similar to that of a 400-800m sprint.\n",
    "\n",
    "Let's see if there's any type of relationship between clean and jerk strength, 400m sprint times, and Fran scores."
   ]
  },
  {
   "cell_type": "code",
   "execution_count": null,
   "metadata": {
    "collapsed": true
   },
   "outputs": [],
   "source": [
    "#get custom leaderboard\n",
    "cj_400_fran = working_leaderboard[[\"id\", \"name\",]].merge(\n",
    "    grab_data(\n",
    "        \"\"\"\n",
    "            SELECT id, clean_and_jerk_lbs as cj, sprint_400_m_time_secs as 400m, fran_time_secs as fran\n",
    "                FROM athlete WHERE\n",
    "                    id IN ({}) AND\n",
    "                    clean_and_jerk_lbs >= 45 AND\n",
    "                    clean_and_jerk_lbs <= 600 AND\n",
    "                    sprint_400_m_time_secs >= 40 AND\n",
    "                    sprint_400_m_time_secs <= 120 AND\n",
    "                    fran_time_secs < 300 AND\n",
    "                    fran_time_secs > 60;\n",
    "        \"\"\"\n",
    "        .format(\n",
    "            \", \".join([str(x) for x in list(working_leaderboard[\"id\"])])\n",
    "        ),\n",
    "        creds\n",
    "    )\n",
    ")\n",
    "print(\"Entries: {}\".format(len(cj_400_fran)))\n",
    "cj_400_fran.head(5)"
   ]
  },
  {
   "cell_type": "code",
   "execution_count": null,
   "metadata": {
    "collapsed": true
   },
   "outputs": [],
   "source": [
    "cj_400_fran_heatmap_df, cj_400_fran_mask = get_data_for_heatmap(\n",
    "    \"cj\", 10, \"400m\", 8, \"fran\", cj_400_fran, min_entries=5, return_mask=True\n",
    ")\n",
    "cj_400_fran_heatmap_df"
   ]
  },
  {
   "cell_type": "code",
   "execution_count": null,
   "metadata": {
    "collapsed": true,
    "scrolled": false
   },
   "outputs": [],
   "source": [
    "with sb.axes_style(\"white\"):\n",
    "    sb.heatmap(\n",
    "        cj_400_fran_heatmap_df,\n",
    "        mask=cj_400_fran_mask,\n",
    "        fmt=\"0\",\n",
    "        annot=True,\n",
    "        linewidth=1\n",
    "    )"
   ]
  },
  {
   "cell_type": "markdown",
   "metadata": {},
   "source": [
    "## overlapping densities in weightlifting\n",
    "Because of CrossFit's scalability, weight for specific metcons usually varies between divisions (on average). However, metrics which measure pure strength are easy to compare against one another. Let's use a [joy plot](https://seaborn.pydata.org/examples/kde_joyplot.html) from the Seaborn library to show the density distribution for all male divisions for CrossFit's athlete profile lifts: snatch, clean and jerk, back squat, and deadlift.\n",
    "\n",
    "### grab the men's data"
   ]
  },
  {
   "cell_type": "code",
   "execution_count": null,
   "metadata": {
    "collapsed": true
   },
   "outputs": [],
   "source": [
    "mens_lifts = grab_data(\n",
    "    \"\"\"\n",
    "        SELECT\n",
    "            a.id as id,\n",
    "            division,\n",
    "            d.id as 'division id',\n",
    "            snatch_lbs as snatch,\n",
    "            clean_and_jerk_lbs as 'clean and jerk',\n",
    "            back_squat_lbs as squat,\n",
    "            deadlift_lbs as deadlift\n",
    "        FROM athlete AS a\n",
    "        INNER JOIN division AS d\n",
    "        ON a.division_id = d.id\n",
    "        WHERE\n",
    "            division_id IN (1, 3, 5, 7, 9, 12, 14, 16, 18) AND\n",
    "            snatch_lbs > 0 AND\n",
    "            snatch_lbs < 600 AND\n",
    "            clean_and_jerk_lbs > 0 AND\n",
    "            clean_and_jerk_lbs < 700 AND\n",
    "            back_squat_lbs > 0 AND\n",
    "            deadlift_lbs > 0;\n",
    "    \"\"\",\n",
    "    creds\n",
    ")\n",
    "mens_lifts.head(5)"
   ]
  },
  {
   "cell_type": "markdown",
   "metadata": {},
   "source": [
    "### retargeting the data\n",
    "Although any of these individual lifts will do, we'll be plotting the olympic total. This is comprised of the sum of the snatch and clean and jerk."
   ]
  },
  {
   "cell_type": "code",
   "execution_count": null,
   "metadata": {
    "collapsed": true
   },
   "outputs": [],
   "source": [
    "mens_totals = pd.DataFrame(mens_lifts.drop([\"squat\", \"deadlift\"], axis=1))\n",
    "mens_totals[\"total\"] = mens_totals[\"snatch\"] + mens_totals[\"clean and jerk\"]\n",
    "mens_totals = mens_totals.drop([\"snatch\", \"clean and jerk\"], axis=1)\n",
    "mens_totals.head(5)"
   ]
  },
  {
   "cell_type": "markdown",
   "metadata": {},
   "source": [
    "### plotting men's olympic total distribution\n",
    "Below we use the previously mentioned joy plot to plot the different men's divisions olympic total distributions. This plot is based off of [this example](https://seaborn.pydata.org/examples/kde_joyplot.html)."
   ]
  },
  {
   "cell_type": "code",
   "execution_count": null,
   "metadata": {
    "collapsed": true
   },
   "outputs": [],
   "source": [
    "#initialize facetgrid\n",
    "pal = sb.cubehelix_palette(9, rot=-.25, light=.7)\n",
    "facetgrid = sb.FacetGrid(mens_totals, row=\"division\", hue=\"division\", aspect=15, size=1, palette=pal)\n",
    "\n",
    "#draw densities\n",
    "facetgrid.map(sb.kdeplot, \"total\", clip_on=False, shade=True, alpha=1, lw=1.5, bw=.2)\n",
    "facetgrid.map(sb.kdeplot, \"total\", clip_on=False, color=\"w\", lw=2, bw=.2)\n",
    "facetgrid.map(plt.axhline, y=0, lw=2, clip_on=False)\n",
    "\n",
    "#define function for labeling in axes coordinates\n",
    "def custom_label(x, color, label):\n",
    "    ax = plt.gca()\n",
    "    ax.text(0, .2, label, fontweight=\"bold\", color=color, ha=\"right\", va=\"center\", transform=ax.transAxes)\n",
    "\n",
    "facetgrid.map(custom_label, \"total\")\n",
    "\n",
    "#set plots to overlap\n",
    "facetgrid.fig.subplots_adjust(hspace=1)\n",
    "\n",
    "#remove axes details\n",
    "facetgrid.set_titles(\"\")\n",
    "facetgrid.set(yticks=[])\n",
    "facetgrid.despine(bottom=True, left=True)\n",
    "plt.show()"
   ]
  }
 ],
 "metadata": {
  "kernelspec": {
   "display_name": "Python 3",
   "language": "python",
   "name": "python3"
  },
  "language_info": {
   "codemirror_mode": {
    "name": "ipython",
    "version": 3
   },
   "file_extension": ".py",
   "mimetype": "text/x-python",
   "name": "python",
   "nbconvert_exporter": "python",
   "pygments_lexer": "ipython3",
   "version": "3.5.4"
  }
 },
 "nbformat": 4,
 "nbformat_minor": 2
}
